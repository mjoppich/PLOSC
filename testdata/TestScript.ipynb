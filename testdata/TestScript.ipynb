{
 "cells": [
  {
   "cell_type": "code",
   "execution_count": 2,
   "id": "95b97231-bcb2-4fe5-967c-e3b4b86031aa",
   "metadata": {},
   "outputs": [
    {
     "data": {
      "text/html": [
       "'F:/dev/git/PLOSC/testdata'"
      ],
      "text/latex": [
       "'F:/dev/git/PLOSC/testdata'"
      ],
      "text/markdown": [
       "'F:/dev/git/PLOSC/testdata'"
      ],
      "text/plain": [
       "[1] \"F:/dev/git/PLOSC/testdata\""
      ]
     },
     "metadata": {},
     "output_type": "display_data"
    }
   ],
   "source": [
    "getwd()"
   ]
  },
  {
   "cell_type": "code",
   "execution_count": 3,
   "id": "8a63494c-51af-4873-b329-0f34028925da",
   "metadata": {},
   "outputs": [
    {
     "name": "stderr",
     "output_type": "stream",
     "text": [
      "Downloading GitHub repo mjoppich/PLOSC@HEAD\n",
      "\n"
     ]
    },
    {
     "name": "stdout",
     "output_type": "stream",
     "text": [
      "\u001b[36m──\u001b[39m \u001b[36mR CMD build\u001b[39m \u001b[36m─────────────────────────────────────────────────────────────────────────────────────────────────────────\u001b[39m\n",
      "\u001b[32m✔\u001b[39m  \u001b[90mchecking for file 'C:\\Users\\mjopp\\AppData\\Local\\Temp\\RtmpYX3kqq\\remotesa95c320014bd\\mjoppich-PLOSC-5a3caff/DESCRIPTION'\u001b[39m\u001b[36m\u001b[39m\n",
      "\u001b[90m─\u001b[39m\u001b[90m  \u001b[39m\u001b[90mpreparing 'PLOSC':\u001b[39m\u001b[36m\u001b[36m (336ms)\u001b[36m\u001b[39m\n",
      "\u001b[32m✔\u001b[39m  \u001b[90mchecking DESCRIPTION meta-information\u001b[39m\u001b[36m\u001b[39m\n",
      "\u001b[90m─\u001b[39m\u001b[90m  \u001b[39m\u001b[90mchecking for LF line-endings in source and make files and shell scripts\u001b[39m\u001b[36m\u001b[39m\n",
      "\u001b[90m─\u001b[39m\u001b[90m  \u001b[39m\u001b[90mchecking for empty or unneeded directories\u001b[39m\u001b[36m\u001b[39m\n",
      "\u001b[90m─\u001b[39m\u001b[90m  \u001b[39m\u001b[90mbuilding 'PLOSC_0.0.0.9000.tar.gz'\u001b[39m\u001b[36m\u001b[39m\n",
      "   \n",
      "\r"
     ]
    }
   ],
   "source": [
    "remotes::install_github(\"mjoppich/PLOSC\", force=TRUE, upgrade=\"never\")"
   ]
  },
  {
   "cell_type": "code",
   "execution_count": 4,
   "id": "7011a6f7",
   "metadata": {
    "lines_to_next_cell": 2
   },
   "outputs": [
    {
     "name": "stderr",
     "output_type": "stream",
     "text": [
      "The legacy packages maptools, rgdal, and rgeos, underpinning the sp package,\n",
      "which was just loaded, will retire in October 2023.\n",
      "Please refer to R-spatial evolution reports for details, especially\n",
      "https://r-spatial.org/r/2023/05/15/evolution4.html.\n",
      "It may be desirable to make the sf package available;\n",
      "package maintainers should consider adding sf to Suggests:.\n",
      "The sp package is now running under evolution status 2\n",
      "     (status 2 uses the sf package in place of rgdal)\n",
      "\n",
      "Attaching SeuratObject\n",
      "\n"
     ]
    }
   ],
   "source": [
    "\n",
    "# install.packages(\"hdf5r\")\n",
    "# BiocManager::install(c(\"biomaRt\", \"clusterProfiler\", \"ReactomePA\", \"org.Hs.eg.db\", \"org.Mm.eg.db\", \"ComplexHeatmap\", \"enrichplot\", \"EnhancedVolcano\"))\n",
    "# remotes::install_github(\"mjoppich/PLOSC\")\n",
    "\n",
    "library(\"Seurat\")\n",
    "library(\"PLOSC\")\n"
   ]
  },
  {
   "cell_type": "code",
   "execution_count": 5,
   "id": "3a8f42c9",
   "metadata": {},
   "outputs": [
    {
     "name": "stdout",
     "output_type": "stream",
     "text": [
      "[1] \"20094_0001 T:/scdata/covid_sc_cellranger/h5files/20094_0001_A_B_raw_feature_bc_matrix.new.h5\"\n"
     ]
    },
    {
     "name": "stderr",
     "output_type": "stream",
     "text": [
      "Genome matrix has multiple modalities, returning a list of matrices for this genome\n",
      "\n"
     ]
    },
    {
     "name": "stdout",
     "output_type": "stream",
     "text": [
      "[1] \"WITH AB 20094_0001\"\n",
      "[1] \"20094_0001 36601 x 6794880 genes x cells\"\n",
      "[1] \"20094_0002 T:/scdata/covid_sc_cellranger/h5files/20094_0002_A_B_raw_feature_bc_matrix.new.h5\"\n"
     ]
    },
    {
     "name": "stderr",
     "output_type": "stream",
     "text": [
      "Genome matrix has multiple modalities, returning a list of matrices for this genome\n",
      "\n"
     ]
    },
    {
     "name": "stdout",
     "output_type": "stream",
     "text": [
      "[1] \"WITH AB 20094_0002\"\n",
      "[1] \"20094_0002 36601 x 6794880 genes x cells\"\n",
      "[1] \"20094_0003 T:/scdata/covid_sc_cellranger/h5files/20094_0003_A_B_raw_feature_bc_matrix.new.h5\"\n"
     ]
    },
    {
     "name": "stderr",
     "output_type": "stream",
     "text": [
      "Genome matrix has multiple modalities, returning a list of matrices for this genome\n",
      "\n"
     ]
    },
    {
     "name": "stdout",
     "output_type": "stream",
     "text": [
      "[1] \"WITH AB 20094_0003\"\n",
      "[1] \"20094_0003 36601 x 6794880 genes x cells\"\n",
      "[1] \"20094_0004 T:/scdata/covid_sc_cellranger/h5files/20094_0004_A_B_raw_feature_bc_matrix.new.h5\"\n"
     ]
    },
    {
     "name": "stderr",
     "output_type": "stream",
     "text": [
      "Genome matrix has multiple modalities, returning a list of matrices for this genome\n",
      "\n"
     ]
    },
    {
     "name": "stdout",
     "output_type": "stream",
     "text": [
      "[1] \"WITH AB 20094_0004\"\n",
      "[1] \"20094_0004 36601 x 6794880 genes x cells\"\n",
      "[1] \"20094_0005 T:/scdata/covid_sc_cellranger/h5files/20094_0005_A_B_raw_feature_bc_matrix.new.h5\"\n"
     ]
    },
    {
     "name": "stderr",
     "output_type": "stream",
     "text": [
      "Genome matrix has multiple modalities, returning a list of matrices for this genome\n",
      "\n"
     ]
    },
    {
     "name": "stdout",
     "output_type": "stream",
     "text": [
      "[1] \"WITH AB 20094_0005\"\n",
      "[1] \"20094_0005 36601 x 6794880 genes x cells\"\n",
      "[1] \"20094_0006 T:/scdata/covid_sc_cellranger/h5files/20094_0006_A_B_raw_feature_bc_matrix.new.h5\"\n"
     ]
    },
    {
     "name": "stderr",
     "output_type": "stream",
     "text": [
      "Genome matrix has multiple modalities, returning a list of matrices for this genome\n",
      "\n"
     ]
    },
    {
     "name": "stdout",
     "output_type": "stream",
     "text": [
      "[1] \"WITH AB 20094_0006\"\n",
      "[1] \"20094_0006 36601 x 6794880 genes x cells\"\n",
      "[1] \"20094_0007 T:/scdata/covid_sc_cellranger/h5files/20094_0007_A_B_raw_feature_bc_matrix.new.h5\"\n"
     ]
    },
    {
     "name": "stderr",
     "output_type": "stream",
     "text": [
      "Genome matrix has multiple modalities, returning a list of matrices for this genome\n",
      "\n"
     ]
    },
    {
     "name": "stdout",
     "output_type": "stream",
     "text": [
      "[1] \"WITH AB 20094_0007\"\n",
      "[1] \"20094_0007 36601 x 6794880 genes x cells\"\n",
      "[1] \"20094_0008 T:/scdata/covid_sc_cellranger/h5files/20094_0008_A_B_raw_feature_bc_matrix.new.h5\"\n"
     ]
    },
    {
     "name": "stderr",
     "output_type": "stream",
     "text": [
      "Genome matrix has multiple modalities, returning a list of matrices for this genome\n",
      "\n"
     ]
    },
    {
     "name": "stdout",
     "output_type": "stream",
     "text": [
      "[1] \"WITH AB 20094_0008\"\n",
      "[1] \"20094_0008 36601 x 6794880 genes x cells\"\n",
      "[1] \"20094_0009 T:/scdata/covid_sc_cellranger/h5files/20094_0009_A_B_raw_feature_bc_matrix.new.h5\"\n"
     ]
    },
    {
     "name": "stderr",
     "output_type": "stream",
     "text": [
      "Genome matrix has multiple modalities, returning a list of matrices for this genome\n",
      "\n"
     ]
    },
    {
     "name": "stdout",
     "output_type": "stream",
     "text": [
      "[1] \"WITH AB 20094_0009\"\n",
      "[1] \"20094_0009 36601 x 6794880 genes x cells\"\n",
      "[1] \"20094_0012 T:/scdata/covid_sc_cellranger/h5files/20094_0012_A_B_raw_feature_bc_matrix.new.h5\"\n"
     ]
    },
    {
     "name": "stderr",
     "output_type": "stream",
     "text": [
      "Genome matrix has multiple modalities, returning a list of matrices for this genome\n",
      "\n"
     ]
    },
    {
     "name": "stdout",
     "output_type": "stream",
     "text": [
      "[1] \"WITH AB 20094_0012\"\n",
      "[1] \"20094_0012 36601 x 6794880 genes x cells\"\n"
     ]
    }
   ],
   "source": [
    "\n",
    "files <- Sys.glob(\"T:/scdata/covid_sc_cellranger/h5files/*.h5\")\n",
    "inputMatrices = readH5Files(files, sample_element=5, sample_processor=function(x){return(substr(x, 1, 10))})\n"
   ]
  },
  {
   "cell_type": "code",
   "execution_count": 6,
   "id": "b94b086b",
   "metadata": {
    "lines_to_next_cell": 2
   },
   "outputs": [
    {
     "name": "stdout",
     "output_type": "stream",
     "text": [
      "[1] \"Renaming Cells\"\n",
      "[1] \"Seurat obj project 20094_0001\"\n",
      "[1] \"Got a total of mt-Genes: 13 MT-ND1, MT-ND2, MT-CO1, MT-CO2, MT-ATP8, MT-ATP6\"\n",
      "[1] \"Got a total of Rpl-Genes: 54 RPL22, RPL11, RPL5, RPL31, RPL37A, RPL32\"\n",
      "[1] \"Got a total of Rps-Genes: 49 RPS6KA1, RPS8, RPS27, RPS6KC1, RPS7, RPS27A\"\n",
      "[1] \"Got a total of Rp-Genes: 103 RPL22, RPL11, RPS6KA1, RPS8, RPL5, RPS27\"\n",
      "[1] \"20094_0001\"\n",
      "An object of class Seurat \n",
      "36601 features across 6794880 samples within 1 assay \n",
      "Active assay: RNA (36601 features, 3000 variable features)\n",
      "[1] \"Renaming Cells\"\n",
      "[1] \"Seurat obj project 20094_0002\"\n",
      "[1] \"Got a total of mt-Genes: 13 MT-ND1, MT-ND2, MT-CO1, MT-CO2, MT-ATP8, MT-ATP6\"\n",
      "[1] \"Got a total of Rpl-Genes: 54 RPL22, RPL11, RPL5, RPL31, RPL37A, RPL32\"\n",
      "[1] \"Got a total of Rps-Genes: 49 RPS6KA1, RPS8, RPS27, RPS6KC1, RPS7, RPS27A\"\n",
      "[1] \"Got a total of Rp-Genes: 103 RPL22, RPL11, RPS6KA1, RPS8, RPL5, RPS27\"\n",
      "[1] \"20094_0002\"\n",
      "An object of class Seurat \n",
      "36601 features across 6794880 samples within 1 assay \n",
      "Active assay: RNA (36601 features, 3000 variable features)\n",
      "[1] \"Renaming Cells\"\n",
      "[1] \"Seurat obj project 20094_0003\"\n",
      "[1] \"Got a total of mt-Genes: 13 MT-ND1, MT-ND2, MT-CO1, MT-CO2, MT-ATP8, MT-ATP6\"\n",
      "[1] \"Got a total of Rpl-Genes: 54 RPL22, RPL11, RPL5, RPL31, RPL37A, RPL32\"\n",
      "[1] \"Got a total of Rps-Genes: 49 RPS6KA1, RPS8, RPS27, RPS6KC1, RPS7, RPS27A\"\n",
      "[1] \"Got a total of Rp-Genes: 103 RPL22, RPL11, RPS6KA1, RPS8, RPL5, RPS27\"\n",
      "[1] \"20094_0003\"\n",
      "An object of class Seurat \n",
      "36601 features across 6794880 samples within 1 assay \n",
      "Active assay: RNA (36601 features, 3000 variable features)\n",
      "[1] \"Renaming Cells\"\n",
      "[1] \"Seurat obj project 20094_0004\"\n",
      "[1] \"Got a total of mt-Genes: 13 MT-ND1, MT-ND2, MT-CO1, MT-CO2, MT-ATP8, MT-ATP6\"\n",
      "[1] \"Got a total of Rpl-Genes: 54 RPL22, RPL11, RPL5, RPL31, RPL37A, RPL32\"\n",
      "[1] \"Got a total of Rps-Genes: 49 RPS6KA1, RPS8, RPS27, RPS6KC1, RPS7, RPS27A\"\n",
      "[1] \"Got a total of Rp-Genes: 103 RPL22, RPL11, RPS6KA1, RPS8, RPL5, RPS27\"\n",
      "[1] \"20094_0004\"\n",
      "An object of class Seurat \n",
      "36601 features across 6794880 samples within 1 assay \n",
      "Active assay: RNA (36601 features, 3000 variable features)\n",
      "[1] \"Renaming Cells\"\n",
      "[1] \"Seurat obj project 20094_0005\"\n",
      "[1] \"Got a total of mt-Genes: 13 MT-ND1, MT-ND2, MT-CO1, MT-CO2, MT-ATP8, MT-ATP6\"\n",
      "[1] \"Got a total of Rpl-Genes: 54 RPL22, RPL11, RPL5, RPL31, RPL37A, RPL32\"\n",
      "[1] \"Got a total of Rps-Genes: 49 RPS6KA1, RPS8, RPS27, RPS6KC1, RPS7, RPS27A\"\n",
      "[1] \"Got a total of Rp-Genes: 103 RPL22, RPL11, RPS6KA1, RPS8, RPL5, RPS27\"\n",
      "[1] \"20094_0005\"\n",
      "An object of class Seurat \n",
      "36601 features across 6794880 samples within 1 assay \n",
      "Active assay: RNA (36601 features, 3000 variable features)\n",
      "[1] \"Renaming Cells\"\n",
      "[1] \"Seurat obj project 20094_0006\"\n",
      "[1] \"Got a total of mt-Genes: 13 MT-ND1, MT-ND2, MT-CO1, MT-CO2, MT-ATP8, MT-ATP6\"\n",
      "[1] \"Got a total of Rpl-Genes: 54 RPL22, RPL11, RPL5, RPL31, RPL37A, RPL32\"\n",
      "[1] \"Got a total of Rps-Genes: 49 RPS6KA1, RPS8, RPS27, RPS6KC1, RPS7, RPS27A\"\n",
      "[1] \"Got a total of Rp-Genes: 103 RPL22, RPL11, RPS6KA1, RPS8, RPL5, RPS27\"\n",
      "[1] \"20094_0006\"\n",
      "An object of class Seurat \n",
      "36601 features across 6794880 samples within 1 assay \n",
      "Active assay: RNA (36601 features, 3000 variable features)\n",
      "[1] \"Renaming Cells\"\n",
      "[1] \"Seurat obj project 20094_0007\"\n",
      "[1] \"Got a total of mt-Genes: 13 MT-ND1, MT-ND2, MT-CO1, MT-CO2, MT-ATP8, MT-ATP6\"\n",
      "[1] \"Got a total of Rpl-Genes: 54 RPL22, RPL11, RPL5, RPL31, RPL37A, RPL32\"\n",
      "[1] \"Got a total of Rps-Genes: 49 RPS6KA1, RPS8, RPS27, RPS6KC1, RPS7, RPS27A\"\n",
      "[1] \"Got a total of Rp-Genes: 103 RPL22, RPL11, RPS6KA1, RPS8, RPL5, RPS27\"\n",
      "[1] \"20094_0007\"\n",
      "An object of class Seurat \n",
      "36601 features across 6794880 samples within 1 assay \n",
      "Active assay: RNA (36601 features, 3000 variable features)\n",
      "[1] \"Renaming Cells\"\n",
      "[1] \"Seurat obj project 20094_0008\"\n",
      "[1] \"Got a total of mt-Genes: 13 MT-ND1, MT-ND2, MT-CO1, MT-CO2, MT-ATP8, MT-ATP6\"\n",
      "[1] \"Got a total of Rpl-Genes: 54 RPL22, RPL11, RPL5, RPL31, RPL37A, RPL32\"\n",
      "[1] \"Got a total of Rps-Genes: 49 RPS6KA1, RPS8, RPS27, RPS6KC1, RPS7, RPS27A\"\n",
      "[1] \"Got a total of Rp-Genes: 103 RPL22, RPL11, RPS6KA1, RPS8, RPL5, RPS27\"\n",
      "[1] \"20094_0008\"\n",
      "An object of class Seurat \n",
      "36601 features across 6794880 samples within 1 assay \n",
      "Active assay: RNA (36601 features, 3000 variable features)\n",
      "[1] \"Renaming Cells\"\n",
      "[1] \"Seurat obj project 20094_0009\"\n",
      "[1] \"Got a total of mt-Genes: 13 MT-ND1, MT-ND2, MT-CO1, MT-CO2, MT-ATP8, MT-ATP6\"\n",
      "[1] \"Got a total of Rpl-Genes: 54 RPL22, RPL11, RPL5, RPL31, RPL37A, RPL32\"\n",
      "[1] \"Got a total of Rps-Genes: 49 RPS6KA1, RPS8, RPS27, RPS6KC1, RPS7, RPS27A\"\n",
      "[1] \"Got a total of Rp-Genes: 103 RPL22, RPL11, RPS6KA1, RPS8, RPL5, RPS27\"\n",
      "[1] \"20094_0009\"\n",
      "An object of class Seurat \n",
      "36601 features across 6794880 samples within 1 assay \n",
      "Active assay: RNA (36601 features, 3000 variable features)\n",
      "[1] \"Renaming Cells\"\n",
      "[1] \"Seurat obj project 20094_0012\"\n",
      "[1] \"Got a total of mt-Genes: 13 MT-ND1, MT-ND2, MT-CO1, MT-CO2, MT-ATP8, MT-ATP6\"\n",
      "[1] \"Got a total of Rpl-Genes: 54 RPL22, RPL11, RPL5, RPL31, RPL37A, RPL32\"\n",
      "[1] \"Got a total of Rps-Genes: 49 RPS6KA1, RPS8, RPS27, RPS6KC1, RPS7, RPS27A\"\n",
      "[1] \"Got a total of Rp-Genes: 103 RPL22, RPL11, RPS6KA1, RPS8, RPL5, RPS27\"\n",
      "[1] \"20094_0012\"\n",
      "An object of class Seurat \n",
      "36601 features across 6794880 samples within 1 assay \n",
      "Active assay: RNA (36601 features, 3000 variable features)\n"
     ]
    }
   ],
   "source": [
    "\n",
    "objlist.raw = toObjList(inputMatrices, patternList_human(), 3000)\n",
    "\n"
   ]
  },
  {
   "cell_type": "code",
   "execution_count": 7,
   "id": "87ea6cec",
   "metadata": {},
   "outputs": [
    {
     "name": "stdout",
     "output_type": "stream",
     "text": [
      "[1] \"20094_0001\"\n"
     ]
    },
    {
     "name": "stderr",
     "output_type": "stream",
     "text": [
      "Rasterizing points since number of points exceeds 100,000.\n",
      "To disable this behavior set `raster=FALSE`\n",
      "\n",
      "Rasterizing points since number of points exceeds 100,000.\n",
      "To disable this behavior set `raster=FALSE`\n",
      "\n"
     ]
    },
    {
     "name": "stdout",
     "output_type": "stream",
     "text": [
      "[1] \"20094_0001_scatter_ncount_mt 10 6\"\n",
      "[1] \"Saving to file 20094_0001_scatter_ncount_mt.png\"\n"
     ]
    },
    {
     "name": "stderr",
     "output_type": "stream",
     "text": [
      "Warning message:\n",
      "\"\u001b[1m\u001b[22mRemoved 5852225 rows containing missing values (`geom_scattermore()`).\"\n"
     ]
    },
    {
     "name": "stdout",
     "output_type": "stream",
     "text": [
      "[1] \"Saving to file 20094_0001_scatter_ncount_mt.pdf\"\n"
     ]
    },
    {
     "name": "stderr",
     "output_type": "stream",
     "text": [
      "Warning message:\n",
      "\"\u001b[1m\u001b[22mRemoved 5852225 rows containing missing values (`geom_scattermore()`).\"\n"
     ]
    },
    {
     "name": "stdout",
     "output_type": "stream",
     "text": [
      "[1] \"Saving to file 20094_0001_scatter_ncount_mt.svg\"\n"
     ]
    },
    {
     "name": "stderr",
     "output_type": "stream",
     "text": [
      "Warning message:\n",
      "\"\u001b[1m\u001b[22mRemoved 5852225 rows containing missing values (`geom_scattermore()`).\"\n"
     ]
    },
    {
     "name": "stdout",
     "output_type": "stream",
     "text": [
      "[1] \"Saving to file 20094_0001_scatter_ncount_mt.data\"\n"
     ]
    },
    {
     "name": "stderr",
     "output_type": "stream",
     "text": [
      "Rasterizing points since number of points exceeds 100,000.\n",
      "To disable this behavior set `raster=FALSE`\n",
      "\n",
      "Rasterizing points since number of points exceeds 100,000.\n",
      "To disable this behavior set `raster=FALSE`\n",
      "\n"
     ]
    },
    {
     "name": "stdout",
     "output_type": "stream",
     "text": [
      "[1] \"20094_0001_scatter_ncount_rp 10 6\"\n",
      "[1] \"Saving to file 20094_0001_scatter_ncount_rp.png\"\n"
     ]
    },
    {
     "name": "stderr",
     "output_type": "stream",
     "text": [
      "Warning message:\n",
      "\"\u001b[1m\u001b[22mRemoved 5852225 rows containing missing values (`geom_scattermore()`).\"\n"
     ]
    },
    {
     "name": "stdout",
     "output_type": "stream",
     "text": [
      "[1] \"Saving to file 20094_0001_scatter_ncount_rp.pdf\"\n"
     ]
    },
    {
     "name": "stderr",
     "output_type": "stream",
     "text": [
      "Warning message:\n",
      "\"\u001b[1m\u001b[22mRemoved 5852225 rows containing missing values (`geom_scattermore()`).\"\n"
     ]
    },
    {
     "name": "stdout",
     "output_type": "stream",
     "text": [
      "[1] \"Saving to file 20094_0001_scatter_ncount_rp.svg\"\n"
     ]
    },
    {
     "name": "stderr",
     "output_type": "stream",
     "text": [
      "Warning message:\n",
      "\"\u001b[1m\u001b[22mRemoved 5852225 rows containing missing values (`geom_scattermore()`).\"\n"
     ]
    },
    {
     "name": "stdout",
     "output_type": "stream",
     "text": [
      "[1] \"Saving to file 20094_0001_scatter_ncount_rp.data\"\n",
      "[1] \"20094_0002\"\n"
     ]
    },
    {
     "name": "stderr",
     "output_type": "stream",
     "text": [
      "Rasterizing points since number of points exceeds 100,000.\n",
      "To disable this behavior set `raster=FALSE`\n",
      "\n",
      "Rasterizing points since number of points exceeds 100,000.\n",
      "To disable this behavior set `raster=FALSE`\n",
      "\n"
     ]
    },
    {
     "name": "stdout",
     "output_type": "stream",
     "text": [
      "[1] \"20094_0002_scatter_ncount_mt 10 6\"\n",
      "[1] \"Saving to file 20094_0002_scatter_ncount_mt.png\"\n"
     ]
    },
    {
     "name": "stderr",
     "output_type": "stream",
     "text": [
      "Warning message:\n",
      "\"\u001b[1m\u001b[22mRemoved 5792141 rows containing missing values (`geom_scattermore()`).\"\n"
     ]
    },
    {
     "name": "stdout",
     "output_type": "stream",
     "text": [
      "[1] \"Saving to file 20094_0002_scatter_ncount_mt.pdf\"\n"
     ]
    },
    {
     "name": "stderr",
     "output_type": "stream",
     "text": [
      "Warning message:\n",
      "\"\u001b[1m\u001b[22mRemoved 5792141 rows containing missing values (`geom_scattermore()`).\"\n"
     ]
    },
    {
     "name": "stdout",
     "output_type": "stream",
     "text": [
      "[1] \"Saving to file 20094_0002_scatter_ncount_mt.svg\"\n"
     ]
    },
    {
     "name": "stderr",
     "output_type": "stream",
     "text": [
      "Warning message:\n",
      "\"\u001b[1m\u001b[22mRemoved 5792141 rows containing missing values (`geom_scattermore()`).\"\n"
     ]
    },
    {
     "name": "stdout",
     "output_type": "stream",
     "text": [
      "[1] \"Saving to file 20094_0002_scatter_ncount_mt.data\"\n"
     ]
    },
    {
     "name": "stderr",
     "output_type": "stream",
     "text": [
      "Rasterizing points since number of points exceeds 100,000.\n",
      "To disable this behavior set `raster=FALSE`\n",
      "\n",
      "Rasterizing points since number of points exceeds 100,000.\n",
      "To disable this behavior set `raster=FALSE`\n",
      "\n"
     ]
    },
    {
     "name": "stdout",
     "output_type": "stream",
     "text": [
      "[1] \"20094_0002_scatter_ncount_rp 10 6\"\n",
      "[1] \"Saving to file 20094_0002_scatter_ncount_rp.png\"\n"
     ]
    },
    {
     "name": "stderr",
     "output_type": "stream",
     "text": [
      "Warning message:\n",
      "\"\u001b[1m\u001b[22mRemoved 5792141 rows containing missing values (`geom_scattermore()`).\"\n"
     ]
    },
    {
     "name": "stdout",
     "output_type": "stream",
     "text": [
      "[1] \"Saving to file 20094_0002_scatter_ncount_rp.pdf\"\n"
     ]
    },
    {
     "name": "stderr",
     "output_type": "stream",
     "text": [
      "Warning message:\n",
      "\"\u001b[1m\u001b[22mRemoved 5792141 rows containing missing values (`geom_scattermore()`).\"\n"
     ]
    },
    {
     "name": "stdout",
     "output_type": "stream",
     "text": [
      "[1] \"Saving to file 20094_0002_scatter_ncount_rp.svg\"\n"
     ]
    },
    {
     "name": "stderr",
     "output_type": "stream",
     "text": [
      "Warning message:\n",
      "\"\u001b[1m\u001b[22mRemoved 5792141 rows containing missing values (`geom_scattermore()`).\"\n"
     ]
    },
    {
     "name": "stdout",
     "output_type": "stream",
     "text": [
      "[1] \"Saving to file 20094_0002_scatter_ncount_rp.data\"\n",
      "[1] \"20094_0003\"\n"
     ]
    },
    {
     "name": "stderr",
     "output_type": "stream",
     "text": [
      "Rasterizing points since number of points exceeds 100,000.\n",
      "To disable this behavior set `raster=FALSE`\n",
      "\n",
      "Rasterizing points since number of points exceeds 100,000.\n",
      "To disable this behavior set `raster=FALSE`\n",
      "\n"
     ]
    },
    {
     "name": "stdout",
     "output_type": "stream",
     "text": [
      "[1] \"20094_0003_scatter_ncount_mt 10 6\"\n",
      "[1] \"Saving to file 20094_0003_scatter_ncount_mt.png\"\n"
     ]
    },
    {
     "name": "stderr",
     "output_type": "stream",
     "text": [
      "Warning message:\n",
      "\"\u001b[1m\u001b[22mRemoved 5903932 rows containing missing values (`geom_scattermore()`).\"\n"
     ]
    },
    {
     "name": "stdout",
     "output_type": "stream",
     "text": [
      "[1] \"Saving to file 20094_0003_scatter_ncount_mt.pdf\"\n"
     ]
    },
    {
     "name": "stderr",
     "output_type": "stream",
     "text": [
      "Warning message:\n",
      "\"\u001b[1m\u001b[22mRemoved 5903932 rows containing missing values (`geom_scattermore()`).\"\n"
     ]
    },
    {
     "name": "stdout",
     "output_type": "stream",
     "text": [
      "[1] \"Saving to file 20094_0003_scatter_ncount_mt.svg\"\n"
     ]
    },
    {
     "name": "stderr",
     "output_type": "stream",
     "text": [
      "Warning message:\n",
      "\"\u001b[1m\u001b[22mRemoved 5903932 rows containing missing values (`geom_scattermore()`).\"\n"
     ]
    },
    {
     "name": "stdout",
     "output_type": "stream",
     "text": [
      "[1] \"Saving to file 20094_0003_scatter_ncount_mt.data\"\n"
     ]
    },
    {
     "name": "stderr",
     "output_type": "stream",
     "text": [
      "Rasterizing points since number of points exceeds 100,000.\n",
      "To disable this behavior set `raster=FALSE`\n",
      "\n",
      "Rasterizing points since number of points exceeds 100,000.\n",
      "To disable this behavior set `raster=FALSE`\n",
      "\n"
     ]
    },
    {
     "name": "stdout",
     "output_type": "stream",
     "text": [
      "[1] \"20094_0003_scatter_ncount_rp 10 6\"\n",
      "[1] \"Saving to file 20094_0003_scatter_ncount_rp.png\"\n"
     ]
    },
    {
     "name": "stderr",
     "output_type": "stream",
     "text": [
      "Warning message:\n",
      "\"\u001b[1m\u001b[22mRemoved 5903932 rows containing missing values (`geom_scattermore()`).\"\n"
     ]
    },
    {
     "name": "stdout",
     "output_type": "stream",
     "text": [
      "[1] \"Saving to file 20094_0003_scatter_ncount_rp.pdf\"\n"
     ]
    },
    {
     "name": "stderr",
     "output_type": "stream",
     "text": [
      "Warning message:\n",
      "\"\u001b[1m\u001b[22mRemoved 5903932 rows containing missing values (`geom_scattermore()`).\"\n"
     ]
    },
    {
     "name": "stdout",
     "output_type": "stream",
     "text": [
      "[1] \"Saving to file 20094_0003_scatter_ncount_rp.svg\"\n"
     ]
    },
    {
     "name": "stderr",
     "output_type": "stream",
     "text": [
      "Warning message:\n",
      "\"\u001b[1m\u001b[22mRemoved 5903932 rows containing missing values (`geom_scattermore()`).\"\n"
     ]
    },
    {
     "name": "stdout",
     "output_type": "stream",
     "text": [
      "[1] \"Saving to file 20094_0003_scatter_ncount_rp.data\"\n",
      "[1] \"20094_0004\"\n"
     ]
    },
    {
     "name": "stderr",
     "output_type": "stream",
     "text": [
      "Rasterizing points since number of points exceeds 100,000.\n",
      "To disable this behavior set `raster=FALSE`\n",
      "\n",
      "Rasterizing points since number of points exceeds 100,000.\n",
      "To disable this behavior set `raster=FALSE`\n",
      "\n"
     ]
    },
    {
     "name": "stdout",
     "output_type": "stream",
     "text": [
      "[1] \"20094_0004_scatter_ncount_mt 10 6\"\n",
      "[1] \"Saving to file 20094_0004_scatter_ncount_mt.png\"\n"
     ]
    },
    {
     "name": "stderr",
     "output_type": "stream",
     "text": [
      "Warning message:\n",
      "\"\u001b[1m\u001b[22mRemoved 6030651 rows containing missing values (`geom_scattermore()`).\"\n"
     ]
    },
    {
     "name": "stdout",
     "output_type": "stream",
     "text": [
      "[1] \"Saving to file 20094_0004_scatter_ncount_mt.pdf\"\n"
     ]
    },
    {
     "name": "stderr",
     "output_type": "stream",
     "text": [
      "Warning message:\n",
      "\"\u001b[1m\u001b[22mRemoved 6030651 rows containing missing values (`geom_scattermore()`).\"\n"
     ]
    },
    {
     "name": "stdout",
     "output_type": "stream",
     "text": [
      "[1] \"Saving to file 20094_0004_scatter_ncount_mt.svg\"\n"
     ]
    },
    {
     "name": "stderr",
     "output_type": "stream",
     "text": [
      "Warning message:\n",
      "\"\u001b[1m\u001b[22mRemoved 6030651 rows containing missing values (`geom_scattermore()`).\"\n"
     ]
    },
    {
     "name": "stdout",
     "output_type": "stream",
     "text": [
      "[1] \"Saving to file 20094_0004_scatter_ncount_mt.data\"\n"
     ]
    },
    {
     "name": "stderr",
     "output_type": "stream",
     "text": [
      "Rasterizing points since number of points exceeds 100,000.\n",
      "To disable this behavior set `raster=FALSE`\n",
      "\n",
      "Rasterizing points since number of points exceeds 100,000.\n",
      "To disable this behavior set `raster=FALSE`\n",
      "\n"
     ]
    },
    {
     "name": "stdout",
     "output_type": "stream",
     "text": [
      "[1] \"20094_0004_scatter_ncount_rp 10 6\"\n",
      "[1] \"Saving to file 20094_0004_scatter_ncount_rp.png\"\n"
     ]
    },
    {
     "name": "stderr",
     "output_type": "stream",
     "text": [
      "Warning message:\n",
      "\"\u001b[1m\u001b[22mRemoved 6030651 rows containing missing values (`geom_scattermore()`).\"\n"
     ]
    },
    {
     "name": "stdout",
     "output_type": "stream",
     "text": [
      "[1] \"Saving to file 20094_0004_scatter_ncount_rp.pdf\"\n"
     ]
    },
    {
     "name": "stderr",
     "output_type": "stream",
     "text": [
      "Warning message:\n",
      "\"\u001b[1m\u001b[22mRemoved 6030651 rows containing missing values (`geom_scattermore()`).\"\n"
     ]
    },
    {
     "name": "stdout",
     "output_type": "stream",
     "text": [
      "[1] \"Saving to file 20094_0004_scatter_ncount_rp.svg\"\n"
     ]
    },
    {
     "name": "stderr",
     "output_type": "stream",
     "text": [
      "Warning message:\n",
      "\"\u001b[1m\u001b[22mRemoved 6030651 rows containing missing values (`geom_scattermore()`).\"\n"
     ]
    },
    {
     "name": "stdout",
     "output_type": "stream",
     "text": [
      "[1] \"Saving to file 20094_0004_scatter_ncount_rp.data\"\n",
      "[1] \"20094_0005\"\n"
     ]
    },
    {
     "name": "stderr",
     "output_type": "stream",
     "text": [
      "Rasterizing points since number of points exceeds 100,000.\n",
      "To disable this behavior set `raster=FALSE`\n",
      "\n",
      "Rasterizing points since number of points exceeds 100,000.\n",
      "To disable this behavior set `raster=FALSE`\n",
      "\n"
     ]
    },
    {
     "name": "stdout",
     "output_type": "stream",
     "text": [
      "[1] \"20094_0005_scatter_ncount_mt 10 6\"\n",
      "[1] \"Saving to file 20094_0005_scatter_ncount_mt.png\"\n"
     ]
    },
    {
     "name": "stderr",
     "output_type": "stream",
     "text": [
      "Warning message:\n",
      "\"\u001b[1m\u001b[22mRemoved 5969738 rows containing missing values (`geom_scattermore()`).\"\n"
     ]
    },
    {
     "name": "stdout",
     "output_type": "stream",
     "text": [
      "[1] \"Saving to file 20094_0005_scatter_ncount_mt.pdf\"\n"
     ]
    },
    {
     "name": "stderr",
     "output_type": "stream",
     "text": [
      "Warning message:\n",
      "\"\u001b[1m\u001b[22mRemoved 5969738 rows containing missing values (`geom_scattermore()`).\"\n"
     ]
    },
    {
     "name": "stdout",
     "output_type": "stream",
     "text": [
      "[1] \"Saving to file 20094_0005_scatter_ncount_mt.svg\"\n"
     ]
    },
    {
     "name": "stderr",
     "output_type": "stream",
     "text": [
      "Warning message:\n",
      "\"\u001b[1m\u001b[22mRemoved 5969738 rows containing missing values (`geom_scattermore()`).\"\n"
     ]
    },
    {
     "name": "stdout",
     "output_type": "stream",
     "text": [
      "[1] \"Saving to file 20094_0005_scatter_ncount_mt.data\"\n"
     ]
    },
    {
     "name": "stderr",
     "output_type": "stream",
     "text": [
      "Rasterizing points since number of points exceeds 100,000.\n",
      "To disable this behavior set `raster=FALSE`\n",
      "\n",
      "Rasterizing points since number of points exceeds 100,000.\n",
      "To disable this behavior set `raster=FALSE`\n",
      "\n"
     ]
    },
    {
     "name": "stdout",
     "output_type": "stream",
     "text": [
      "[1] \"20094_0005_scatter_ncount_rp 10 6\"\n",
      "[1] \"Saving to file 20094_0005_scatter_ncount_rp.png\"\n"
     ]
    },
    {
     "name": "stderr",
     "output_type": "stream",
     "text": [
      "Warning message:\n",
      "\"\u001b[1m\u001b[22mRemoved 5969738 rows containing missing values (`geom_scattermore()`).\"\n"
     ]
    },
    {
     "name": "stdout",
     "output_type": "stream",
     "text": [
      "[1] \"Saving to file 20094_0005_scatter_ncount_rp.pdf\"\n"
     ]
    },
    {
     "name": "stderr",
     "output_type": "stream",
     "text": [
      "Warning message:\n",
      "\"\u001b[1m\u001b[22mRemoved 5969738 rows containing missing values (`geom_scattermore()`).\"\n"
     ]
    },
    {
     "name": "stdout",
     "output_type": "stream",
     "text": [
      "[1] \"Saving to file 20094_0005_scatter_ncount_rp.svg\"\n"
     ]
    },
    {
     "name": "stderr",
     "output_type": "stream",
     "text": [
      "Warning message:\n",
      "\"\u001b[1m\u001b[22mRemoved 5969738 rows containing missing values (`geom_scattermore()`).\"\n"
     ]
    },
    {
     "name": "stdout",
     "output_type": "stream",
     "text": [
      "[1] \"Saving to file 20094_0005_scatter_ncount_rp.data\"\n",
      "[1] \"20094_0006\"\n"
     ]
    },
    {
     "name": "stderr",
     "output_type": "stream",
     "text": [
      "Rasterizing points since number of points exceeds 100,000.\n",
      "To disable this behavior set `raster=FALSE`\n",
      "\n",
      "Rasterizing points since number of points exceeds 100,000.\n",
      "To disable this behavior set `raster=FALSE`\n",
      "\n"
     ]
    },
    {
     "name": "stdout",
     "output_type": "stream",
     "text": [
      "[1] \"20094_0006_scatter_ncount_mt 10 6\"\n",
      "[1] \"Saving to file 20094_0006_scatter_ncount_mt.png\"\n"
     ]
    },
    {
     "name": "stderr",
     "output_type": "stream",
     "text": [
      "Warning message:\n",
      "\"\u001b[1m\u001b[22mRemoved 6142271 rows containing missing values (`geom_scattermore()`).\"\n"
     ]
    },
    {
     "name": "stdout",
     "output_type": "stream",
     "text": [
      "[1] \"Saving to file 20094_0006_scatter_ncount_mt.pdf\"\n"
     ]
    },
    {
     "name": "stderr",
     "output_type": "stream",
     "text": [
      "Warning message:\n",
      "\"\u001b[1m\u001b[22mRemoved 6142271 rows containing missing values (`geom_scattermore()`).\"\n"
     ]
    },
    {
     "name": "stdout",
     "output_type": "stream",
     "text": [
      "[1] \"Saving to file 20094_0006_scatter_ncount_mt.svg\"\n"
     ]
    },
    {
     "name": "stderr",
     "output_type": "stream",
     "text": [
      "Warning message:\n",
      "\"\u001b[1m\u001b[22mRemoved 6142271 rows containing missing values (`geom_scattermore()`).\"\n"
     ]
    },
    {
     "name": "stdout",
     "output_type": "stream",
     "text": [
      "[1] \"Saving to file 20094_0006_scatter_ncount_mt.data\"\n"
     ]
    },
    {
     "name": "stderr",
     "output_type": "stream",
     "text": [
      "Rasterizing points since number of points exceeds 100,000.\n",
      "To disable this behavior set `raster=FALSE`\n",
      "\n",
      "Rasterizing points since number of points exceeds 100,000.\n",
      "To disable this behavior set `raster=FALSE`\n",
      "\n"
     ]
    },
    {
     "name": "stdout",
     "output_type": "stream",
     "text": [
      "[1] \"20094_0006_scatter_ncount_rp 10 6\"\n",
      "[1] \"Saving to file 20094_0006_scatter_ncount_rp.png\"\n"
     ]
    },
    {
     "name": "stderr",
     "output_type": "stream",
     "text": [
      "Warning message:\n",
      "\"\u001b[1m\u001b[22mRemoved 6142271 rows containing missing values (`geom_scattermore()`).\"\n"
     ]
    },
    {
     "name": "stdout",
     "output_type": "stream",
     "text": [
      "[1] \"Saving to file 20094_0006_scatter_ncount_rp.pdf\"\n"
     ]
    },
    {
     "name": "stderr",
     "output_type": "stream",
     "text": [
      "Warning message:\n",
      "\"\u001b[1m\u001b[22mRemoved 6142271 rows containing missing values (`geom_scattermore()`).\"\n"
     ]
    },
    {
     "name": "stdout",
     "output_type": "stream",
     "text": [
      "[1] \"Saving to file 20094_0006_scatter_ncount_rp.svg\"\n"
     ]
    },
    {
     "name": "stderr",
     "output_type": "stream",
     "text": [
      "Warning message:\n",
      "\"\u001b[1m\u001b[22mRemoved 6142271 rows containing missing values (`geom_scattermore()`).\"\n"
     ]
    },
    {
     "name": "stdout",
     "output_type": "stream",
     "text": [
      "[1] \"Saving to file 20094_0006_scatter_ncount_rp.data\"\n",
      "[1] \"20094_0007\"\n"
     ]
    },
    {
     "name": "stderr",
     "output_type": "stream",
     "text": [
      "Rasterizing points since number of points exceeds 100,000.\n",
      "To disable this behavior set `raster=FALSE`\n",
      "\n",
      "Rasterizing points since number of points exceeds 100,000.\n",
      "To disable this behavior set `raster=FALSE`\n",
      "\n"
     ]
    },
    {
     "name": "stdout",
     "output_type": "stream",
     "text": [
      "[1] \"20094_0007_scatter_ncount_mt 10 6\"\n",
      "[1] \"Saving to file 20094_0007_scatter_ncount_mt.png\"\n"
     ]
    },
    {
     "name": "stderr",
     "output_type": "stream",
     "text": [
      "Warning message:\n",
      "\"\u001b[1m\u001b[22mRemoved 6165792 rows containing missing values (`geom_scattermore()`).\"\n"
     ]
    },
    {
     "name": "stdout",
     "output_type": "stream",
     "text": [
      "[1] \"Saving to file 20094_0007_scatter_ncount_mt.pdf\"\n"
     ]
    },
    {
     "name": "stderr",
     "output_type": "stream",
     "text": [
      "Warning message:\n",
      "\"\u001b[1m\u001b[22mRemoved 6165792 rows containing missing values (`geom_scattermore()`).\"\n"
     ]
    },
    {
     "name": "stdout",
     "output_type": "stream",
     "text": [
      "[1] \"Saving to file 20094_0007_scatter_ncount_mt.svg\"\n"
     ]
    },
    {
     "name": "stderr",
     "output_type": "stream",
     "text": [
      "Warning message:\n",
      "\"\u001b[1m\u001b[22mRemoved 6165792 rows containing missing values (`geom_scattermore()`).\"\n"
     ]
    },
    {
     "name": "stdout",
     "output_type": "stream",
     "text": [
      "[1] \"Saving to file 20094_0007_scatter_ncount_mt.data\"\n"
     ]
    },
    {
     "name": "stderr",
     "output_type": "stream",
     "text": [
      "Rasterizing points since number of points exceeds 100,000.\n",
      "To disable this behavior set `raster=FALSE`\n",
      "\n",
      "Rasterizing points since number of points exceeds 100,000.\n",
      "To disable this behavior set `raster=FALSE`\n",
      "\n"
     ]
    },
    {
     "name": "stdout",
     "output_type": "stream",
     "text": [
      "[1] \"20094_0007_scatter_ncount_rp 10 6\"\n",
      "[1] \"Saving to file 20094_0007_scatter_ncount_rp.png\"\n"
     ]
    },
    {
     "name": "stderr",
     "output_type": "stream",
     "text": [
      "Warning message:\n",
      "\"\u001b[1m\u001b[22mRemoved 6165792 rows containing missing values (`geom_scattermore()`).\"\n"
     ]
    },
    {
     "name": "stdout",
     "output_type": "stream",
     "text": [
      "[1] \"Saving to file 20094_0007_scatter_ncount_rp.pdf\"\n"
     ]
    },
    {
     "name": "stderr",
     "output_type": "stream",
     "text": [
      "Warning message:\n",
      "\"\u001b[1m\u001b[22mRemoved 6165792 rows containing missing values (`geom_scattermore()`).\"\n"
     ]
    },
    {
     "name": "stdout",
     "output_type": "stream",
     "text": [
      "[1] \"Saving to file 20094_0007_scatter_ncount_rp.svg\"\n"
     ]
    },
    {
     "name": "stderr",
     "output_type": "stream",
     "text": [
      "Warning message:\n",
      "\"\u001b[1m\u001b[22mRemoved 6165792 rows containing missing values (`geom_scattermore()`).\"\n"
     ]
    },
    {
     "name": "stdout",
     "output_type": "stream",
     "text": [
      "[1] \"Saving to file 20094_0007_scatter_ncount_rp.data\"\n",
      "[1] \"20094_0008\"\n"
     ]
    },
    {
     "name": "stderr",
     "output_type": "stream",
     "text": [
      "Rasterizing points since number of points exceeds 100,000.\n",
      "To disable this behavior set `raster=FALSE`\n",
      "\n",
      "Rasterizing points since number of points exceeds 100,000.\n",
      "To disable this behavior set `raster=FALSE`\n",
      "\n"
     ]
    },
    {
     "name": "stdout",
     "output_type": "stream",
     "text": [
      "[1] \"20094_0008_scatter_ncount_mt 10 6\"\n",
      "[1] \"Saving to file 20094_0008_scatter_ncount_mt.png\"\n"
     ]
    },
    {
     "name": "stderr",
     "output_type": "stream",
     "text": [
      "Warning message:\n",
      "\"\u001b[1m\u001b[22mRemoved 5878998 rows containing missing values (`geom_scattermore()`).\"\n"
     ]
    },
    {
     "name": "stdout",
     "output_type": "stream",
     "text": [
      "[1] \"Saving to file 20094_0008_scatter_ncount_mt.pdf\"\n"
     ]
    },
    {
     "name": "stderr",
     "output_type": "stream",
     "text": [
      "Warning message:\n",
      "\"\u001b[1m\u001b[22mRemoved 5878998 rows containing missing values (`geom_scattermore()`).\"\n"
     ]
    },
    {
     "name": "stdout",
     "output_type": "stream",
     "text": [
      "[1] \"Saving to file 20094_0008_scatter_ncount_mt.svg\"\n"
     ]
    },
    {
     "name": "stderr",
     "output_type": "stream",
     "text": [
      "Warning message:\n",
      "\"\u001b[1m\u001b[22mRemoved 5878998 rows containing missing values (`geom_scattermore()`).\"\n"
     ]
    },
    {
     "name": "stdout",
     "output_type": "stream",
     "text": [
      "[1] \"Saving to file 20094_0008_scatter_ncount_mt.data\"\n"
     ]
    },
    {
     "name": "stderr",
     "output_type": "stream",
     "text": [
      "Rasterizing points since number of points exceeds 100,000.\n",
      "To disable this behavior set `raster=FALSE`\n",
      "\n",
      "Rasterizing points since number of points exceeds 100,000.\n",
      "To disable this behavior set `raster=FALSE`\n",
      "\n"
     ]
    },
    {
     "name": "stdout",
     "output_type": "stream",
     "text": [
      "[1] \"20094_0008_scatter_ncount_rp 10 6\"\n",
      "[1] \"Saving to file 20094_0008_scatter_ncount_rp.png\"\n"
     ]
    },
    {
     "name": "stderr",
     "output_type": "stream",
     "text": [
      "Warning message:\n",
      "\"\u001b[1m\u001b[22mRemoved 5878998 rows containing missing values (`geom_scattermore()`).\"\n"
     ]
    },
    {
     "name": "stdout",
     "output_type": "stream",
     "text": [
      "[1] \"Saving to file 20094_0008_scatter_ncount_rp.pdf\"\n"
     ]
    },
    {
     "name": "stderr",
     "output_type": "stream",
     "text": [
      "Warning message:\n",
      "\"\u001b[1m\u001b[22mRemoved 5878998 rows containing missing values (`geom_scattermore()`).\"\n"
     ]
    },
    {
     "name": "stdout",
     "output_type": "stream",
     "text": [
      "[1] \"Saving to file 20094_0008_scatter_ncount_rp.svg\"\n"
     ]
    },
    {
     "name": "stderr",
     "output_type": "stream",
     "text": [
      "Warning message:\n",
      "\"\u001b[1m\u001b[22mRemoved 5878998 rows containing missing values (`geom_scattermore()`).\"\n"
     ]
    },
    {
     "name": "stdout",
     "output_type": "stream",
     "text": [
      "[1] \"Saving to file 20094_0008_scatter_ncount_rp.data\"\n",
      "[1] \"20094_0009\"\n"
     ]
    },
    {
     "name": "stderr",
     "output_type": "stream",
     "text": [
      "Rasterizing points since number of points exceeds 100,000.\n",
      "To disable this behavior set `raster=FALSE`\n",
      "\n",
      "Rasterizing points since number of points exceeds 100,000.\n",
      "To disable this behavior set `raster=FALSE`\n",
      "\n"
     ]
    },
    {
     "name": "stdout",
     "output_type": "stream",
     "text": [
      "[1] \"20094_0009_scatter_ncount_mt 10 6\"\n",
      "[1] \"Saving to file 20094_0009_scatter_ncount_mt.png\"\n"
     ]
    },
    {
     "name": "stderr",
     "output_type": "stream",
     "text": [
      "Warning message:\n",
      "\"\u001b[1m\u001b[22mRemoved 6065598 rows containing missing values (`geom_scattermore()`).\"\n"
     ]
    },
    {
     "name": "stdout",
     "output_type": "stream",
     "text": [
      "[1] \"Saving to file 20094_0009_scatter_ncount_mt.pdf\"\n"
     ]
    },
    {
     "name": "stderr",
     "output_type": "stream",
     "text": [
      "Warning message:\n",
      "\"\u001b[1m\u001b[22mRemoved 6065598 rows containing missing values (`geom_scattermore()`).\"\n"
     ]
    },
    {
     "name": "stdout",
     "output_type": "stream",
     "text": [
      "[1] \"Saving to file 20094_0009_scatter_ncount_mt.svg\"\n"
     ]
    },
    {
     "name": "stderr",
     "output_type": "stream",
     "text": [
      "Warning message:\n",
      "\"\u001b[1m\u001b[22mRemoved 6065598 rows containing missing values (`geom_scattermore()`).\"\n"
     ]
    },
    {
     "name": "stdout",
     "output_type": "stream",
     "text": [
      "[1] \"Saving to file 20094_0009_scatter_ncount_mt.data\"\n"
     ]
    },
    {
     "name": "stderr",
     "output_type": "stream",
     "text": [
      "Rasterizing points since number of points exceeds 100,000.\n",
      "To disable this behavior set `raster=FALSE`\n",
      "\n",
      "Rasterizing points since number of points exceeds 100,000.\n",
      "To disable this behavior set `raster=FALSE`\n",
      "\n"
     ]
    },
    {
     "name": "stdout",
     "output_type": "stream",
     "text": [
      "[1] \"20094_0009_scatter_ncount_rp 10 6\"\n",
      "[1] \"Saving to file 20094_0009_scatter_ncount_rp.png\"\n"
     ]
    },
    {
     "name": "stderr",
     "output_type": "stream",
     "text": [
      "Warning message:\n",
      "\"\u001b[1m\u001b[22mRemoved 6065598 rows containing missing values (`geom_scattermore()`).\"\n"
     ]
    },
    {
     "name": "stdout",
     "output_type": "stream",
     "text": [
      "[1] \"Saving to file 20094_0009_scatter_ncount_rp.pdf\"\n"
     ]
    },
    {
     "name": "stderr",
     "output_type": "stream",
     "text": [
      "Warning message:\n",
      "\"\u001b[1m\u001b[22mRemoved 6065598 rows containing missing values (`geom_scattermore()`).\"\n"
     ]
    },
    {
     "name": "stdout",
     "output_type": "stream",
     "text": [
      "[1] \"Saving to file 20094_0009_scatter_ncount_rp.svg\"\n"
     ]
    },
    {
     "name": "stderr",
     "output_type": "stream",
     "text": [
      "Warning message:\n",
      "\"\u001b[1m\u001b[22mRemoved 6065598 rows containing missing values (`geom_scattermore()`).\"\n"
     ]
    },
    {
     "name": "stdout",
     "output_type": "stream",
     "text": [
      "[1] \"Saving to file 20094_0009_scatter_ncount_rp.data\"\n",
      "[1] \"20094_0012\"\n"
     ]
    },
    {
     "name": "stderr",
     "output_type": "stream",
     "text": [
      "Rasterizing points since number of points exceeds 100,000.\n",
      "To disable this behavior set `raster=FALSE`\n",
      "\n",
      "Rasterizing points since number of points exceeds 100,000.\n",
      "To disable this behavior set `raster=FALSE`\n",
      "\n"
     ]
    },
    {
     "name": "stdout",
     "output_type": "stream",
     "text": [
      "[1] \"20094_0012_scatter_ncount_mt 10 6\"\n",
      "[1] \"Saving to file 20094_0012_scatter_ncount_mt.png\"\n"
     ]
    },
    {
     "name": "stderr",
     "output_type": "stream",
     "text": [
      "Warning message:\n",
      "\"\u001b[1m\u001b[22mRemoved 5739880 rows containing missing values (`geom_scattermore()`).\"\n"
     ]
    },
    {
     "name": "stdout",
     "output_type": "stream",
     "text": [
      "[1] \"Saving to file 20094_0012_scatter_ncount_mt.pdf\"\n"
     ]
    },
    {
     "name": "stderr",
     "output_type": "stream",
     "text": [
      "Warning message:\n",
      "\"\u001b[1m\u001b[22mRemoved 5739880 rows containing missing values (`geom_scattermore()`).\"\n"
     ]
    },
    {
     "name": "stdout",
     "output_type": "stream",
     "text": [
      "[1] \"Saving to file 20094_0012_scatter_ncount_mt.svg\"\n"
     ]
    },
    {
     "name": "stderr",
     "output_type": "stream",
     "text": [
      "Warning message:\n",
      "\"\u001b[1m\u001b[22mRemoved 5739880 rows containing missing values (`geom_scattermore()`).\"\n"
     ]
    },
    {
     "name": "stdout",
     "output_type": "stream",
     "text": [
      "[1] \"Saving to file 20094_0012_scatter_ncount_mt.data\"\n"
     ]
    },
    {
     "name": "stderr",
     "output_type": "stream",
     "text": [
      "Rasterizing points since number of points exceeds 100,000.\n",
      "To disable this behavior set `raster=FALSE`\n",
      "\n",
      "Rasterizing points since number of points exceeds 100,000.\n",
      "To disable this behavior set `raster=FALSE`\n",
      "\n"
     ]
    },
    {
     "name": "stdout",
     "output_type": "stream",
     "text": [
      "[1] \"20094_0012_scatter_ncount_rp 10 6\"\n",
      "[1] \"Saving to file 20094_0012_scatter_ncount_rp.png\"\n"
     ]
    },
    {
     "name": "stderr",
     "output_type": "stream",
     "text": [
      "Warning message:\n",
      "\"\u001b[1m\u001b[22mRemoved 5739880 rows containing missing values (`geom_scattermore()`).\"\n"
     ]
    },
    {
     "name": "stdout",
     "output_type": "stream",
     "text": [
      "[1] \"Saving to file 20094_0012_scatter_ncount_rp.pdf\"\n"
     ]
    },
    {
     "name": "stderr",
     "output_type": "stream",
     "text": [
      "Warning message:\n",
      "\"\u001b[1m\u001b[22mRemoved 5739880 rows containing missing values (`geom_scattermore()`).\"\n"
     ]
    },
    {
     "name": "stdout",
     "output_type": "stream",
     "text": [
      "[1] \"Saving to file 20094_0012_scatter_ncount_rp.svg\"\n"
     ]
    },
    {
     "name": "stderr",
     "output_type": "stream",
     "text": [
      "Warning message:\n",
      "\"\u001b[1m\u001b[22mRemoved 5739880 rows containing missing values (`geom_scattermore()`).\"\n"
     ]
    },
    {
     "name": "stdout",
     "output_type": "stream",
     "text": [
      "[1] \"Saving to file 20094_0012_scatter_ncount_rp.data\"\n",
      "An object of class Seurat \n",
      "36601 features across 2534 samples within 1 assay \n",
      "Active assay: RNA (36601 features, 3000 variable features)\n",
      "An object of class Seurat \n",
      "36601 features across 2143 samples within 1 assay \n",
      "Active assay: RNA (36601 features, 3000 variable features)\n",
      "An object of class Seurat \n",
      "36601 features across 1969 samples within 1 assay \n",
      "Active assay: RNA (36601 features, 3000 variable features)\n",
      "An object of class Seurat \n",
      "36601 features across 884 samples within 1 assay \n",
      "Active assay: RNA (36601 features, 3000 variable features)\n",
      "An object of class Seurat \n",
      "36601 features across 1202 samples within 1 assay \n",
      "Active assay: RNA (36601 features, 3000 variable features)\n",
      "An object of class Seurat \n",
      "36601 features across 198 samples within 1 assay \n",
      "Active assay: RNA (36601 features, 3000 variable features)\n",
      "An object of class Seurat \n",
      "36601 features across 490 samples within 1 assay \n",
      "Active assay: RNA (36601 features, 3000 variable features)\n",
      "An object of class Seurat \n",
      "36601 features across 1037 samples within 1 assay \n",
      "Active assay: RNA (36601 features, 3000 variable features)\n",
      "An object of class Seurat \n",
      "36601 features across 766 samples within 1 assay \n",
      "Active assay: RNA (36601 features, 3000 variable features)\n",
      "An object of class Seurat \n",
      "36601 features across 3449 samples within 1 assay \n",
      "Active assay: RNA (36601 features, 3000 variable features)\n",
      "[1] \"20094_0001_filtered_violins_qc 10 6\"\n",
      "[1] \"Saving to file 20094_0001_filtered_violins_qc.png\"\n",
      "[1] \"Saving to file 20094_0001_filtered_violins_qc.pdf\"\n",
      "[1] \"Saving to file 20094_0001_filtered_violins_qc.svg\"\n",
      "[1] \"Saving to file 20094_0001_filtered_violins_qc.data\"\n",
      "[1] \"20094_0001_filtered_scatter_ncount_mt 10 6\"\n",
      "[1] \"Saving to file 20094_0001_filtered_scatter_ncount_mt.png\"\n",
      "[1] \"Saving to file 20094_0001_filtered_scatter_ncount_mt.pdf\"\n",
      "[1] \"Saving to file 20094_0001_filtered_scatter_ncount_mt.svg\"\n",
      "[1] \"Saving to file 20094_0001_filtered_scatter_ncount_mt.data\"\n",
      "[1] \"20094_0001_filtered_scatter_ncount_rp 10 6\"\n",
      "[1] \"Saving to file 20094_0001_filtered_scatter_ncount_rp.png\"\n",
      "[1] \"Saving to file 20094_0001_filtered_scatter_ncount_rp.pdf\"\n",
      "[1] \"Saving to file 20094_0001_filtered_scatter_ncount_rp.svg\"\n",
      "[1] \"Saving to file 20094_0001_filtered_scatter_ncount_rp.data\"\n",
      "[1] \"20094_0002_filtered_violins_qc 10 6\"\n",
      "[1] \"Saving to file 20094_0002_filtered_violins_qc.png\"\n",
      "[1] \"Saving to file 20094_0002_filtered_violins_qc.pdf\"\n",
      "[1] \"Saving to file 20094_0002_filtered_violins_qc.svg\"\n",
      "[1] \"Saving to file 20094_0002_filtered_violins_qc.data\"\n",
      "[1] \"20094_0002_filtered_scatter_ncount_mt 10 6\"\n",
      "[1] \"Saving to file 20094_0002_filtered_scatter_ncount_mt.png\"\n",
      "[1] \"Saving to file 20094_0002_filtered_scatter_ncount_mt.pdf\"\n",
      "[1] \"Saving to file 20094_0002_filtered_scatter_ncount_mt.svg\"\n",
      "[1] \"Saving to file 20094_0002_filtered_scatter_ncount_mt.data\"\n",
      "[1] \"20094_0002_filtered_scatter_ncount_rp 10 6\"\n",
      "[1] \"Saving to file 20094_0002_filtered_scatter_ncount_rp.png\"\n",
      "[1] \"Saving to file 20094_0002_filtered_scatter_ncount_rp.pdf\"\n",
      "[1] \"Saving to file 20094_0002_filtered_scatter_ncount_rp.svg\"\n",
      "[1] \"Saving to file 20094_0002_filtered_scatter_ncount_rp.data\"\n",
      "[1] \"20094_0003_filtered_violins_qc 10 6\"\n",
      "[1] \"Saving to file 20094_0003_filtered_violins_qc.png\"\n",
      "[1] \"Saving to file 20094_0003_filtered_violins_qc.pdf\"\n",
      "[1] \"Saving to file 20094_0003_filtered_violins_qc.svg\"\n",
      "[1] \"Saving to file 20094_0003_filtered_violins_qc.data\"\n",
      "[1] \"20094_0003_filtered_scatter_ncount_mt 10 6\"\n",
      "[1] \"Saving to file 20094_0003_filtered_scatter_ncount_mt.png\"\n",
      "[1] \"Saving to file 20094_0003_filtered_scatter_ncount_mt.pdf\"\n",
      "[1] \"Saving to file 20094_0003_filtered_scatter_ncount_mt.svg\"\n",
      "[1] \"Saving to file 20094_0003_filtered_scatter_ncount_mt.data\"\n",
      "[1] \"20094_0003_filtered_scatter_ncount_rp 10 6\"\n",
      "[1] \"Saving to file 20094_0003_filtered_scatter_ncount_rp.png\"\n",
      "[1] \"Saving to file 20094_0003_filtered_scatter_ncount_rp.pdf\"\n",
      "[1] \"Saving to file 20094_0003_filtered_scatter_ncount_rp.svg\"\n",
      "[1] \"Saving to file 20094_0003_filtered_scatter_ncount_rp.data\"\n",
      "[1] \"20094_0004_filtered_violins_qc 10 6\"\n",
      "[1] \"Saving to file 20094_0004_filtered_violins_qc.png\"\n",
      "[1] \"Saving to file 20094_0004_filtered_violins_qc.pdf\"\n",
      "[1] \"Saving to file 20094_0004_filtered_violins_qc.svg\"\n",
      "[1] \"Saving to file 20094_0004_filtered_violins_qc.data\"\n",
      "[1] \"20094_0004_filtered_scatter_ncount_mt 10 6\"\n",
      "[1] \"Saving to file 20094_0004_filtered_scatter_ncount_mt.png\"\n",
      "[1] \"Saving to file 20094_0004_filtered_scatter_ncount_mt.pdf\"\n",
      "[1] \"Saving to file 20094_0004_filtered_scatter_ncount_mt.svg\"\n",
      "[1] \"Saving to file 20094_0004_filtered_scatter_ncount_mt.data\"\n",
      "[1] \"20094_0004_filtered_scatter_ncount_rp 10 6\"\n",
      "[1] \"Saving to file 20094_0004_filtered_scatter_ncount_rp.png\"\n",
      "[1] \"Saving to file 20094_0004_filtered_scatter_ncount_rp.pdf\"\n",
      "[1] \"Saving to file 20094_0004_filtered_scatter_ncount_rp.svg\"\n",
      "[1] \"Saving to file 20094_0004_filtered_scatter_ncount_rp.data\"\n",
      "[1] \"20094_0005_filtered_violins_qc 10 6\"\n",
      "[1] \"Saving to file 20094_0005_filtered_violins_qc.png\"\n",
      "[1] \"Saving to file 20094_0005_filtered_violins_qc.pdf\"\n",
      "[1] \"Saving to file 20094_0005_filtered_violins_qc.svg\"\n",
      "[1] \"Saving to file 20094_0005_filtered_violins_qc.data\"\n",
      "[1] \"20094_0005_filtered_scatter_ncount_mt 10 6\"\n",
      "[1] \"Saving to file 20094_0005_filtered_scatter_ncount_mt.png\"\n",
      "[1] \"Saving to file 20094_0005_filtered_scatter_ncount_mt.pdf\"\n",
      "[1] \"Saving to file 20094_0005_filtered_scatter_ncount_mt.svg\"\n",
      "[1] \"Saving to file 20094_0005_filtered_scatter_ncount_mt.data\"\n",
      "[1] \"20094_0005_filtered_scatter_ncount_rp 10 6\"\n",
      "[1] \"Saving to file 20094_0005_filtered_scatter_ncount_rp.png\"\n",
      "[1] \"Saving to file 20094_0005_filtered_scatter_ncount_rp.pdf\"\n",
      "[1] \"Saving to file 20094_0005_filtered_scatter_ncount_rp.svg\"\n",
      "[1] \"Saving to file 20094_0005_filtered_scatter_ncount_rp.data\"\n",
      "[1] \"20094_0006_filtered_violins_qc 10 6\"\n",
      "[1] \"Saving to file 20094_0006_filtered_violins_qc.png\"\n",
      "[1] \"Saving to file 20094_0006_filtered_violins_qc.pdf\"\n",
      "[1] \"Saving to file 20094_0006_filtered_violins_qc.svg\"\n",
      "[1] \"Saving to file 20094_0006_filtered_violins_qc.data\"\n",
      "[1] \"20094_0006_filtered_scatter_ncount_mt 10 6\"\n",
      "[1] \"Saving to file 20094_0006_filtered_scatter_ncount_mt.png\"\n",
      "[1] \"Saving to file 20094_0006_filtered_scatter_ncount_mt.pdf\"\n",
      "[1] \"Saving to file 20094_0006_filtered_scatter_ncount_mt.svg\"\n",
      "[1] \"Saving to file 20094_0006_filtered_scatter_ncount_mt.data\"\n",
      "[1] \"20094_0006_filtered_scatter_ncount_rp 10 6\"\n",
      "[1] \"Saving to file 20094_0006_filtered_scatter_ncount_rp.png\"\n",
      "[1] \"Saving to file 20094_0006_filtered_scatter_ncount_rp.pdf\"\n",
      "[1] \"Saving to file 20094_0006_filtered_scatter_ncount_rp.svg\"\n",
      "[1] \"Saving to file 20094_0006_filtered_scatter_ncount_rp.data\"\n",
      "[1] \"20094_0007_filtered_violins_qc 10 6\"\n",
      "[1] \"Saving to file 20094_0007_filtered_violins_qc.png\"\n",
      "[1] \"Saving to file 20094_0007_filtered_violins_qc.pdf\"\n",
      "[1] \"Saving to file 20094_0007_filtered_violins_qc.svg\"\n",
      "[1] \"Saving to file 20094_0007_filtered_violins_qc.data\"\n",
      "[1] \"20094_0007_filtered_scatter_ncount_mt 10 6\"\n",
      "[1] \"Saving to file 20094_0007_filtered_scatter_ncount_mt.png\"\n",
      "[1] \"Saving to file 20094_0007_filtered_scatter_ncount_mt.pdf\"\n",
      "[1] \"Saving to file 20094_0007_filtered_scatter_ncount_mt.svg\"\n",
      "[1] \"Saving to file 20094_0007_filtered_scatter_ncount_mt.data\"\n",
      "[1] \"20094_0007_filtered_scatter_ncount_rp 10 6\"\n",
      "[1] \"Saving to file 20094_0007_filtered_scatter_ncount_rp.png\"\n",
      "[1] \"Saving to file 20094_0007_filtered_scatter_ncount_rp.pdf\"\n",
      "[1] \"Saving to file 20094_0007_filtered_scatter_ncount_rp.svg\"\n",
      "[1] \"Saving to file 20094_0007_filtered_scatter_ncount_rp.data\"\n",
      "[1] \"20094_0008_filtered_violins_qc 10 6\"\n",
      "[1] \"Saving to file 20094_0008_filtered_violins_qc.png\"\n",
      "[1] \"Saving to file 20094_0008_filtered_violins_qc.pdf\"\n",
      "[1] \"Saving to file 20094_0008_filtered_violins_qc.svg\"\n",
      "[1] \"Saving to file 20094_0008_filtered_violins_qc.data\"\n",
      "[1] \"20094_0008_filtered_scatter_ncount_mt 10 6\"\n",
      "[1] \"Saving to file 20094_0008_filtered_scatter_ncount_mt.png\"\n",
      "[1] \"Saving to file 20094_0008_filtered_scatter_ncount_mt.pdf\"\n",
      "[1] \"Saving to file 20094_0008_filtered_scatter_ncount_mt.svg\"\n",
      "[1] \"Saving to file 20094_0008_filtered_scatter_ncount_mt.data\"\n",
      "[1] \"20094_0008_filtered_scatter_ncount_rp 10 6\"\n",
      "[1] \"Saving to file 20094_0008_filtered_scatter_ncount_rp.png\"\n",
      "[1] \"Saving to file 20094_0008_filtered_scatter_ncount_rp.pdf\"\n",
      "[1] \"Saving to file 20094_0008_filtered_scatter_ncount_rp.svg\"\n",
      "[1] \"Saving to file 20094_0008_filtered_scatter_ncount_rp.data\"\n",
      "[1] \"20094_0009_filtered_violins_qc 10 6\"\n",
      "[1] \"Saving to file 20094_0009_filtered_violins_qc.png\"\n",
      "[1] \"Saving to file 20094_0009_filtered_violins_qc.pdf\"\n",
      "[1] \"Saving to file 20094_0009_filtered_violins_qc.svg\"\n",
      "[1] \"Saving to file 20094_0009_filtered_violins_qc.data\"\n",
      "[1] \"20094_0009_filtered_scatter_ncount_mt 10 6\"\n",
      "[1] \"Saving to file 20094_0009_filtered_scatter_ncount_mt.png\"\n",
      "[1] \"Saving to file 20094_0009_filtered_scatter_ncount_mt.pdf\"\n",
      "[1] \"Saving to file 20094_0009_filtered_scatter_ncount_mt.svg\"\n",
      "[1] \"Saving to file 20094_0009_filtered_scatter_ncount_mt.data\"\n",
      "[1] \"20094_0009_filtered_scatter_ncount_rp 10 6\"\n",
      "[1] \"Saving to file 20094_0009_filtered_scatter_ncount_rp.png\"\n",
      "[1] \"Saving to file 20094_0009_filtered_scatter_ncount_rp.pdf\"\n",
      "[1] \"Saving to file 20094_0009_filtered_scatter_ncount_rp.svg\"\n",
      "[1] \"Saving to file 20094_0009_filtered_scatter_ncount_rp.data\"\n",
      "[1] \"20094_0012_filtered_violins_qc 10 6\"\n",
      "[1] \"Saving to file 20094_0012_filtered_violins_qc.png\"\n",
      "[1] \"Saving to file 20094_0012_filtered_violins_qc.pdf\"\n",
      "[1] \"Saving to file 20094_0012_filtered_violins_qc.svg\"\n",
      "[1] \"Saving to file 20094_0012_filtered_violins_qc.data\"\n",
      "[1] \"20094_0012_filtered_scatter_ncount_mt 10 6\"\n",
      "[1] \"Saving to file 20094_0012_filtered_scatter_ncount_mt.png\"\n",
      "[1] \"Saving to file 20094_0012_filtered_scatter_ncount_mt.pdf\"\n",
      "[1] \"Saving to file 20094_0012_filtered_scatter_ncount_mt.svg\"\n",
      "[1] \"Saving to file 20094_0012_filtered_scatter_ncount_mt.data\"\n",
      "[1] \"20094_0012_filtered_scatter_ncount_rp 10 6\"\n",
      "[1] \"Saving to file 20094_0012_filtered_scatter_ncount_rp.png\"\n",
      "[1] \"Saving to file 20094_0012_filtered_scatter_ncount_rp.pdf\"\n",
      "[1] \"Saving to file 20094_0012_filtered_scatter_ncount_rp.svg\"\n",
      "[1] \"Saving to file 20094_0012_filtered_scatter_ncount_rp.data\"\n"
     ]
    }
   ],
   "source": [
    "\n",
    "objlist = scatterAndFilter(objlist.raw, nfeature_rna.lower=100, nfeature_rna.upper=6000, ncount_rna.lower=500, percent_mt.upper=7)\n"
   ]
  },
  {
   "cell_type": "code",
   "execution_count": 8,
   "id": "a5a35c3a",
   "metadata": {},
   "outputs": [
    {
     "name": "stdout",
     "output_type": "stream",
     "text": [
      "[1] \"cells per experiment\"\n",
      "20094_0001 20094_0002 20094_0003 20094_0004 20094_0005 20094_0006 20094_0007 \n",
      "      2534       2143       1969        884       1202        198        490 \n",
      "20094_0008 20094_0009 20094_0012 \n",
      "      1037        766       3449 \n",
      "[1] \"total cells\"\n",
      "[1] 14672\n"
     ]
    }
   ],
   "source": [
    "\n",
    "print(\"cells per experiment\")\n",
    "print(mapply(sum, lapply(objlist, function(x) {dim(x)[2]})))\n",
    "print(\"total cells\")\n",
    "print(sum(mapply(sum, lapply(objlist, function(x) {dim(x)[2]}))))\n",
    "\n"
   ]
  },
  {
   "cell_type": "code",
   "execution_count": 9,
   "id": "9656c790",
   "metadata": {},
   "outputs": [],
   "source": [
    "\n",
    "objlist.raw = NULL\n",
    "inputMatrices = NULL\n"
   ]
  },
  {
   "cell_type": "code",
   "execution_count": 10,
   "id": "90e0d87a",
   "metadata": {},
   "outputs": [
    {
     "name": "stdout",
     "output_type": "stream",
     "text": [
      "[1] \"cells per experiment\"\n",
      "20094_0001 20094_0002 20094_0003 20094_0004 20094_0005 20094_0006 20094_0007 \n",
      "      2534       2143       1969        884       1202        198        490 \n",
      "20094_0008 20094_0009 20094_0012 \n",
      "      1037        766       3449 \n",
      "[1] \"total cells\"\n",
      "[1] 14672\n",
      "[1] \"Seurat obj project 20094_0001\"\n",
      "[1] \"Seurat obj project 20094_0002\"\n",
      "[1] \"Seurat obj project 20094_0003\"\n",
      "[1] \"Seurat obj project 20094_0004\"\n",
      "[1] \"Seurat obj project 20094_0005\"\n",
      "[1] \"Seurat obj project 20094_0006\"\n",
      "[1] \"Seurat obj project 20094_0007\"\n",
      "[1] \"Seurat obj project 20094_0008\"\n",
      "[1] \"Seurat obj project 20094_0009\"\n",
      "[1] \"Seurat obj project 20094_0012\"\n",
      "[1] \"SelectIntegrationFeatures\"\n",
      "[1] \"Seurat obj project 20094_0001\"\n",
      "An object of class Seurat \n",
      "36601 features across 2534 samples within 1 assay \n",
      "Active assay: RNA (36601 features, 3000 variable features)\n",
      "[1] \"CellCycle 42 52\"\n"
     ]
    },
    {
     "name": "stderr",
     "output_type": "stream",
     "text": [
      "Regressing out percent.rp, percent.mt, nCount_RNA, S.Score, G2M.Score\n",
      "\n",
      "Centering and scaling data matrix\n",
      "\n"
     ]
    },
    {
     "name": "stdout",
     "output_type": "stream",
     "text": [
      "[1] \"Seurat obj project 20094_0002\"\n",
      "An object of class Seurat \n",
      "36601 features across 2143 samples within 1 assay \n",
      "Active assay: RNA (36601 features, 3000 variable features)\n",
      "[1] \"CellCycle 42 52\"\n"
     ]
    },
    {
     "name": "stderr",
     "output_type": "stream",
     "text": [
      "Regressing out percent.rp, percent.mt, nCount_RNA, S.Score, G2M.Score\n",
      "\n",
      "Centering and scaling data matrix\n",
      "\n"
     ]
    },
    {
     "name": "stdout",
     "output_type": "stream",
     "text": [
      "[1] \"Seurat obj project 20094_0003\"\n",
      "An object of class Seurat \n",
      "36601 features across 1969 samples within 1 assay \n",
      "Active assay: RNA (36601 features, 3000 variable features)\n",
      "[1] \"CellCycle 42 52\"\n"
     ]
    },
    {
     "name": "stderr",
     "output_type": "stream",
     "text": [
      "Regressing out percent.rp, percent.mt, nCount_RNA, S.Score, G2M.Score\n",
      "\n",
      "Centering and scaling data matrix\n",
      "\n"
     ]
    },
    {
     "name": "stdout",
     "output_type": "stream",
     "text": [
      "[1] \"Seurat obj project 20094_0004\"\n",
      "An object of class Seurat \n",
      "36601 features across 884 samples within 1 assay \n",
      "Active assay: RNA (36601 features, 3000 variable features)\n",
      "[1] \"CellCycle 42 52\"\n"
     ]
    },
    {
     "name": "stderr",
     "output_type": "stream",
     "text": [
      "Regressing out percent.rp, percent.mt, nCount_RNA, S.Score, G2M.Score\n",
      "\n",
      "Centering and scaling data matrix\n",
      "\n"
     ]
    },
    {
     "name": "stdout",
     "output_type": "stream",
     "text": [
      "[1] \"Seurat obj project 20094_0005\"\n",
      "An object of class Seurat \n",
      "36601 features across 1202 samples within 1 assay \n",
      "Active assay: RNA (36601 features, 3000 variable features)\n",
      "[1] \"CellCycle 42 52\"\n"
     ]
    },
    {
     "name": "stderr",
     "output_type": "stream",
     "text": [
      "Regressing out percent.rp, percent.mt, nCount_RNA, S.Score, G2M.Score\n",
      "\n",
      "Centering and scaling data matrix\n",
      "\n"
     ]
    },
    {
     "name": "stdout",
     "output_type": "stream",
     "text": [
      "[1] \"Seurat obj project 20094_0006\"\n",
      "An object of class Seurat \n",
      "36601 features across 198 samples within 1 assay \n",
      "Active assay: RNA (36601 features, 3000 variable features)\n",
      "[1] \"CellCycle 42 52\"\n"
     ]
    },
    {
     "name": "stderr",
     "output_type": "stream",
     "text": [
      "Regressing out percent.rp, percent.mt, nCount_RNA, S.Score, G2M.Score\n",
      "\n",
      "Centering and scaling data matrix\n",
      "\n"
     ]
    },
    {
     "name": "stdout",
     "output_type": "stream",
     "text": [
      "[1] \"Seurat obj project 20094_0007\"\n",
      "An object of class Seurat \n",
      "36601 features across 490 samples within 1 assay \n",
      "Active assay: RNA (36601 features, 3000 variable features)\n",
      "[1] \"CellCycle 42 52\"\n"
     ]
    },
    {
     "name": "stderr",
     "output_type": "stream",
     "text": [
      "Regressing out percent.rp, percent.mt, nCount_RNA, S.Score, G2M.Score\n",
      "\n",
      "Centering and scaling data matrix\n",
      "\n"
     ]
    },
    {
     "name": "stdout",
     "output_type": "stream",
     "text": [
      "[1] \"Seurat obj project 20094_0008\"\n",
      "An object of class Seurat \n",
      "36601 features across 1037 samples within 1 assay \n",
      "Active assay: RNA (36601 features, 3000 variable features)\n",
      "[1] \"CellCycle 42 52\"\n"
     ]
    },
    {
     "name": "stderr",
     "output_type": "stream",
     "text": [
      "Regressing out percent.rp, percent.mt, nCount_RNA, S.Score, G2M.Score\n",
      "\n",
      "Centering and scaling data matrix\n",
      "\n"
     ]
    },
    {
     "name": "stdout",
     "output_type": "stream",
     "text": [
      "[1] \"Seurat obj project 20094_0009\"\n",
      "An object of class Seurat \n",
      "36601 features across 766 samples within 1 assay \n",
      "Active assay: RNA (36601 features, 3000 variable features)\n",
      "[1] \"CellCycle 42 52\"\n"
     ]
    },
    {
     "name": "stderr",
     "output_type": "stream",
     "text": [
      "Regressing out percent.rp, percent.mt, nCount_RNA, S.Score, G2M.Score\n",
      "\n",
      "Centering and scaling data matrix\n",
      "\n"
     ]
    },
    {
     "name": "stdout",
     "output_type": "stream",
     "text": [
      "[1] \"Seurat obj project 20094_0012\"\n",
      "An object of class Seurat \n",
      "36601 features across 3449 samples within 1 assay \n",
      "Active assay: RNA (36601 features, 3000 variable features)\n",
      "[1] \"CellCycle 42 52\"\n"
     ]
    },
    {
     "name": "stderr",
     "output_type": "stream",
     "text": [
      "Regressing out percent.rp, percent.mt, nCount_RNA, S.Score, G2M.Score\n",
      "\n",
      "Centering and scaling data matrix\n",
      "\n"
     ]
    }
   ],
   "source": [
    "\n",
    "finalList = prepareIntegration(objlist, cc.use.genes = cc.genes, nfeatures.variable = 3000, nfeatures.scale=3000, run.parallel=FALSE)\n"
   ]
  },
  {
   "cell_type": "code",
   "execution_count": 11,
   "id": "8541c70e",
   "metadata": {},
   "outputs": [
    {
     "name": "stderr",
     "output_type": "stream",
     "text": [
      "Warning message in dir.create(intname, recursive = TRUE):\n",
      "\"'libintegration' already exists\"\n"
     ]
    },
    {
     "name": "stdout",
     "output_type": "stream",
     "text": [
      "$`20094_0001`\n",
      "An object of class Seurat \n",
      "36601 features across 2534 samples within 1 assay \n",
      "Active assay: RNA (36601 features, 3000 variable features)\n",
      " 1 dimensional reduction calculated: pca\n",
      "\n",
      "$`20094_0002`\n",
      "An object of class Seurat \n",
      "36601 features across 2143 samples within 1 assay \n",
      "Active assay: RNA (36601 features, 3000 variable features)\n",
      " 1 dimensional reduction calculated: pca\n",
      "\n",
      "$`20094_0003`\n",
      "An object of class Seurat \n",
      "36601 features across 1969 samples within 1 assay \n",
      "Active assay: RNA (36601 features, 3000 variable features)\n",
      " 1 dimensional reduction calculated: pca\n",
      "\n",
      "$`20094_0004`\n",
      "An object of class Seurat \n",
      "36601 features across 884 samples within 1 assay \n",
      "Active assay: RNA (36601 features, 3000 variable features)\n",
      " 1 dimensional reduction calculated: pca\n",
      "\n",
      "$`20094_0005`\n",
      "An object of class Seurat \n",
      "36601 features across 1202 samples within 1 assay \n",
      "Active assay: RNA (36601 features, 3000 variable features)\n",
      " 1 dimensional reduction calculated: pca\n",
      "\n",
      "$`20094_0006`\n",
      "An object of class Seurat \n",
      "36601 features across 198 samples within 1 assay \n",
      "Active assay: RNA (36601 features, 3000 variable features)\n",
      " 1 dimensional reduction calculated: pca\n",
      "\n",
      "$`20094_0007`\n",
      "An object of class Seurat \n",
      "36601 features across 490 samples within 1 assay \n",
      "Active assay: RNA (36601 features, 3000 variable features)\n",
      " 1 dimensional reduction calculated: pca\n",
      "\n",
      "$`20094_0008`\n",
      "An object of class Seurat \n",
      "36601 features across 1037 samples within 1 assay \n",
      "Active assay: RNA (36601 features, 3000 variable features)\n",
      " 1 dimensional reduction calculated: pca\n",
      "\n",
      "$`20094_0009`\n",
      "An object of class Seurat \n",
      "36601 features across 766 samples within 1 assay \n",
      "Active assay: RNA (36601 features, 3000 variable features)\n",
      " 1 dimensional reduction calculated: pca\n",
      "\n",
      "$`20094_0012`\n",
      "An object of class Seurat \n",
      "36601 features across 3449 samples within 1 assay \n",
      "Active assay: RNA (36601 features, 3000 variable features)\n",
      " 1 dimensional reduction calculated: pca\n",
      "\n",
      "[1] \"GEX integration features\"\n",
      "$`20094_0001`\n",
      "An object of class Seurat \n",
      "36601 features across 2534 samples within 1 assay \n",
      "Active assay: RNA (36601 features, 3000 variable features)\n",
      " 1 dimensional reduction calculated: pca\n",
      "\n",
      "$`20094_0002`\n",
      "An object of class Seurat \n",
      "36601 features across 2143 samples within 1 assay \n",
      "Active assay: RNA (36601 features, 3000 variable features)\n",
      " 1 dimensional reduction calculated: pca\n",
      "\n",
      "$`20094_0003`\n",
      "An object of class Seurat \n",
      "36601 features across 1969 samples within 1 assay \n",
      "Active assay: RNA (36601 features, 3000 variable features)\n",
      " 1 dimensional reduction calculated: pca\n",
      "\n",
      "$`20094_0004`\n",
      "An object of class Seurat \n",
      "36601 features across 884 samples within 1 assay \n",
      "Active assay: RNA (36601 features, 3000 variable features)\n",
      " 1 dimensional reduction calculated: pca\n",
      "\n",
      "$`20094_0005`\n",
      "An object of class Seurat \n",
      "36601 features across 1202 samples within 1 assay \n",
      "Active assay: RNA (36601 features, 3000 variable features)\n",
      " 1 dimensional reduction calculated: pca\n",
      "\n",
      "$`20094_0006`\n",
      "An object of class Seurat \n",
      "36601 features across 198 samples within 1 assay \n",
      "Active assay: RNA (36601 features, 3000 variable features)\n",
      " 1 dimensional reduction calculated: pca\n",
      "\n",
      "$`20094_0007`\n",
      "An object of class Seurat \n",
      "36601 features across 490 samples within 1 assay \n",
      "Active assay: RNA (36601 features, 3000 variable features)\n",
      " 1 dimensional reduction calculated: pca\n",
      "\n",
      "$`20094_0008`\n",
      "An object of class Seurat \n",
      "36601 features across 1037 samples within 1 assay \n",
      "Active assay: RNA (36601 features, 3000 variable features)\n",
      " 1 dimensional reduction calculated: pca\n",
      "\n",
      "$`20094_0009`\n",
      "An object of class Seurat \n",
      "36601 features across 766 samples within 1 assay \n",
      "Active assay: RNA (36601 features, 3000 variable features)\n",
      " 1 dimensional reduction calculated: pca\n",
      "\n",
      "$`20094_0012`\n",
      "An object of class Seurat \n",
      "36601 features across 3449 samples within 1 assay \n",
      "Active assay: RNA (36601 features, 3000 variable features)\n",
      " 1 dimensional reduction calculated: pca\n",
      "\n",
      "[1] \"Current integration mode: rpca\"\n",
      "[1] \"Object 20094_0001\"\n",
      "[1] \"Object 20094_0002\"\n",
      "[1] \"Object 20094_0003\"\n",
      "[1] \"Object 20094_0004\"\n",
      "[1] \"Object 20094_0005\"\n",
      "[1] \"Object 20094_0006\"\n",
      "[1] \"Object 20094_0007\"\n",
      "[1] \"Object 20094_0008\"\n",
      "[1] \"Object 20094_0009\"\n",
      "[1] \"Object 20094_0012\"\n",
      "[1] \"SelectIntegrationFeatures\"\n",
      "[1] \"RunPCA on given features\"\n",
      "[1] \"FindIntegrationAnchors\"\n"
     ]
    },
    {
     "name": "stderr",
     "output_type": "stream",
     "text": [
      "Scaling features for provided objects\n",
      "\n",
      "Computing within dataset neighborhoods\n",
      "\n",
      "Finding all pairwise anchors\n",
      "\n",
      "Projecting new data onto SVD\n",
      "\n",
      "Projecting new data onto SVD\n",
      "\n",
      "Finding neighborhoods\n",
      "\n",
      "Finding anchors\n",
      "\n",
      "\tFound 1210 anchors\n",
      "\n",
      "Projecting new data onto SVD\n",
      "\n",
      "Projecting new data onto SVD\n",
      "\n",
      "Finding neighborhoods\n",
      "\n",
      "Finding anchors\n",
      "\n",
      "\tFound 846 anchors\n",
      "\n",
      "Projecting new data onto SVD\n",
      "\n",
      "Projecting new data onto SVD\n",
      "\n",
      "Finding neighborhoods\n",
      "\n",
      "Finding anchors\n",
      "\n",
      "\tFound 932 anchors\n",
      "\n",
      "Projecting new data onto SVD\n",
      "\n",
      "Projecting new data onto SVD\n",
      "\n",
      "Finding neighborhoods\n",
      "\n",
      "Finding anchors\n",
      "\n",
      "\tFound 668 anchors\n",
      "\n",
      "Projecting new data onto SVD\n",
      "\n",
      "Projecting new data onto SVD\n",
      "\n",
      "Finding neighborhoods\n",
      "\n",
      "Finding anchors\n",
      "\n",
      "\tFound 718 anchors\n",
      "\n",
      "Projecting new data onto SVD\n",
      "\n",
      "Projecting new data onto SVD\n",
      "\n",
      "Finding neighborhoods\n",
      "\n",
      "Finding anchors\n",
      "\n",
      "\tFound 636 anchors\n",
      "\n",
      "Projecting new data onto SVD\n",
      "\n",
      "Projecting new data onto SVD\n",
      "\n",
      "Finding neighborhoods\n",
      "\n",
      "Finding anchors\n",
      "\n",
      "\tFound 761 anchors\n",
      "\n",
      "Projecting new data onto SVD\n",
      "\n",
      "Projecting new data onto SVD\n",
      "\n",
      "Finding neighborhoods\n",
      "\n",
      "Finding anchors\n",
      "\n",
      "\tFound 796 anchors\n",
      "\n",
      "Projecting new data onto SVD\n",
      "\n",
      "Projecting new data onto SVD\n",
      "\n",
      "Finding neighborhoods\n",
      "\n",
      "Finding anchors\n",
      "\n",
      "\tFound 626 anchors\n",
      "\n",
      "Projecting new data onto SVD\n",
      "\n",
      "Projecting new data onto SVD\n",
      "\n",
      "Finding neighborhoods\n",
      "\n",
      "Finding anchors\n",
      "\n",
      "\tFound 710 anchors\n",
      "\n",
      "Projecting new data onto SVD\n",
      "\n",
      "Projecting new data onto SVD\n",
      "\n",
      "Finding neighborhoods\n",
      "\n",
      "Finding anchors\n",
      "\n",
      "\tFound 294 anchors\n",
      "\n",
      "Projecting new data onto SVD\n",
      "\n",
      "Projecting new data onto SVD\n",
      "\n",
      "Finding neighborhoods\n",
      "\n",
      "Finding anchors\n",
      "\n",
      "\tFound 317 anchors\n",
      "\n",
      "Projecting new data onto SVD\n",
      "\n",
      "Projecting new data onto SVD\n",
      "\n",
      "Finding neighborhoods\n",
      "\n",
      "Finding anchors\n",
      "\n",
      "\tFound 290 anchors\n",
      "\n",
      "Projecting new data onto SVD\n",
      "\n",
      "Projecting new data onto SVD\n",
      "\n",
      "Finding neighborhoods\n",
      "\n",
      "Finding anchors\n",
      "\n",
      "\tFound 308 anchors\n",
      "\n",
      "Projecting new data onto SVD\n",
      "\n",
      "Projecting new data onto SVD\n",
      "\n",
      "Finding neighborhoods\n",
      "\n",
      "Finding anchors\n",
      "\n",
      "\tFound 336 anchors\n",
      "\n",
      "Projecting new data onto SVD\n",
      "\n",
      "Projecting new data onto SVD\n",
      "\n",
      "Finding neighborhoods\n",
      "\n",
      "Finding anchors\n",
      "\n",
      "\tFound 456 anchors\n",
      "\n",
      "Projecting new data onto SVD\n",
      "\n",
      "Projecting new data onto SVD\n",
      "\n",
      "Finding neighborhoods\n",
      "\n",
      "Finding anchors\n",
      "\n",
      "\tFound 477 anchors\n",
      "\n",
      "Projecting new data onto SVD\n",
      "\n",
      "Projecting new data onto SVD\n",
      "\n",
      "Finding neighborhoods\n",
      "\n",
      "Finding anchors\n",
      "\n",
      "\tFound 392 anchors\n",
      "\n",
      "Projecting new data onto SVD\n",
      "\n",
      "Projecting new data onto SVD\n",
      "\n",
      "Finding neighborhoods\n",
      "\n",
      "Finding anchors\n",
      "\n",
      "\tFound 422 anchors\n",
      "\n",
      "Projecting new data onto SVD\n",
      "\n",
      "Projecting new data onto SVD\n",
      "\n",
      "Finding neighborhoods\n",
      "\n",
      "Finding anchors\n",
      "\n",
      "\tFound 480 anchors\n",
      "\n",
      "Projecting new data onto SVD\n",
      "\n",
      "Projecting new data onto SVD\n",
      "\n",
      "Finding neighborhoods\n",
      "\n",
      "Finding anchors\n",
      "\n",
      "\tFound 259 anchors\n",
      "\n",
      "Projecting new data onto SVD\n",
      "\n",
      "Projecting new data onto SVD\n",
      "\n",
      "Finding neighborhoods\n",
      "\n",
      "Finding anchors\n",
      "\n",
      "\tFound 620 anchors\n",
      "\n",
      "Projecting new data onto SVD\n",
      "\n",
      "Projecting new data onto SVD\n",
      "\n",
      "Finding neighborhoods\n",
      "\n",
      "Finding anchors\n",
      "\n",
      "\tFound 711 anchors\n",
      "\n",
      "Projecting new data onto SVD\n",
      "\n",
      "Projecting new data onto SVD\n",
      "\n",
      "Finding neighborhoods\n",
      "\n",
      "Finding anchors\n",
      "\n",
      "\tFound 603 anchors\n",
      "\n",
      "Projecting new data onto SVD\n",
      "\n",
      "Projecting new data onto SVD\n",
      "\n",
      "Finding neighborhoods\n",
      "\n",
      "Finding anchors\n",
      "\n",
      "\tFound 568 anchors\n",
      "\n",
      "Projecting new data onto SVD\n",
      "\n",
      "Projecting new data onto SVD\n",
      "\n",
      "Finding neighborhoods\n",
      "\n",
      "Finding anchors\n",
      "\n",
      "\tFound 601 anchors\n",
      "\n",
      "Projecting new data onto SVD\n",
      "\n",
      "Projecting new data onto SVD\n",
      "\n",
      "Finding neighborhoods\n",
      "\n",
      "Finding anchors\n",
      "\n",
      "\tFound 279 anchors\n",
      "\n",
      "Projecting new data onto SVD\n",
      "\n",
      "Projecting new data onto SVD\n",
      "\n",
      "Finding neighborhoods\n",
      "\n",
      "Finding anchors\n",
      "\n",
      "\tFound 455 anchors\n",
      "\n",
      "Projecting new data onto SVD\n",
      "\n",
      "Projecting new data onto SVD\n",
      "\n",
      "Finding neighborhoods\n",
      "\n",
      "Finding anchors\n",
      "\n",
      "\tFound 654 anchors\n",
      "\n",
      "Projecting new data onto SVD\n",
      "\n",
      "Projecting new data onto SVD\n",
      "\n",
      "Finding neighborhoods\n",
      "\n",
      "Finding anchors\n",
      "\n",
      "\tFound 542 anchors\n",
      "\n",
      "Projecting new data onto SVD\n",
      "\n",
      "Projecting new data onto SVD\n",
      "\n",
      "Finding neighborhoods\n",
      "\n",
      "Finding anchors\n",
      "\n",
      "\tFound 493 anchors\n",
      "\n",
      "Projecting new data onto SVD\n",
      "\n",
      "Projecting new data onto SVD\n",
      "\n",
      "Finding neighborhoods\n",
      "\n",
      "Finding anchors\n",
      "\n",
      "\tFound 471 anchors\n",
      "\n",
      "Projecting new data onto SVD\n",
      "\n",
      "Projecting new data onto SVD\n",
      "\n",
      "Finding neighborhoods\n",
      "\n",
      "Finding anchors\n",
      "\n",
      "\tFound 526 anchors\n",
      "\n",
      "Projecting new data onto SVD\n",
      "\n",
      "Projecting new data onto SVD\n",
      "\n",
      "Finding neighborhoods\n",
      "\n",
      "Finding anchors\n",
      "\n",
      "\tFound 261 anchors\n",
      "\n",
      "Projecting new data onto SVD\n",
      "\n",
      "Projecting new data onto SVD\n",
      "\n",
      "Finding neighborhoods\n",
      "\n",
      "Finding anchors\n",
      "\n",
      "\tFound 358 anchors\n",
      "\n",
      "Projecting new data onto SVD\n",
      "\n",
      "Projecting new data onto SVD\n",
      "\n",
      "Finding neighborhoods\n",
      "\n",
      "Finding anchors\n",
      "\n",
      "\tFound 526 anchors\n",
      "\n",
      "Projecting new data onto SVD\n",
      "\n",
      "Projecting new data onto SVD\n",
      "\n",
      "Finding neighborhoods\n",
      "\n",
      "Finding anchors\n",
      "\n",
      "\tFound 829 anchors\n",
      "\n",
      "Projecting new data onto SVD\n",
      "\n",
      "Projecting new data onto SVD\n",
      "\n",
      "Finding neighborhoods\n",
      "\n",
      "Finding anchors\n",
      "\n",
      "\tFound 949 anchors\n",
      "\n",
      "Projecting new data onto SVD\n",
      "\n",
      "Projecting new data onto SVD\n",
      "\n",
      "Finding neighborhoods\n",
      "\n",
      "Finding anchors\n",
      "\n",
      "\tFound 705 anchors\n",
      "\n",
      "Projecting new data onto SVD\n",
      "\n",
      "Projecting new data onto SVD\n",
      "\n",
      "Finding neighborhoods\n",
      "\n",
      "Finding anchors\n",
      "\n",
      "\tFound 621 anchors\n",
      "\n",
      "Projecting new data onto SVD\n",
      "\n",
      "Projecting new data onto SVD\n",
      "\n",
      "Finding neighborhoods\n",
      "\n",
      "Finding anchors\n",
      "\n",
      "\tFound 701 anchors\n",
      "\n",
      "Projecting new data onto SVD\n",
      "\n",
      "Projecting new data onto SVD\n",
      "\n",
      "Finding neighborhoods\n",
      "\n",
      "Finding anchors\n",
      "\n",
      "\tFound 304 anchors\n",
      "\n",
      "Projecting new data onto SVD\n",
      "\n",
      "Projecting new data onto SVD\n",
      "\n",
      "Finding neighborhoods\n",
      "\n",
      "Finding anchors\n",
      "\n",
      "\tFound 409 anchors\n",
      "\n",
      "Projecting new data onto SVD\n",
      "\n",
      "Projecting new data onto SVD\n",
      "\n",
      "Finding neighborhoods\n",
      "\n",
      "Finding anchors\n",
      "\n",
      "\tFound 666 anchors\n",
      "\n",
      "Projecting new data onto SVD\n",
      "\n",
      "Projecting new data onto SVD\n",
      "\n",
      "Finding neighborhoods\n",
      "\n",
      "Finding anchors\n",
      "\n",
      "\tFound 541 anchors\n",
      "\n",
      "Merging dataset 6 into 5\n",
      "\n",
      "Extracting anchors for merged samples\n",
      "\n",
      "Finding integration vectors\n",
      "\n",
      "Finding integration vector weights\n",
      "\n",
      "Integrating data\n",
      "\n",
      "Warning message:\n",
      "\"Keys should be one or more alphanumeric characters followed by an underscore, setting key from integrated_gex_ to integratedgex_\"\n",
      "Warning message:\n",
      "\"Keys should be one or more alphanumeric characters followed by an underscore, setting key from integrated_gex_ to integratedgex_\"\n",
      "Merging dataset 7 into 5 6\n",
      "\n",
      "Extracting anchors for merged samples\n",
      "\n",
      "Finding integration vectors\n",
      "\n",
      "Finding integration vector weights\n",
      "\n",
      "Integrating data\n",
      "\n",
      "Warning message:\n",
      "\"Keys should be one or more alphanumeric characters followed by an underscore, setting key from integrated_gex_ to integratedgex_\"\n",
      "Warning message:\n",
      "\"Keys should be one or more alphanumeric characters followed by an underscore, setting key from integrated_gex_ to integratedgex_\"\n",
      "Merging dataset 9 into 1\n",
      "\n",
      "Extracting anchors for merged samples\n",
      "\n",
      "Finding integration vectors\n",
      "\n",
      "Finding integration vector weights\n",
      "\n",
      "Integrating data\n",
      "\n",
      "Warning message:\n",
      "\"Keys should be one or more alphanumeric characters followed by an underscore, setting key from integrated_gex_ to integratedgex_\"\n",
      "Warning message:\n",
      "\"Keys should be one or more alphanumeric characters followed by an underscore, setting key from integrated_gex_ to integratedgex_\"\n",
      "Merging dataset 4 into 2\n",
      "\n",
      "Extracting anchors for merged samples\n",
      "\n",
      "Finding integration vectors\n",
      "\n",
      "Finding integration vector weights\n",
      "\n",
      "Integrating data\n",
      "\n",
      "Warning message:\n",
      "\"Keys should be one or more alphanumeric characters followed by an underscore, setting key from integrated_gex_ to integratedgex_\"\n",
      "Warning message:\n",
      "\"Keys should be one or more alphanumeric characters followed by an underscore, setting key from integrated_gex_ to integratedgex_\"\n",
      "Merging dataset 5 6 7 into 2 4\n",
      "\n",
      "Extracting anchors for merged samples\n",
      "\n",
      "Finding integration vectors\n",
      "\n",
      "Finding integration vector weights\n",
      "\n",
      "Integrating data\n",
      "\n",
      "Warning message:\n",
      "\"Keys should be one or more alphanumeric characters followed by an underscore, setting key from integrated_gex_ to integratedgex_\"\n",
      "Warning message:\n",
      "\"Keys should be one or more alphanumeric characters followed by an underscore, setting key from integrated_gex_ to integratedgex_\"\n",
      "Merging dataset 8 into 10\n",
      "\n",
      "Extracting anchors for merged samples\n",
      "\n",
      "Finding integration vectors\n",
      "\n",
      "Finding integration vector weights\n",
      "\n",
      "Integrating data\n",
      "\n",
      "Warning message:\n",
      "\"Keys should be one or more alphanumeric characters followed by an underscore, setting key from integrated_gex_ to integratedgex_\"\n",
      "Warning message:\n",
      "\"Keys should be one or more alphanumeric characters followed by an underscore, setting key from integrated_gex_ to integratedgex_\"\n",
      "Merging dataset 1 9 into 2 4 5 6 7\n",
      "\n",
      "Extracting anchors for merged samples\n",
      "\n",
      "Finding integration vectors\n",
      "\n",
      "Finding integration vector weights\n",
      "\n",
      "Integrating data\n",
      "\n",
      "Warning message:\n",
      "\"Keys should be one or more alphanumeric characters followed by an underscore, setting key from integrated_gex_ to integratedgex_\"\n",
      "Warning message:\n",
      "\"Keys should be one or more alphanumeric characters followed by an underscore, setting key from integrated_gex_ to integratedgex_\"\n",
      "Merging dataset 3 into 2 4 5 6 7 1 9\n",
      "\n",
      "Extracting anchors for merged samples\n",
      "\n",
      "Finding integration vectors\n",
      "\n",
      "Finding integration vector weights\n",
      "\n",
      "Integrating data\n",
      "\n",
      "Warning message:\n",
      "\"Keys should be one or more alphanumeric characters followed by an underscore, setting key from integrated_gex_ to integratedgex_\"\n",
      "Warning message:\n",
      "\"Keys should be one or more alphanumeric characters followed by an underscore, setting key from integrated_gex_ to integratedgex_\"\n",
      "Merging dataset 10 8 into 2 4 5 6 7 1 9 3\n",
      "\n",
      "Extracting anchors for merged samples\n",
      "\n",
      "Finding integration vectors\n",
      "\n",
      "Finding integration vector weights\n",
      "\n",
      "Integrating data\n",
      "\n",
      "Warning message:\n",
      "\"Keys should be one or more alphanumeric characters followed by an underscore, setting key from integrated_gex_ to integratedgex_\"\n",
      "Warning message:\n",
      "\"Keys should be one or more alphanumeric characters followed by an underscore, setting key from integrated_gex_ to integratedgex_\"\n",
      "Warning message:\n",
      "\"Keys should be one or more alphanumeric characters followed by an underscore, setting key from integrated_gex_ to integratedgex_\"\n"
     ]
    },
    {
     "name": "stdout",
     "output_type": "stream",
     "text": [
      "[1] \"IntegrateData\"\n",
      "[1] \"GEX integration done\"\n"
     ]
    },
    {
     "name": "stderr",
     "output_type": "stream",
     "text": [
      "Centering and scaling data matrix\n",
      "\n",
      "PC_ 1 \n",
      "Positive:  FCN1, LYZ, AIF1, IFI30, MNDA, SERPINA1, CST3, CD14, SPI1, S100A9 \n",
      "\t   S100A8, CD68, GRN, AC020656.1, LST1, CSTA, VCAN, MS4A6A, CFP, CLEC7A \n",
      "\t   CSF3R, CYBB, CEBPD, TNFAIP2, TYMP, NCF2, MPEG1, CTSS, SLC11A1, LRP1 \n",
      "Negative:  CCL5, NKG7, SYNE2, CTSW, GZMA, CST7, KLRD1, TRBC2, GZMH, CD247 \n",
      "\t   FGFBP2, GZMM, GZMB, PRF1, IL32, GNLY, CD7, ISG20, HOPX, KLRK1 \n",
      "\t   ADGRG1, RORA, CD3E, TRBC1, IFITM1, C12orf75, CD2, SPON2, LCK, LIME1 \n",
      "PC_ 2 \n",
      "Positive:  CD79A, MS4A1, BANK1, TNFRSF13C, RALGPS2, HLA-DQA1, LINC00926, IGHM, BLK, IGHD \n",
      "\t   PAX5, MEF2C, HLA-DRA, LTB, AFF3, HLA-DQB1, CD74, TCF4, HLA-DRB1, ADAM28 \n",
      "\t   TCL1A, IGKC, NIBAN3, FCER2, VPREB3, SWAP70, FCRL2, HLA-DOB, FCRLA, CD79B \n",
      "Negative:  NKG7, CST7, CTSW, GZMB, GZMA, GNLY, SRGN, PRF1, S100A4, FGFBP2 \n",
      "\t   KLRD1, GZMM, CCL5, ID2, GZMH, PFN1, IFITM2, CD247, ANXA1, TMSB4X \n",
      "\t   CD7, FCGR3A, HOPX, CCL4, ADGRG1, KLRB1, CD63, IFITM1, SYNE2, SPON2 \n",
      "PC_ 3 \n",
      "Positive:  TYMS, RPS11, PTMA, RPL23, TMSB10, STMN1, NPM1, MIF, PCLAF, H3F3A \n",
      "\t   TK1, ZWINT, PPIA, SUB1, CLSPN, HIST1H4C, ANP32B, TMSB4X, TOP2A, ESCO2 \n",
      "\t   RRM2, CBX5, NUSAP1, TUBB, HSP90AB1, NASP, RPLP0, CDT1, H2AFZ, ACTG1 \n",
      "Negative:  NKAPL, FADS1, FOXO3, LINC02076, NEAT1, CBARP, DTHD1, NUMB, A2M-AS1, ZFAT \n",
      "\t   DENND3, BTBD8, S100A9, TRAV4, LRRCC1, PTK7, INPPL1, ZEB2, AL592295.5, XIST \n",
      "\t   S100A8, TOGARAM2, LINC02384, SLC7A5, MAPK6, SLC2A3, BRIP1, ITGAX, SAT1, THBS1 \n",
      "PC_ 4 \n",
      "Positive:  KLRF1, IGFBP7, FCGR3A, CHST2, PLAC8, CLIC3, FCER1G, TYROBP, SH2D1B, PRF1 \n",
      "\t   SPON2, GNLY, GZMB, ZBTB16, KLRB1, CD160, FGFBP2, RHOC, S1PR5, IL2RB \n",
      "\t   TMIGD2, TRDC, HOPX, PTGDR, CD247, LAT2, TXK, CD38, CXXC5, KLRD1 \n",
      "Negative:  IL7R, TRAC, CD3D, CD3G, PCLAF, CD3E, IL32, TYMS, MKI67, TK1 \n",
      "\t   TOP2A, NUSAP1, CENPU, MAL, CD6, BCL11B, PCNA, BIRC5, CDK1, NCAPH \n",
      "\t   ZWINT, CD5, GINS2, SMC2, BUB1B, TCF7, CACNA1I, CLSPN, MAD2L1, NELL2 \n",
      "PC_ 5 \n",
      "Positive:  CD3D, CD3E, CD3G, RPS11, RPL23, TRAC, IL32, TMSB10, TRGC2, CD8B \n",
      "\t   LIME1, NPM1, CD8A, S100A4, SPOCK2, TMSB4X, RPLP0, IL7R, CD5, SSR4 \n",
      "\t   HSP90AB1, LDHB, CD2, TRBC2, MIF, TRBC1, LINC01871, JUN, DUSP2, HERPUD1 \n",
      "Negative:  NKAPL, FOXM1, HIST1H1B, RRM2, ASF1B, MKI67, PCLAF, TYMS, FADS1, XIST \n",
      "\t   PCNA, CDK1, TK1, ASPM, NUSAP1, SPON2, LRRCC1, CLSPN, KIFC1, CD38 \n",
      "\t   CDT1, PKMYT1, BIRC5, GTSE1, GINS2, ZWINT, LINC02076, CKAP2L, TOP2A, BRIP1 \n",
      "\n",
      "Warning message:\n",
      "\"The default method for RunUMAP has changed from calling Python UMAP via reticulate to the R-native UWOT using the cosine metric\n",
      "To use Python UMAP via reticulate, set umap.method to 'umap-learn' and metric to 'correlation'\n",
      "This message will be shown once per session\"\n",
      "14:16:55 UMAP embedding parameters a = 0.9922 b = 1.112\n",
      "\n",
      "14:16:55 Read 14672 rows and found 30 numeric columns\n",
      "\n",
      "14:16:55 Using Annoy for neighbor search, n_neighbors = 30\n",
      "\n",
      "14:16:55 Building Annoy index with metric = cosine, n_trees = 50\n",
      "\n",
      "0%   10   20   30   40   50   60   70   80   90   100%\n",
      "\n",
      "[----|----|----|----|----|----|----|----|----|----|\n",
      "\n",
      "*\n",
      "*\n",
      "*\n",
      "*\n",
      "*\n",
      "*\n",
      "*\n",
      "*\n",
      "*\n",
      "*\n",
      "*\n",
      "*\n",
      "*\n",
      "*\n",
      "*\n",
      "*\n",
      "*\n",
      "*\n",
      "*\n",
      "*\n",
      "*\n",
      "*\n",
      "*\n",
      "*\n",
      "*\n",
      "*\n",
      "*\n",
      "*\n",
      "*\n",
      "*\n",
      "*\n",
      "*\n",
      "*\n",
      "*\n",
      "*\n",
      "*\n",
      "*\n",
      "*\n",
      "*\n",
      "*\n",
      "*\n",
      "*\n",
      "*\n",
      "*\n",
      "*\n",
      "*\n",
      "*\n",
      "*\n",
      "*\n",
      "*\n",
      "|\n",
      "\n",
      "14:16:57 Writing NN index file to temp file C:\\Users\\mjopp\\AppData\\Local\\Temp\\RtmpYX3kqq\\filea95c056f\n",
      "\n",
      "14:16:57 Searching Annoy index using 1 thread, search_k = 3000\n",
      "\n",
      "14:17:00 Annoy recall = 100%\n",
      "\n",
      "14:17:02 Commencing smooth kNN distance calibration using 1 thread\n",
      " with target n_neighbors = 30\n",
      "\n",
      "14:17:03 Initializing from normalized Laplacian + noise (using irlba)\n",
      "\n",
      "14:17:04 Commencing optimization for 200 epochs, with 646060 positive edges\n",
      "\n",
      "14:17:17 Optimization finished\n",
      "\n"
     ]
    },
    {
     "name": "stdout",
     "output_type": "stream",
     "text": [
      "[1] \"libintegration/ig_dimplot 8 6\"\n",
      "[1] \"Saving to file libintegration/ig_dimplot.png\"\n",
      "[1] \"Saving to file libintegration/ig_dimplot.pdf\"\n",
      "[1] \"Saving to file libintegration/ig_dimplot.svg\"\n",
      "[1] \"Saving to file libintegration/ig_dimplot.data\"\n"
     ]
    }
   ],
   "source": [
    "\n",
    "integratedList_sample = performIntegration(finalList$data, \"libintegration\", features.integration = finalList$features, gex.method.normalization=\"LogNormalize\", gex.method.integration=\"rpca\", add.do=FALSE, run.parallel=FALSE)\n"
   ]
  },
  {
   "cell_type": "code",
   "execution_count": 12,
   "id": "e12501d5",
   "metadata": {},
   "outputs": [
    {
     "data": {
      "image/png": "[encoded data removed]",
      "text/plain": [
       "plot without title"
      ]
     },
     "metadata": {
      "image/png": {
       "height": 420,
       "width": 420
      }
     },
     "output_type": "display_data"
    }
   ],
   "source": [
    "\n",
    "ElbowPlot(integratedList_sample$integrated, ndims=30, reduction = \"igpca\")\n"
   ]
  },
  {
   "cell_type": "code",
   "execution_count": 13,
   "id": "26b77730",
   "metadata": {
    "lines_to_next_cell": 2
   },
   "outputs": [
    {
     "name": "stdout",
     "output_type": "stream",
     "text": [
      "[1] \"Scale Data\"\n",
      "[1] \"dim.reduction igpca\"\n",
      "[1] \"RunUMAP Data\"\n"
     ]
    },
    {
     "name": "stderr",
     "output_type": "stream",
     "text": [
      "14:17:22 UMAP embedding parameters a = 0.9922 b = 1.112\n",
      "\n",
      "14:17:22 Read 14672 rows and found 10 numeric columns\n",
      "\n",
      "14:17:22 Using Annoy for neighbor search, n_neighbors = 30\n",
      "\n",
      "14:17:22 Building Annoy index with metric = cosine, n_trees = 50\n",
      "\n",
      "0%   10   20   30   40   50   60   70   80   90   100%\n",
      "\n",
      "[----|----|----|----|----|----|----|----|----|----|\n",
      "\n",
      "*\n",
      "*\n",
      "*\n",
      "*\n",
      "*\n",
      "*\n",
      "*\n",
      "*\n",
      "*\n",
      "*\n",
      "*\n",
      "*\n",
      "*\n",
      "*\n",
      "*\n",
      "*\n",
      "*\n",
      "*\n",
      "*\n",
      "*\n",
      "*\n",
      "*\n",
      "*\n",
      "*\n",
      "*\n",
      "*\n",
      "*\n",
      "*\n",
      "*\n",
      "*\n",
      "*\n",
      "*\n",
      "*\n",
      "*\n",
      "*\n",
      "*\n",
      "*\n",
      "*\n",
      "*\n",
      "*\n",
      "*\n",
      "*\n",
      "*\n",
      "*\n",
      "*\n",
      "*\n",
      "*\n",
      "*\n",
      "*\n",
      "*\n",
      "|\n",
      "\n",
      "14:17:23 Writing NN index file to temp file C:\\Users\\mjopp\\AppData\\Local\\Temp\\RtmpYX3kqq\\filea95c28974f59\n",
      "\n",
      "14:17:23 Searching Annoy index using 1 thread, search_k = 3000\n",
      "\n",
      "14:17:27 Annoy recall = 100%\n",
      "\n",
      "14:17:28 Commencing smooth kNN distance calibration using 1 thread\n",
      " with target n_neighbors = 30\n",
      "\n",
      "14:17:29 Initializing from normalized Laplacian + noise (using irlba)\n",
      "\n",
      "14:17:30 Commencing optimization for 200 epochs, with 607300 positive edges\n",
      "\n",
      "14:17:43 Optimization finished\n",
      "\n"
     ]
    },
    {
     "name": "stdout",
     "output_type": "stream",
     "text": [
      "[1] \"FindNeighbors Data\"\n"
     ]
    },
    {
     "name": "stderr",
     "output_type": "stream",
     "text": [
      "Computing nearest neighbor graph\n",
      "\n",
      "Computing SNN\n",
      "\n"
     ]
    },
    {
     "name": "stdout",
     "output_type": "stream",
     "text": [
      "[1] \"FindClusters Data\"\n",
      "Modularity Optimizer version 1.3.0 by Ludo Waltman and Nees Jan van Eck\n",
      "\n",
      "Number of nodes: 14672\n",
      "Number of edges: 496246\n",
      "\n",
      "Running Louvain algorithm...\n",
      "Maximum modularity in 10 random starts: 0.9177\n",
      "Number of communities: 14\n",
      "Elapsed time: 1 seconds\n",
      "[1] \"libintegration/dimplot_umap 12 8\"\n",
      "[1] \"Saving to file libintegration/dimplot_umap.png\"\n",
      "[1] \"Saving to file libintegration/dimplot_umap.pdf\"\n",
      "[1] \"Saving to file libintegration/dimplot_umap.svg\"\n",
      "[1] \"Saving to file libintegration/dimplot_umap.data\"\n",
      "[1] \"libintegration/dimplot_umap_project 24 40\"\n",
      "[1] \"Saving to file libintegration/dimplot_umap_project.png\"\n",
      "[1] \"Saving to file libintegration/dimplot_umap_project.pdf\"\n",
      "[1] \"Saving to file libintegration/dimplot_umap_project.svg\"\n",
      "[1] \"Saving to file libintegration/dimplot_umap_project.data\"\n"
     ]
    }
   ],
   "source": [
    "\n",
    "obj.integrated = preprocessIntegrated(integratedList_sample$integrated, \"integrated_gex\", \"libintegration\",  resolution=0.5, num.pcs=10, dim.reduction=\"igpca\", with.hto=FALSE)\n",
    "\n"
   ]
  },
  {
   "cell_type": "code",
   "execution_count": 14,
   "id": "23d9481a",
   "metadata": {
    "lines_to_next_cell": 2
   },
   "outputs": [],
   "source": [
    "obj.integrated@reductions$ig.umap = NULL"
   ]
  },
  {
   "cell_type": "code",
   "execution_count": 15,
   "id": "9fb276a7",
   "metadata": {},
   "outputs": [
    {
     "data": {
      "image/png": "[encoded data removed]",
      "text/plain": [
       "plot without title"
      ]
     },
     "metadata": {
      "image/png": {
       "height": 420,
       "width": 420
      }
     },
     "output_type": "display_data"
    }
   ],
   "source": [
    "DimPlot(obj.integrated, label=T)"
   ]
  },
  {
   "cell_type": "code",
   "execution_count": 16,
   "id": "c172ba81",
   "metadata": {},
   "outputs": [
    {
     "data": {
      "text/html": [
       "<table class=\"dataframe\">\n",
       "<caption>A data.frame: 10 × 5</caption>\n",
       "<thead>\n",
       "\t<tr><th></th><th scope=col>Library</th><th scope=col>SampleName</th><th scope=col>patients</th><th scope=col>Mpoint</th><th scope=col>Condition</th></tr>\n",
       "\t<tr><th></th><th scope=col>&lt;int&gt;</th><th scope=col>&lt;chr&gt;</th><th scope=col>&lt;chr&gt;</th><th scope=col>&lt;int&gt;</th><th scope=col>&lt;chr&gt;</th></tr>\n",
       "</thead>\n",
       "<tbody>\n",
       "\t<tr><th scope=row>1</th><td> 1</td><td>20094_0001_A_B</td><td>1-3  </td><td>1</td><td>SYMPTOMATIC </td></tr>\n",
       "\t<tr><th scope=row>4</th><td> 2</td><td>20094_0002_A_B</td><td>1-3  </td><td>2</td><td>SYMPTOMATIC </td></tr>\n",
       "\t<tr><th scope=row>7</th><td> 3</td><td>20094_0003_A_B</td><td>1-3  </td><td>3</td><td>SYMPTOMATIC </td></tr>\n",
       "\t<tr><th scope=row>2</th><td> 4</td><td>20094_0004_A_B</td><td>4-6  </td><td>1</td><td>ASYMPTOMATIC</td></tr>\n",
       "\t<tr><th scope=row>5</th><td> 5</td><td>20094_0005_A_B</td><td>4-6  </td><td>2</td><td>ASYMPTOMATIC</td></tr>\n",
       "\t<tr><th scope=row>8</th><td> 6</td><td>20094_0006_A_B</td><td>4-6  </td><td>3</td><td>ASYMPTOMATIC</td></tr>\n",
       "\t<tr><th scope=row>3</th><td> 7</td><td>20094_0007_A_B</td><td>7-9  </td><td>1</td><td>SYMPTOMATIC </td></tr>\n",
       "\t<tr><th scope=row>6</th><td> 8</td><td>20094_0008_A_B</td><td>7-9  </td><td>2</td><td>SYMPTOMATIC </td></tr>\n",
       "\t<tr><th scope=row>9</th><td> 9</td><td>20094_0009_A_B</td><td>7-9  </td><td>3</td><td>SYMPTOMATIC </td></tr>\n",
       "\t<tr><th scope=row>10</th><td>12</td><td>20094_0012_A_B</td><td>12-14</td><td>1</td><td>CONTROL     </td></tr>\n",
       "</tbody>\n",
       "</table>\n"
      ],
      "text/latex": [
       "A data.frame: 10 × 5\n",
       "\\begin{tabular}{r|lllll}\n",
       "  & Library & SampleName & patients & Mpoint & Condition\\\\\n",
       "  & <int> & <chr> & <chr> & <int> & <chr>\\\\\n",
       "\\hline\n",
       "\t1 &  1 & 20094\\_0001\\_A\\_B & 1-3   & 1 & SYMPTOMATIC \\\\\n",
       "\t4 &  2 & 20094\\_0002\\_A\\_B & 1-3   & 2 & SYMPTOMATIC \\\\\n",
       "\t7 &  3 & 20094\\_0003\\_A\\_B & 1-3   & 3 & SYMPTOMATIC \\\\\n",
       "\t2 &  4 & 20094\\_0004\\_A\\_B & 4-6   & 1 & ASYMPTOMATIC\\\\\n",
       "\t5 &  5 & 20094\\_0005\\_A\\_B & 4-6   & 2 & ASYMPTOMATIC\\\\\n",
       "\t8 &  6 & 20094\\_0006\\_A\\_B & 4-6   & 3 & ASYMPTOMATIC\\\\\n",
       "\t3 &  7 & 20094\\_0007\\_A\\_B & 7-9   & 1 & SYMPTOMATIC \\\\\n",
       "\t6 &  8 & 20094\\_0008\\_A\\_B & 7-9   & 2 & SYMPTOMATIC \\\\\n",
       "\t9 &  9 & 20094\\_0009\\_A\\_B & 7-9   & 3 & SYMPTOMATIC \\\\\n",
       "\t10 & 12 & 20094\\_0012\\_A\\_B & 12-14 & 1 & CONTROL     \\\\\n",
       "\\end{tabular}\n"
      ],
      "text/markdown": [
       "\n",
       "A data.frame: 10 × 5\n",
       "\n",
       "| <!--/--> | Library &lt;int&gt; | SampleName &lt;chr&gt; | patients &lt;chr&gt; | Mpoint &lt;int&gt; | Condition &lt;chr&gt; |\n",
       "|---|---|---|---|---|---|\n",
       "| 1 |  1 | 20094_0001_A_B | 1-3   | 1 | SYMPTOMATIC  |\n",
       "| 4 |  2 | 20094_0002_A_B | 1-3   | 2 | SYMPTOMATIC  |\n",
       "| 7 |  3 | 20094_0003_A_B | 1-3   | 3 | SYMPTOMATIC  |\n",
       "| 2 |  4 | 20094_0004_A_B | 4-6   | 1 | ASYMPTOMATIC |\n",
       "| 5 |  5 | 20094_0005_A_B | 4-6   | 2 | ASYMPTOMATIC |\n",
       "| 8 |  6 | 20094_0006_A_B | 4-6   | 3 | ASYMPTOMATIC |\n",
       "| 3 |  7 | 20094_0007_A_B | 7-9   | 1 | SYMPTOMATIC  |\n",
       "| 6 |  8 | 20094_0008_A_B | 7-9   | 2 | SYMPTOMATIC  |\n",
       "| 9 |  9 | 20094_0009_A_B | 7-9   | 3 | SYMPTOMATIC  |\n",
       "| 10 | 12 | 20094_0012_A_B | 12-14 | 1 | CONTROL      |\n",
       "\n"
      ],
      "text/plain": [
       "   Library SampleName     patients Mpoint Condition   \n",
       "1   1      20094_0001_A_B 1-3      1      SYMPTOMATIC \n",
       "4   2      20094_0002_A_B 1-3      2      SYMPTOMATIC \n",
       "7   3      20094_0003_A_B 1-3      3      SYMPTOMATIC \n",
       "2   4      20094_0004_A_B 4-6      1      ASYMPTOMATIC\n",
       "5   5      20094_0005_A_B 4-6      2      ASYMPTOMATIC\n",
       "8   6      20094_0006_A_B 4-6      3      ASYMPTOMATIC\n",
       "3   7      20094_0007_A_B 7-9      1      SYMPTOMATIC \n",
       "6   8      20094_0008_A_B 7-9      2      SYMPTOMATIC \n",
       "9   9      20094_0009_A_B 7-9      3      SYMPTOMATIC \n",
       "10 12      20094_0012_A_B 12-14    1      CONTROL     "
      ]
     },
     "metadata": {},
     "output_type": "display_data"
    }
   ],
   "source": [
    "\n",
    "df = read.table(\"samples2condition.df\", header = TRUE)\n",
    "df[order(df$SampleName),]\n"
   ]
  },
  {
   "cell_type": "code",
   "execution_count": 17,
   "id": "bcdaebb2",
   "metadata": {
    "lines_to_next_cell": 0
   },
   "outputs": [
    {
     "name": "stdout",
     "output_type": "stream",
     "text": [
      "[1] \"SYMPTOMATIC TRUE\"\n",
      "[1] \"SYMPTOMATIC TRUE\"\n",
      "[1] \"SYMPTOMATIC TRUE\"\n",
      "[1] \"ASYMPTOMATIC TRUE\"\n",
      "[1] \"ASYMPTOMATIC TRUE\"\n",
      "[1] \"ASYMPTOMATIC TRUE\"\n",
      "[1] \"SYMPTOMATIC TRUE\"\n",
      "[1] \"SYMPTOMATIC TRUE\"\n",
      "[1] \"SYMPTOMATIC TRUE\"\n",
      "[1] \"CONTROL TRUE\"\n",
      "[1] SYMPTOMATIC  ASYMPTOMATIC CONTROL     \n",
      "Levels: CONTROL ASYMPTOMATIC SYMPTOMATIC\n",
      "[1] \"TP 1 TRUE\"\n",
      "[1] \"TP 2 TRUE\"\n",
      "[1] \"TP 3 TRUE\"\n",
      "[1] \"TP 1 TRUE\"\n",
      "[1] \"TP 2 TRUE\"\n",
      "[1] \"TP 3 TRUE\"\n",
      "[1] \"TP 1 TRUE\"\n",
      "[1] \"TP 2 TRUE\"\n",
      "[1] \"TP 3 TRUE\"\n",
      "[1] \"Ctrl TRUE\"\n",
      "[1] TP 1 TP 2 TP 3 Ctrl\n",
      "Levels: Ctrl TP 1 TP 2 TP 3\n"
     ]
    }
   ],
   "source": [
    "\n",
    "annotateList.sample_condition = list(\n",
    "  list(name=\"SYMPTOMATIC\", selector=\"^20094_0001\"),\n",
    "  list(name=\"SYMPTOMATIC\", selector=\"^20094_0002\"),\n",
    "  list(name=\"SYMPTOMATIC\", selector=\"^20094_0003\"),\n",
    "  list(name=\"ASYMPTOMATIC\", selector=\"^20094_0004\"),\n",
    "  list(name=\"ASYMPTOMATIC\", selector=\"^20094_0005\"),\n",
    "  list(name=\"ASYMPTOMATIC\", selector=\"^20094_0006\"),\n",
    "  list(name=\"SYMPTOMATIC\", selector=\"^20094_0007\"),\n",
    "  list(name=\"SYMPTOMATIC\", selector=\"^20094_0008\"),\n",
    "  list(name=\"SYMPTOMATIC\", selector=\"^20094_0009\"),\n",
    "  list(name=\"CONTROL\", selector=\"^20094_0012\")\n",
    "\n",
    ")\n",
    "\n",
    "obj.integrated = annotateByCellnamePattern( obj.integrated, \"condition\", annotateList.sample_condition, order=c(\"CONTROL\", \"ASYMPTOMATIC\", \"SYMPTOMATIC\"))\n",
    "\n",
    "annotateList.sample_condition = list(\n",
    "  list(name=\"TP 1\", selector=\"^20094_0001\"),\n",
    "  list(name=\"TP 2\", selector=\"^20094_0002\"),\n",
    "  list(name=\"TP 3\", selector=\"^20094_0003\"),\n",
    "  list(name=\"TP 1\", selector=\"^20094_0004\"),\n",
    "  list(name=\"TP 2\", selector=\"^20094_0005\"),\n",
    "  list(name=\"TP 3\", selector=\"^20094_0006\"),\n",
    "  list(name=\"TP 1\", selector=\"^20094_0007\"),\n",
    "  list(name=\"TP 2\", selector=\"^20094_0008\"),\n",
    "  list(name=\"TP 3\", selector=\"^20094_0009\"),\n",
    "  list(name=\"Ctrl\", selector=\"^20094_0012\")\n",
    ")\n",
    "\n",
    "obj.integrated = annotateByCellnamePattern( obj.integrated, \"tp\", annotateList.sample_condition, order=c(\"Ctrl\", \"TP 1\", \"TP 2\", \"TP 3\"))\n",
    "\n"
   ]
  },
  {
   "cell_type": "code",
   "execution_count": 18,
   "id": "5a2d5aeb",
   "metadata": {
    "fig.height": 20,
    "fig.width": 24,
    "lines_to_next_cell": 2
   },
   "outputs": [
    {
     "name": "stdout",
     "output_type": "stream",
     "text": [
      "[1] CONTROL      ASYMPTOMATIC SYMPTOMATIC \n",
      "Levels: CONTROL ASYMPTOMATIC SYMPTOMATIC\n",
      "[1] Ctrl TP 1 TP 2 TP 3\n",
      "Levels: Ctrl TP 1 TP 2 TP 3\n",
      "[1] \"CONTROL_Ctrl\"\n",
      "[1] 3449\n",
      "[1] \"CONTROL_TP 1\"\n",
      "[1] 0\n",
      "[1] \"CONTROL_TP 2\"\n",
      "[1] 0\n",
      "[1] \"CONTROL_TP 3\"\n",
      "[1] 0\n",
      "[1] \"ASYMPTOMATIC_Ctrl\"\n",
      "[1] 0\n",
      "[1] \"ASYMPTOMATIC_TP 1\"\n",
      "[1] 884\n",
      "[1] \"ASYMPTOMATIC_TP 2\"\n",
      "[1] 1202\n",
      "[1] \"ASYMPTOMATIC_TP 3\"\n",
      "[1] 198\n",
      "[1] \"SYMPTOMATIC_Ctrl\"\n",
      "[1] 0\n",
      "[1] \"SYMPTOMATIC_TP 1\"\n",
      "[1] 3024\n",
      "[1] \"SYMPTOMATIC_TP 2\"\n",
      "[1] 3180\n",
      "[1] \"SYMPTOMATIC_TP 3\"\n",
      "[1] 2735\n",
      "[1] \"Finishing Plot\"\n"
     ]
    },
    {
     "name": "stderr",
     "output_type": "stream",
     "text": [
      "Warning message:\n",
      "\"\u001b[1m\u001b[22mRemoved 131 rows containing missing values (`geom_point()`).\"\n"
     ]
    },
    {
     "name": "stdout",
     "output_type": "stream",
     "text": [
      "[1] \"Combining Plots\"\n"
     ]
    },
    {
     "name": "stderr",
     "output_type": "stream",
     "text": [
      "Warning message:\n",
      "\"\u001b[1m\u001b[22mRemoved 430 rows containing missing values (`geom_point()`).\"\n",
      "Warning message:\n",
      "\"\u001b[1m\u001b[22mRemoved 35 rows containing missing values (`geom_point()`).\"\n",
      "Warning message:\n",
      "\"\u001b[1m\u001b[22mRemoved 47 rows containing missing values (`geom_point()`).\"\n",
      "Warning message:\n",
      "\"\u001b[1m\u001b[22mRemoved 9 rows containing missing values (`geom_point()`).\"\n",
      "Warning message:\n",
      "\"\u001b[1m\u001b[22mRemoved 101 rows containing missing values (`geom_point()`).\"\n",
      "Warning message:\n",
      "\"\u001b[1m\u001b[22mRemoved 161 rows containing missing values (`geom_point()`).\"\n",
      "Warning message:\n",
      "\"\u001b[1m\u001b[22mRemoved 131 rows containing missing values (`geom_point()`).\"\n",
      "Warning message:\n",
      "\"Graphs cannot be vertically aligned unless the axis parameter is set. Placing graphs unaligned.\"\n",
      "Warning message:\n",
      "\"Graphs cannot be horizontally aligned unless the axis parameter is set. Placing graphs unaligned.\"\n"
     ]
    },
    {
     "name": "stdout",
     "output_type": "stream",
     "text": [
      "[1] \"Combining Legend\"\n",
      "[1] \"split_dimplot_downsample_no 24 20\"\n",
      "[1] \"Saving to file split_dimplot_downsample_no.png\"\n",
      "[1] \"Saving to file split_dimplot_downsample_no.pdf\"\n",
      "[1] \"Saving to file split_dimplot_downsample_no.svg\"\n",
      "[1] \"list case\"\n",
      "[1] \"Saving to file split_dimplot_downsample_no.1.data\"\n",
      "[1] \"Saving to file split_dimplot_downsample_no.2.data\"\n",
      "[1] \"multi list case\"\n",
      "[1] \"Saving to file split_dimplot_downsample_no.2.1.data data.frame\"\n",
      "[1] \"Saving to file split_dimplot_downsample_no.2.2.data waiver\"\n",
      "[1] \"Saving to file split_dimplot_downsample_no.2.3.data waiver\"\n",
      "[1] \"Saving to file split_dimplot_downsample_no.2.4.data waiver\"\n",
      "[1] \"Saving to file split_dimplot_downsample_no.2.5.data waiver\"\n",
      "[1] \"Saving to file split_dimplot_downsample_no.2.6.data data.frame\"\n",
      "[1] \"Saving to file split_dimplot_downsample_no.2.7.data data.frame\"\n",
      "[1] \"Saving to file split_dimplot_downsample_no.2.8.data data.frame\"\n",
      "[1] \"Saving to file split_dimplot_downsample_no.2.9.data waiver\"\n",
      "[1] \"Saving to file split_dimplot_downsample_no.2.10.data data.frame\"\n",
      "[1] \"Saving to file split_dimplot_downsample_no.2.11.data data.frame\"\n",
      "[1] \"Saving to file split_dimplot_downsample_no.2.12.data data.frame\"\n"
     ]
    },
    {
     "data": {
      "image/png": "[encoded data removed]",
      "text/plain": [
       "plot without title"
      ]
     },
     "metadata": {
      "image/png": {
       "height": 420,
       "width": 420
      }
     },
     "output_type": "display_data"
    }
   ],
   "source": [
    "p=makeUMAPPlot(obj.integrated, dim1 = \"condition\", dim2=\"tp\", group.by=\"idents\", downsample = FALSE)\n",
    "save_plot(p, \"split_dimplot_downsample_no\", 24, 20)\n"
   ]
  },
  {
   "cell_type": "code",
   "execution_count": 19,
   "id": "55b8abb0",
   "metadata": {
    "fig.height": 20,
    "fig.width": 24,
    "lines_to_next_cell": 2
   },
   "outputs": [
    {
     "name": "stdout",
     "output_type": "stream",
     "text": [
      "[1] CONTROL      ASYMPTOMATIC SYMPTOMATIC \n",
      "Levels: CONTROL ASYMPTOMATIC SYMPTOMATIC\n",
      "[1] Ctrl TP 1 TP 2 TP 3\n",
      "Levels: Ctrl TP 1 TP 2 TP 3\n",
      "[1] \"Downsampling 198\"\n",
      "[1] \"CONTROL_Ctrl\"\n",
      "[1] 198\n",
      "[1] \"CONTROL_TP 1\"\n",
      "[1] 0\n",
      "[1] \"CONTROL_TP 2\"\n",
      "[1] 0\n",
      "[1] \"CONTROL_TP 3\"\n",
      "[1] 0\n",
      "[1] \"ASYMPTOMATIC_Ctrl\"\n",
      "[1] 0\n",
      "[1] \"ASYMPTOMATIC_TP 1\"\n",
      "[1] 198\n",
      "[1] \"ASYMPTOMATIC_TP 2\"\n",
      "[1] 198\n",
      "[1] \"ASYMPTOMATIC_TP 3\"\n",
      "[1] 198\n",
      "[1] \"SYMPTOMATIC_Ctrl\"\n",
      "[1] 0\n",
      "[1] \"SYMPTOMATIC_TP 1\"\n",
      "[1] 198\n",
      "[1] \"SYMPTOMATIC_TP 2\"\n",
      "[1] 198\n",
      "[1] \"SYMPTOMATIC_TP 3\"\n",
      "[1] 198\n",
      "[1] \"Finishing Plot\"\n"
     ]
    },
    {
     "name": "stderr",
     "output_type": "stream",
     "text": [
      "Warning message:\n",
      "\"\u001b[1m\u001b[22mRemoved 7 rows containing missing values (`geom_point()`).\"\n"
     ]
    },
    {
     "name": "stdout",
     "output_type": "stream",
     "text": [
      "[1] \"Combining Plots\"\n"
     ]
    },
    {
     "name": "stderr",
     "output_type": "stream",
     "text": [
      "Warning message:\n",
      "\"\u001b[1m\u001b[22mRemoved 30 rows containing missing values (`geom_point()`).\"\n",
      "Warning message:\n",
      "\"\u001b[1m\u001b[22mRemoved 10 rows containing missing values (`geom_point()`).\"\n",
      "Warning message:\n",
      "\"\u001b[1m\u001b[22mRemoved 7 rows containing missing values (`geom_point()`).\"\n",
      "Warning message:\n",
      "\"\u001b[1m\u001b[22mRemoved 9 rows containing missing values (`geom_point()`).\"\n",
      "Warning message:\n",
      "\"\u001b[1m\u001b[22mRemoved 8 rows containing missing values (`geom_point()`).\"\n",
      "Warning message:\n",
      "\"\u001b[1m\u001b[22mRemoved 8 rows containing missing values (`geom_point()`).\"\n",
      "Warning message:\n",
      "\"\u001b[1m\u001b[22mRemoved 7 rows containing missing values (`geom_point()`).\"\n",
      "Warning message:\n",
      "\"Graphs cannot be vertically aligned unless the axis parameter is set. Placing graphs unaligned.\"\n",
      "Warning message:\n",
      "\"Graphs cannot be horizontally aligned unless the axis parameter is set. Placing graphs unaligned.\"\n"
     ]
    },
    {
     "name": "stdout",
     "output_type": "stream",
     "text": [
      "[1] \"Combining Legend\"\n",
      "[1] \"split_dimplot_downsample 24 20\"\n",
      "[1] \"Saving to file split_dimplot_downsample.png\"\n",
      "[1] \"Saving to file split_dimplot_downsample.pdf\"\n",
      "[1] \"Saving to file split_dimplot_downsample.svg\"\n",
      "[1] \"list case\"\n",
      "[1] \"Saving to file split_dimplot_downsample.1.data\"\n",
      "[1] \"Saving to file split_dimplot_downsample.2.data\"\n",
      "[1] \"multi list case\"\n",
      "[1] \"Saving to file split_dimplot_downsample.2.1.data data.frame\"\n",
      "[1] \"Saving to file split_dimplot_downsample.2.2.data waiver\"\n",
      "[1] \"Saving to file split_dimplot_downsample.2.3.data waiver\"\n",
      "[1] \"Saving to file split_dimplot_downsample.2.4.data waiver\"\n",
      "[1] \"Saving to file split_dimplot_downsample.2.5.data waiver\"\n",
      "[1] \"Saving to file split_dimplot_downsample.2.6.data data.frame\"\n",
      "[1] \"Saving to file split_dimplot_downsample.2.7.data data.frame\"\n",
      "[1] \"Saving to file split_dimplot_downsample.2.8.data data.frame\"\n",
      "[1] \"Saving to file split_dimplot_downsample.2.9.data waiver\"\n",
      "[1] \"Saving to file split_dimplot_downsample.2.10.data data.frame\"\n",
      "[1] \"Saving to file split_dimplot_downsample.2.11.data data.frame\"\n",
      "[1] \"Saving to file split_dimplot_downsample.2.12.data data.frame\"\n"
     ]
    },
    {
     "data": {
      "image/png": "[encoded data removed]",
      "text/plain": [
       "plot without title"
      ]
     },
     "metadata": {
      "image/png": {
       "height": 420,
       "width": 420
      }
     },
     "output_type": "display_data"
    }
   ],
   "source": [
    "p=makeUMAPPlot(obj.integrated, dim1 = \"condition\", dim2=\"tp\", group.by=\"idents\", downsample = TRUE)\n",
    "save_plot(p, \"split_dimplot_downsample\", 24, 20)\n",
    "\n"
   ]
  },
  {
   "cell_type": "code",
   "execution_count": 20,
   "id": "e2509db2",
   "metadata": {},
   "outputs": [
    {
     "name": "stderr",
     "output_type": "stream",
     "text": [
      "Warning message in dir.create(\"libintegration/de\"):\n",
      "\"'libintegration\\de' already exists\"\n"
     ]
    },
    {
     "name": "stdout",
     "output_type": "stream",
     "text": [
      "[1] \"Processing cluster 0 with a total of 3412 cells\"\n",
      "[1] FALSE\n",
      "[1] \"Processing cluster 1 with a total of 2517 cells\"\n",
      "[1] FALSE\n",
      "[1] \"Processing cluster 2 with a total of 1399 cells\"\n",
      "[1] FALSE\n",
      "[1] \"Processing cluster 3 with a total of 1223 cells\"\n",
      "[1] FALSE\n",
      "[1] \"Processing cluster 4 with a total of 941 cells\"\n",
      "[1] FALSE\n",
      "[1] \"Processing cluster 5 with a total of 929 cells\"\n",
      "[1] FALSE\n",
      "[1] \"Processing cluster 6 with a total of 910 cells\"\n",
      "[1] FALSE\n",
      "[1] \"Processing cluster 7 with a total of 889 cells\"\n",
      "[1] FALSE\n",
      "[1] \"Processing cluster 8 with a total of 836 cells\"\n",
      "[1] FALSE\n",
      "[1] \"Processing cluster 9 with a total of 656 cells\"\n",
      "[1] FALSE\n",
      "[1] \"Processing cluster 10 with a total of 357 cells\"\n",
      "[1] FALSE\n",
      "[1] \"Processing cluster 11 with a total of 349 cells\"\n",
      "[1] FALSE\n",
      "[1] \"Processing cluster 12 with a total of 191 cells\"\n",
      "[1] FALSE\n",
      "[1] \"Processing cluster 13 with a total of 63 cells\"\n",
      "[1] FALSE\n",
      "NULL\n",
      "[1] \"0\"\n",
      "[1] \"1\"\n",
      "[1] \"2\"\n",
      "[1] \"3\"\n",
      "[1] \"4\"\n",
      "[1] \"5\"\n",
      "[1] \"6\"\n",
      "[1] \"7\"\n",
      "[1] \"8\"\n",
      "[1] \"9\"\n",
      "[1] \"10\"\n",
      "[1] \"11\"\n",
      "[1] \"12\"\n",
      "[1] \"13\"\n"
     ]
    }
   ],
   "source": [
    "\n",
    "dir.create(\"libintegration/de\")\n",
    "\n",
    "exprdfTT = makeDEResults(obj.integrated, assay=\"RNA\", test=\"t\")\n",
    "write.table(exprdfTT, \"libintegration/de/expr_test_t.tsv\", sep=\"\\t\", row.names=F, quote = F)\n",
    "writexl::write_xlsx(exprdfTT, \"libintegration/de/expr_test_t.xlsx\")\n",
    "\n"
   ]
  },
  {
   "cell_type": "code",
   "execution_count": 21,
   "id": "e9483966",
   "metadata": {
    "lines_to_next_cell": 2
   },
   "outputs": [
    {
     "data": {
      "image/png": "[encoded data removed]",
      "text/plain": [
       "plot without title"
      ]
     },
     "metadata": {
      "image/png": {
       "height": 420,
       "width": 420
      }
     },
     "output_type": "display_data"
    }
   ],
   "source": [
    "FeaturePlot(obj.integrated, \"MT2A\")"
   ]
  },
  {
   "cell_type": "code",
   "execution_count": 22,
   "id": "f8807ae2",
   "metadata": {},
   "outputs": [],
   "source": [
    "DefaultAssay(obj.integrated)= \"RNA\"\n",
    "\n",
    "isgGenes = c(\"MT2A\", \"ISG15\", \"LY6E\", \"IFIT1\", \"IFIT2\", \"IFIT3\", \"IFITM1\", \"IFITM3\", \"IFI44L\", \"IFI6\", \"MX1\", \"IFI27\",  \"IFI44L\", \"RSAD2\", \"SIGLEC1\", \"IFIT1\", \"ISG15\")\n",
    "\n",
    "obj.integrated = AddModuleScore(obj.integrated, features =  isgGenes, name = \"isg_score_small\")\n"
   ]
  },
  {
   "cell_type": "code",
   "execution_count": 23,
   "id": "fa1007e7",
   "metadata": {
    "lines_to_next_cell": 0
   },
   "outputs": [
    {
     "data": {
      "image/png": "[encoded data removed]",
      "text/plain": [
       "plot without title"
      ]
     },
     "metadata": {
      "image/png": {
       "height": 420,
       "width": 420
      }
     },
     "output_type": "display_data"
    }
   ],
   "source": [
    "FeaturePlot(obj.integrated, \"isg_score_small1\")\n"
   ]
  },
  {
   "cell_type": "markdown",
   "id": "621a6bc2",
   "metadata": {},
   "source": [
    "\n"
   ]
  },
  {
   "cell_type": "code",
   "execution_count": 24,
   "id": "048239cd",
   "metadata": {
    "lines_to_next_cell": 0
   },
   "outputs": [],
   "source": [
    "obj.integrated$cond_tp = paste(obj.integrated$condition, obj.integrated$tp, sep=\" \")"
   ]
  },
  {
   "cell_type": "markdown",
   "id": "1336bfd6",
   "metadata": {},
   "source": [
    "\n"
   ]
  },
  {
   "cell_type": "code",
   "execution_count": 25,
   "id": "23265937",
   "metadata": {
    "fig.height": 15,
    "fig.width": 30,
    "lines_to_next_cell": 0
   },
   "outputs": [
    {
     "name": "stdout",
     "output_type": "stream",
     "text": [
      "[1] \"limits -1\" \"limits 1\" \n",
      "[1] \"7\"\n",
      "[1] 1\n"
     ]
    },
    {
     "name": "stderr",
     "output_type": "stream",
     "text": [
      "\u001b[1m\u001b[22mScale for \u001b[32mcolour\u001b[39m is already present.\n",
      "Adding another scale for \u001b[32mcolour\u001b[39m, which will replace the existing scale.\n"
     ]
    },
    {
     "name": "stdout",
     "output_type": "stream",
     "text": [
      "[1] 2\n"
     ]
    },
    {
     "name": "stderr",
     "output_type": "stream",
     "text": [
      "\u001b[1m\u001b[22mScale for \u001b[32mcolour\u001b[39m is already present.\n",
      "Adding another scale for \u001b[32mcolour\u001b[39m, which will replace the existing scale.\n"
     ]
    },
    {
     "name": "stdout",
     "output_type": "stream",
     "text": [
      "[1] 3\n"
     ]
    },
    {
     "name": "stderr",
     "output_type": "stream",
     "text": [
      "\u001b[1m\u001b[22mScale for \u001b[32mcolour\u001b[39m is already present.\n",
      "Adding another scale for \u001b[32mcolour\u001b[39m, which will replace the existing scale.\n"
     ]
    },
    {
     "name": "stdout",
     "output_type": "stream",
     "text": [
      "[1] 4\n"
     ]
    },
    {
     "name": "stderr",
     "output_type": "stream",
     "text": [
      "\u001b[1m\u001b[22mScale for \u001b[32mcolour\u001b[39m is already present.\n",
      "Adding another scale for \u001b[32mcolour\u001b[39m, which will replace the existing scale.\n"
     ]
    },
    {
     "name": "stdout",
     "output_type": "stream",
     "text": [
      "[1] 5\n"
     ]
    },
    {
     "name": "stderr",
     "output_type": "stream",
     "text": [
      "\u001b[1m\u001b[22mScale for \u001b[32mcolour\u001b[39m is already present.\n",
      "Adding another scale for \u001b[32mcolour\u001b[39m, which will replace the existing scale.\n"
     ]
    },
    {
     "name": "stdout",
     "output_type": "stream",
     "text": [
      "[1] 6\n"
     ]
    },
    {
     "name": "stderr",
     "output_type": "stream",
     "text": [
      "\u001b[1m\u001b[22mScale for \u001b[32mcolour\u001b[39m is already present.\n",
      "Adding another scale for \u001b[32mcolour\u001b[39m, which will replace the existing scale.\n"
     ]
    },
    {
     "name": "stdout",
     "output_type": "stream",
     "text": [
      "[1] 7\n"
     ]
    },
    {
     "name": "stderr",
     "output_type": "stream",
     "text": [
      "\u001b[1m\u001b[22mScale for \u001b[32mcolour\u001b[39m is already present.\n",
      "Adding another scale for \u001b[32mcolour\u001b[39m, which will replace the existing scale.\n"
     ]
    },
    {
     "name": "stdout",
     "output_type": "stream",
     "text": [
      "[1] \"ncol 4\"\n",
      "[1] \"split_featureplot_isg 30 15\"\n",
      "[1] \"Saving to file split_featureplot_isg.png\"\n",
      "[1] \"Saving to file split_featureplot_isg.pdf\"\n",
      "[1] \"Saving to file split_featureplot_isg.svg\"\n",
      "[1] \"list case\"\n",
      "[1] \"Saving to file split_featureplot_isg.1.data\"\n",
      "[1] \"Saving to file split_featureplot_isg.2.data\"\n",
      "[1] \"multi list case\"\n",
      "[1] \"Saving to file split_featureplot_isg.2.1.data data.frame\"\n",
      "[1] \"Saving to file split_featureplot_isg.2.2.data data.frame\"\n",
      "[1] \"Saving to file split_featureplot_isg.2.3.data data.frame\"\n",
      "[1] \"Saving to file split_featureplot_isg.2.4.data data.frame\"\n",
      "[1] \"Saving to file split_featureplot_isg.2.5.data data.frame\"\n",
      "[1] \"Saving to file split_featureplot_isg.2.6.data data.frame\"\n",
      "[1] \"Saving to file split_featureplot_isg.2.7.data data.frame\"\n"
     ]
    },
    {
     "data": {
      "image/png": "[encoded data removed]",
      "text/plain": [
       "plot without title"
      ]
     },
     "metadata": {
      "image/png": {
       "height": 420,
       "width": 420
      }
     },
     "output_type": "display_data"
    }
   ],
   "source": [
    "p=splitFeaturePlot(obj.integrated, \"isg_score_small1\", split.by=\"cond_tp\", title=\"FeaturePlot\", ncol=4)\n",
    "save_plot(p, \"split_featureplot_isg\", 30, 15)\n"
   ]
  },
  {
   "cell_type": "markdown",
   "id": "748b091a",
   "metadata": {},
   "source": [
    "\n"
   ]
  },
  {
   "cell_type": "code",
   "execution_count": 26,
   "id": "543cd533",
   "metadata": {
    "fig.height": 8,
    "fig.width": 12
   },
   "outputs": [
    {
     "name": "stdout",
     "output_type": "stream",
     "text": [
      "[1] \"SYMPTOMATIC Ctrl 0\"\n",
      "[1] \"Removing group SYMPTOMATIC\"\n",
      "[1] \"ASYMPTOMATIC Ctrl 0\"\n",
      "[1] \"Removing group ASYMPTOMATIC\"\n",
      "[1] \"CONTROL TP 1 0\"\n",
      "[1] \"CONTROL TP 2 0\"\n",
      "[1] \"CONTROL TP 3 0\"\n",
      "[1] \"Removing group CONTROL\"\n",
      "[1] \"Existing Cells 14672\"\n",
      "[1] \"New Cells 0\"\n",
      "[1] \"TP 1\" \"TP 2\" \"TP 3\" \"Ctrl\"\n",
      "[1] \"SYMPTOMATIC 3\"\n",
      "[1] \"ASYMPTOMATIC 3\"\n",
      "[1] \"CONTROL 1\"\n",
      "[1] \"TP 1 1.10543539557871\"\n",
      "[1] \"TP 2 1.04267403662383\"\n",
      "[1] \"TP 3 0.952347915061169\"\n",
      "[1] \"Ctrl NA\"\n",
      "[1] \"TP 1 1.03600907843311\"\n",
      "[1] \"TP 2 1.10322999910783\"\n",
      "[1] \"TP 3 1.00194124153661\"\n",
      "[1] \"Ctrl NA\"\n",
      "[1] \"TP 1 NA\"\n",
      "[1] \"TP 2 NA\"\n",
      "[1] \"TP 3 NA\"\n",
      "[1] \"Ctrl 1.01263554921205\"\n",
      "[1] \"Creating Plot\"\n",
      "[1]  3 14\n",
      "[1] \"comparative_violin_isg 12 8\"\n",
      "[1] \"Saving to file comparative_violin_isg.png\"\n"
     ]
    },
    {
     "name": "stderr",
     "output_type": "stream",
     "text": [
      "Warning message:\n",
      "\"\u001b[1m\u001b[22mRemoved 3 rows containing non-finite values (`stat_bracket()`).\"\n"
     ]
    },
    {
     "name": "stdout",
     "output_type": "stream",
     "text": [
      "[1] \"Saving to file comparative_violin_isg.pdf\"\n"
     ]
    },
    {
     "name": "stderr",
     "output_type": "stream",
     "text": [
      "Warning message:\n",
      "\"\u001b[1m\u001b[22mRemoved 3 rows containing non-finite values (`stat_bracket()`).\"\n"
     ]
    },
    {
     "name": "stdout",
     "output_type": "stream",
     "text": [
      "[1] \"Saving to file comparative_violin_isg.svg\"\n"
     ]
    },
    {
     "name": "stderr",
     "output_type": "stream",
     "text": [
      "Warning message:\n",
      "\"\u001b[1m\u001b[22mRemoved 3 rows containing non-finite values (`stat_bracket()`).\"\n"
     ]
    },
    {
     "name": "stdout",
     "output_type": "stream",
     "text": [
      "[1] \"Saving to file comparative_violin_isg.data\"\n"
     ]
    },
    {
     "name": "stderr",
     "output_type": "stream",
     "text": [
      "Warning message:\n",
      "\"\u001b[1m\u001b[22mRemoved 3 rows containing non-finite values (`stat_bracket()`).\"\n"
     ]
    },
    {
     "data": {
      "image/png": "[encoded data removed]",
      "text/plain": [
       "plot without title"
      ]
     },
     "metadata": {
      "image/png": {
       "height": 420,
       "width": 420
      }
     },
     "output_type": "display_data"
    }
   ],
   "source": [
    "\n",
    "p=comparativeVioBoxPlot(obj.integrated, \"isg_score_small1\", group.by=\"condition\", split.by=\"tp\", yStepIncrease = 1, verbose=FALSE)\n",
    "save_plot(p, \"comparative_violin_isg\", 12, 8)\n"
   ]
  },
  {
   "cell_type": "code",
   "execution_count": 27,
   "id": "ea74ac61",
   "metadata": {
    "fig.height": 8,
    "fig.width": 12
   },
   "outputs": [
    {
     "name": "stdout",
     "output_type": "stream",
     "text": [
      "[1] \"SYMPTOMATIC Ctrl 0\"\n",
      "[1] \"Removing group SYMPTOMATIC\"\n",
      "[1] \"ASYMPTOMATIC Ctrl 0\"\n",
      "[1] \"Removing group ASYMPTOMATIC\"\n",
      "[1] \"CONTROL TP 1 0\"\n",
      "[1] \"CONTROL TP 2 0\"\n",
      "[1] \"CONTROL TP 3 0\"\n",
      "[1] \"Removing group CONTROL\"\n",
      "[1] \"Existing Cells 14672\"\n",
      "[1] \"New Cells 0\"\n",
      "[1] \"TP 1\" \"TP 2\" \"TP 3\" \"Ctrl\"\n",
      "[1] \"SYMPTOMATIC 3\"\n",
      "[1] \"ASYMPTOMATIC 3\"\n",
      "[1] \"CONTROL 1\"\n",
      "[1] \"TP 1 1.10543539557871\"\n",
      "[1] \"TP 2 1.04267403662383\"\n",
      "[1] \"TP 3 0.952347915061169\"\n",
      "[1] \"Ctrl NA\"\n",
      "[1] \"TP 1 1.03600907843311\"\n",
      "[1] \"TP 2 1.10322999910783\"\n",
      "[1] \"TP 3 1.00194124153661\"\n",
      "[1] \"Ctrl NA\"\n",
      "[1] \"TP 1 NA\"\n",
      "[1] \"TP 2 NA\"\n",
      "[1] \"TP 3 NA\"\n",
      "[1] \"Ctrl 1.01263554921205\"\n",
      "[1] \"Creating Plot\"\n",
      "[1]  3 14\n",
      "[1] \"comparative_violin_isg_custom 12 8\"\n",
      "[1] \"Saving to file comparative_violin_isg_custom.png\"\n"
     ]
    },
    {
     "name": "stderr",
     "output_type": "stream",
     "text": [
      "Warning message:\n",
      "\"\u001b[1m\u001b[22mRemoved 3 rows containing non-finite values (`stat_bracket()`).\"\n"
     ]
    },
    {
     "name": "stdout",
     "output_type": "stream",
     "text": [
      "[1] \"Saving to file comparative_violin_isg_custom.pdf\"\n"
     ]
    },
    {
     "name": "stderr",
     "output_type": "stream",
     "text": [
      "Warning message:\n",
      "\"\u001b[1m\u001b[22mRemoved 3 rows containing non-finite values (`stat_bracket()`).\"\n"
     ]
    },
    {
     "name": "stdout",
     "output_type": "stream",
     "text": [
      "[1] \"Saving to file comparative_violin_isg_custom.svg\"\n"
     ]
    },
    {
     "name": "stderr",
     "output_type": "stream",
     "text": [
      "Warning message:\n",
      "\"\u001b[1m\u001b[22mRemoved 3 rows containing non-finite values (`stat_bracket()`).\"\n"
     ]
    },
    {
     "name": "stdout",
     "output_type": "stream",
     "text": [
      "[1] \"Saving to file comparative_violin_isg_custom.data\"\n"
     ]
    },
    {
     "name": "stderr",
     "output_type": "stream",
     "text": [
      "Warning message:\n",
      "\"\u001b[1m\u001b[22mRemoved 3 rows containing non-finite values (`stat_bracket()`).\"\n"
     ]
    },
    {
     "data": {
      "image/png": "[encoded data removed]",
      "text/plain": [
       "plot without title"
      ]
     },
     "metadata": {
      "image/png": {
       "height": 420,
       "width": 420
      }
     },
     "output_type": "display_data"
    }
   ],
   "source": [
    "\n",
    "dsrCols = list(\"Ctrl\"=\"steelblue4\", \"TP 1\"=\"darkred\", \"TP 2\"=\"chocolate2\", \"TP 3\"=\"darkseagreen3\")\n",
    "\n",
    "p=comparativeVioBoxPlot(obj.integrated, \"isg_score_small1\", group.by=\"condition\", split.by=\"tp\", yStepIncrease = 1, verbose=FALSE, dsrCols = dsrCols, boxplot_grey = \"ivory4\")\n",
    "save_plot(p, \"comparative_violin_isg_custom\", 12, 8)\n"
   ]
  },
  {
   "cell_type": "code",
   "execution_count": 28,
   "id": "26eeb700",
   "metadata": {
    "lines_to_next_cell": 2
   },
   "outputs": [
    {
     "data": {
      "text/html": [
       "<style>\n",
       ".list-inline {list-style: none; margin:0; padding: 0}\n",
       ".list-inline>li {display: inline-block}\n",
       ".list-inline>li:not(:last-child)::after {content: \"\\00b7\"; padding: 0 .5ex}\n",
       "</style>\n",
       "<ol class=list-inline><li>SYMPTOMATIC</li><li>ASYMPTOMATIC</li><li>CONTROL</li></ol>\n",
       "\n",
       "<details>\n",
       "\t<summary style=display:list-item;cursor:pointer>\n",
       "\t\t<strong>Levels</strong>:\n",
       "\t</summary>\n",
       "\t<style>\n",
       "\t.list-inline {list-style: none; margin:0; padding: 0}\n",
       "\t.list-inline>li {display: inline-block}\n",
       "\t.list-inline>li:not(:last-child)::after {content: \"\\00b7\"; padding: 0 .5ex}\n",
       "\t</style>\n",
       "\t<ol class=list-inline><li>'CONTROL'</li><li>'ASYMPTOMATIC'</li><li>'SYMPTOMATIC'</li></ol>\n",
       "</details>"
      ],
      "text/latex": [
       "\\begin{enumerate*}\n",
       "\\item SYMPTOMATIC\n",
       "\\item ASYMPTOMATIC\n",
       "\\item CONTROL\n",
       "\\end{enumerate*}\n",
       "\n",
       "\\emph{Levels}: \\begin{enumerate*}\n",
       "\\item 'CONTROL'\n",
       "\\item 'ASYMPTOMATIC'\n",
       "\\item 'SYMPTOMATIC'\n",
       "\\end{enumerate*}\n"
      ],
      "text/markdown": [
       "1. SYMPTOMATIC\n",
       "2. ASYMPTOMATIC\n",
       "3. CONTROL\n",
       "\n",
       "\n",
       "\n",
       "**Levels**: 1. 'CONTROL'\n",
       "2. 'ASYMPTOMATIC'\n",
       "3. 'SYMPTOMATIC'\n",
       "\n",
       "\n"
      ],
      "text/plain": [
       "[1] SYMPTOMATIC  ASYMPTOMATIC CONTROL     \n",
       "Levels: CONTROL ASYMPTOMATIC SYMPTOMATIC"
      ]
     },
     "metadata": {},
     "output_type": "display_data"
    }
   ],
   "source": [
    "unique(obj.integrated$condition)"
   ]
  },
  {
   "cell_type": "code",
   "execution_count": 29,
   "id": "4baa5224",
   "metadata": {
    "lines_to_next_cell": 2
   },
   "outputs": [
    {
     "name": "stdout",
     "output_type": "stream",
     "text": [
      "[1] \"Existing Cells 2284\"\n",
      "[1] \"New Cells 2284\"\n",
      "[1] \"TP 1\" \"TP 2\" \"TP 3\"\n",
      "[1] \"ASYMPTOMATIC 3\"\n",
      "[1] \"TP 1 1.03600907843311\"\n",
      "[1] \"TP 2 1.10322999910783\"\n",
      "[1] \"TP 3 1.00194124153661\"\n",
      "[1] \"Creating Plot\"\n",
      "[1]  2 14\n"
     ]
    },
    {
     "name": "stderr",
     "output_type": "stream",
     "text": [
      "Warning message:\n",
      "\"\u001b[1m\u001b[22mRemoved 2 rows containing non-finite values (`stat_bracket()`).\"\n"
     ]
    },
    {
     "data": {
      "image/png": "[encoded data removed]",
      "text/plain": [
       "plot without title"
      ]
     },
     "metadata": {
      "image/png": {
       "height": 420,
       "width": 420
      }
     },
     "output_type": "display_data"
    }
   ],
   "source": [
    "\n",
    "dsrCols = list(\"Ctrl\"=\"steelblue4\", \"TP 1\"=\"darkred\", \"TP 2\"=\"chocolate2\", \"TP 3\"=\"darkseagreen3\")\n",
    "\n",
    "comparativeVioBoxPlot(subset(obj.integrated, condition==\"ASYMPTOMATIC\"), \"isg_score_small1\", group.by=\"condition\", split.by=\"tp\", yStepIncrease = 1, verbose=FALSE, dsrCols = dsrCols, boxplot_grey = \"ivory4\")\n"
   ]
  },
  {
   "cell_type": "code",
   "execution_count": 30,
   "id": "fc3ff86f",
   "metadata": {
    "lines_to_next_cell": 2
   },
   "outputs": [
    {
     "name": "stderr",
     "output_type": "stream",
     "text": [
      "Centering and scaling data matrix\n",
      "\n"
     ]
    },
    {
     "data": {
      "text/plain": [
       "An object of class Seurat \n",
       "39601 features across 14672 samples within 2 assays \n",
       "Active assay: RNA (36601 features, 0 variable features)\n",
       " 1 other assay present: integrated_gex\n",
       " 2 dimensional reductions calculated: igpca, umap"
      ]
     },
     "metadata": {},
     "output_type": "display_data"
    }
   ],
   "source": [
    "obj.integrated = Seurat::ScaleData(obj.integrated)\n",
    "obj.integrated\n"
   ]
  },
  {
   "cell_type": "code",
   "execution_count": 31,
   "id": "155cc29f",
   "metadata": {
    "lines_to_next_cell": 0
   },
   "outputs": [
    {
     "name": "stdout",
     "output_type": "stream",
     "text": [
      "Scaling data GLOBAL[1] \"Fetching global scaled average expression\"\n",
      "[1] \"combined_lists\"\n",
      "[1] 0\n",
      " [1] \"MT2A\"    \"ISG15\"   \"LY6E\"    \"IFIT1\"   \"IFIT2\"   \"IFIT3\"   \"IFITM1\" \n",
      " [8] \"IFITM3\"  \"IFI44L\"  \"IFI6\"    \"MX1\"     \"IFI27\"   \"IFI44L\"  \"RSAD2\"  \n",
      "[15] \"SIGLEC1\" \"IFIT1\"   \"ISG15\"  \n",
      "[1] \"Clusters Missing\"\n",
      "numeric(0)\n",
      "[1] \"Genes Missing\"\n",
      "character(0)\n",
      "[1] \"Adding missing clusters\"\n",
      " [1] \"1\"  \"2\"  \"3\"  \"4\"  \"5\"  \"6\"  \"7\"  \"8\"  \"9\"  \"10\" \"11\" \"12\" \"13\"\n",
      "[1] \"heatmap_isg_genes 12 8\"\n",
      "[1] \"Saving to file heatmap_isg_genes.png\"\n"
     ]
    },
    {
     "ename": "ERROR",
     "evalue": "Error in grid.Call.graphics(C_downvppath, name$path, name$name, strict): Viewport 'Average Scaled Expression (GLOBAL)_heatmap_body_1_1' was not found\n",
     "output_type": "error",
     "traceback": [
      "Error in grid.Call.graphics(C_downvppath, name$path, name$name, strict): Viewport 'Average Scaled Expression (GLOBAL)_heatmap_body_1_1' was not found\nTraceback:\n",
      "1. save_plot(p, \"heatmap_isg_genes\", 12, 8, save.data = FALSE, draw.fun = ComplexHeatmap::draw)",
      "2. draw.fun(plotobj)",
      "3. draw.fun(plotobj)",
      "4. .local(object, ...)",
      "5. draw(ht_list, ...)",
      "6. draw(ht_list, ...)",
      "7. .local(object, ...)",
      "8. grid.draw(p)",
      "9. grid.draw.gTree(p)",
      "10. recordGraphics(drawGTree(x), list(x = x), getNamespace(\"grid\"))",
      "11. drawGTree(x)",
      "12. grid.draw(x$children[[i]], recording = FALSE)",
      "13. grid.draw.grob(x$children[[i]], recording = FALSE)",
      "14. recordGraphics(drawGrob(x), list(x = x), getNamespace(\"grid\"))",
      "15. drawGrob(x)",
      "16. preDraw(x)",
      "17. preDraw.grob(x)",
      "18. pushvpgp(x)",
      "19. pushgrobvp(x$vp)",
      "20. pushgrobvp.vpPath(x$vp)",
      "21. downViewport(vp, strict = TRUE, recording = FALSE)",
      "22. downViewport.vpPath(vp, strict = TRUE, recording = FALSE)",
      "23. grid.Call.graphics(C_downvppath, name$path, name$name, strict)"
     ]
    }
   ],
   "source": [
    "\n",
    "plotGOIs = list(\"1\"=list(\"clusters\"=c(0), \"genes\"=isgGenes))\n",
    "\n",
    "p=enhancedHeatMap(obj.integrated, plotGOIs, group.by=\"idents\", include_all_clusters = TRUE, title=\"Heatmap of ISG Genes\", scale.by=\"GLOBAL\")\n",
    "save_plot(p, \"heatmap_isg_genes\", 12, 8, save.data = FALSE, draw.fun=ComplexHeatmap::draw)"
   ]
  },
  {
   "cell_type": "code",
   "execution_count": 43,
   "id": "21f59627-aac4-43ae-a2d6-2252e01d42bb",
   "metadata": {},
   "outputs": [],
   "source": [
    "saveRDS(obj.integrated, \"test.obj\")"
   ]
  },
  {
   "cell_type": "code",
   "execution_count": 44,
   "id": "0b453a51-9c73-4e9b-9062-dec103ab8018",
   "metadata": {},
   "outputs": [
    {
     "data": {
      "text/html": [
       "<strong>png:</strong> 3"
      ],
      "text/latex": [
       "\\textbf{png:} 3"
      ],
      "text/markdown": [
       "**png:** 3"
      ],
      "text/plain": [
       "png \n",
       "  3 "
      ]
     },
     "metadata": {},
     "output_type": "display_data"
    }
   ],
   "source": [
    "dev.off()"
   ]
  },
  {
   "cell_type": "code",
   "execution_count": 45,
   "id": "db1470e8-6984-467c-82c6-505d49b68892",
   "metadata": {},
   "outputs": [],
   "source": [
    "m = matrix(rnorm(100), 10)\n",
    "ComplexHeatmap::draw(ComplexHeatmap::Heatmap(m))"
   ]
  },
  {
   "cell_type": "markdown",
   "id": "a72effb1",
   "metadata": {},
   "source": [
    "\n"
   ]
  },
  {
   "cell_type": "code",
   "execution_count": null,
   "id": "d78b67fd",
   "metadata": {},
   "outputs": [],
   "source": [
    "\n",
    "plotGOIs = list(\"1\"=list(\"clusters\"=c(0), \"genes\"=isgGenes))\n",
    "\n",
    "p=enhancedHeatMap(obj.integrated, plotGOIs, group.by=\"idents\", include_all_clusters = TRUE, title=\"Heatmap of ISG Genes\", scale.by=\"ALL\")\n",
    "save_plot(p, \"heatmap_isg_genes_ALL\", 12, 8, save.data = FALSE, draw.fun=ComplexHeatmap::draw)\n",
    "\n"
   ]
  },
  {
   "cell_type": "code",
   "execution_count": null,
   "id": "0f5b460e",
   "metadata": {
    "fig.height": 10,
    "fig.width": 30,
    "lines_to_next_cell": 2
   },
   "outputs": [],
   "source": [
    "\n",
    "p=makeComplexExprHeatmapSplit(obj.integrated, plotGOIs, group.by=\"idents\", split.by=\"condition\", include_all_clusters = TRUE, title=\"Heatmap of ISG Genes\", scale.by=\"GLOBAL\")\n",
    "save_plot(p, \"heatmap_split_isg_genes\", 30, 10, save.data = FALSE, draw.fun=ComplexHeatmap::draw)\n",
    "\n"
   ]
  },
  {
   "cell_type": "code",
   "execution_count": null,
   "id": "134f322a",
   "metadata": {
    "fig.height": 10,
    "fig.width": 30,
    "lines_to_next_cell": 2
   },
   "outputs": [],
   "source": [
    "\n",
    "p=makeComplexExprHeatmapSplit(obj.integrated, plotGOIs, group.by=\"idents\", split.by=\"condition\", include_all_clusters = TRUE, title=\"Heatmap of ISG Genes\", scale.by=\"ALL\")\n",
    "save_plot(p, \"heatmap_split_isg_genes_ALL\", 30, 10, save.data = FALSE, draw.fun=ComplexHeatmap::draw)\n",
    "\n"
   ]
  },
  {
   "cell_type": "code",
   "execution_count": null,
   "id": "ae9aca89",
   "metadata": {
    "fig.height": 10,
    "fig.width": 30,
    "lines_to_next_cell": 2
   },
   "outputs": [],
   "source": [
    "\n",
    "\n",
    "p=makeComplexExprHeatmapSplit(obj.integrated, plotGOIs, group.by=\"idents\", split.by=\"condition\", include_all_clusters = TRUE, title=\"Heatmap of ISG Genes\", scale.by=\"GROUP\")\n",
    "save_plot(p, \"heatmap_split_isg_genes_GROUP\", 30, 10, save.data = FALSE, draw.fun=ComplexHeatmap::draw)\n",
    "\n"
   ]
  },
  {
   "cell_type": "code",
   "execution_count": null,
   "id": "fc5d093b",
   "metadata": {
    "fig.height": 12,
    "fig.width": 16
   },
   "outputs": [],
   "source": [
    "\n",
    "cells.control = cellIDForClusters(obj.integrated, \"condition\", c(\"CONTROL\"))\n",
    "cells.symptomatic = cellIDForClusters(obj.integrated, \"condition\", c(\"SYMPTOMATIC\"))\n",
    "cells.asymptomatic = cellIDForClusters(obj.integrated, \"condition\", c(\"ASYMPTOMATIC\"))\n",
    "\n",
    "plotElems = list()\n",
    "plotElems[[\"Control\"]] = list(cells=intersect(cells.control, cells.control), label=\"Control\")\n",
    "plotElems[[\"Symptomatic\"]] = list(cells=intersect(cells.symptomatic,cells.symptomatic), label=\"Symptomatic\")\n",
    "plotElems[[\"Asymptomatic\"]] = list(cells=intersect(cells.asymptomatic,cells.asymptomatic), label=\"Asymptomatic\")\n",
    "\n",
    "p=enhancedDotPlot(obj.integrated, plotElems, featureGenes = isgGenes, group.by=\"idents\", title=\"DotPlot of ISG Genes\", scale.by=\"ALL\", rotate.x = T)\n",
    "save_plot(p, \"edotplot_split_isg_genes_ALL\", 30, 10, save.data = FALSE)\n",
    "\n"
   ]
  },
  {
   "cell_type": "code",
   "execution_count": null,
   "id": "22cc6ed9",
   "metadata": {
    "fig.height": 12,
    "fig.width": 16,
    "lines_to_next_cell": 2
   },
   "outputs": [],
   "source": [
    "\n",
    "p=enhancedDotPlot(obj.integrated, plotElems, featureGenes = isgGenes, group.by=\"idents\", title=\"DotPlot of ISG Genes\", scale.by=\"GLOBAL\", rotate.x = T)\n",
    "save_plot(p, \"edotplot_split_isg_genes_GLOBAL\", 30, 10, save.data = FALSE)\n",
    "\n"
   ]
  },
  {
   "cell_type": "code",
   "execution_count": null,
   "id": "9c24aec8",
   "metadata": {
    "fig.height": 12,
    "fig.width": 16
   },
   "outputs": [],
   "source": [
    "\n",
    "p=enhancedDotPlot(obj.integrated, plotElems, featureGenes = isgGenes, group.by=\"idents\", title=\"DotPlot of ISG Genes\", scale.by=\"GROUP\",rotate.x = T)\n",
    "save_plot(p, \"edotplot_split_isg_genes_GROUP\", 30, 10, save.data = FALSE)\n",
    "\n"
   ]
  },
  {
   "cell_type": "code",
   "execution_count": null,
   "id": "ac52eab5",
   "metadata": {
    "fig.height": 12,
    "fig.width": 16,
    "lines_to_next_cell": 0
   },
   "outputs": [],
   "source": [
    "\n",
    "p=enhancedDotPlot(obj.integrated, plotElems, featureGenes = isgGenes, group.by=\"idents\", title=\"DotPlot of ISG Genes\", scale.by=\"FEATURE\", rotate.x=TRUE)\n",
    "save_plot(p, \"edotplot_split_isg_genes_FEATURE\", 30, 10, save.data = FALSE)\n",
    "\n"
   ]
  },
  {
   "cell_type": "markdown",
   "id": "111999e9",
   "metadata": {},
   "source": [
    "\n"
   ]
  },
  {
   "cell_type": "code",
   "execution_count": null,
   "id": "54514f82",
   "metadata": {
    "lines_to_next_cell": 0
   },
   "outputs": [],
   "source": [
    "\n",
    "cells.tp1 = cellIDForClusters(obj.integrated, \"tp\", c(\"TP 1\"))\n",
    "\n",
    "comparison.sympt_asympt = compareCellsByCluster(obj.integrated, intersect(cells.symptomatic, cells.tp1), intersect(cells.asymptomatic, cells.tp1), \"symptomatic\", \"asymptomatic\", outfolder=\"./de\", group.by=\"idents\", heatmap.plot=TRUE)\n"
   ]
  },
  {
   "cell_type": "markdown",
   "id": "125fe551",
   "metadata": {},
   "source": [
    "\n"
   ]
  },
  {
   "cell_type": "code",
   "execution_count": null,
   "id": "b5628775",
   "metadata": {
    "lines_to_next_cell": 0
   },
   "outputs": [],
   "source": [
    "\n",
    "makeVolcanos(comparison.sympt_asympt, \"Comparison Symptomatic vs. Asymptoamtic\", \"./de_volcanos/sympt_asympt_tp1\", FCcutoff=0.25)\n"
   ]
  },
  {
   "cell_type": "markdown",
   "id": "e901d082",
   "metadata": {},
   "source": [
    "\n"
   ]
  },
  {
   "cell_type": "code",
   "execution_count": null,
   "id": "9983be81",
   "metadata": {},
   "outputs": [],
   "source": [
    "\n",
    "gseResults = performEnrichtmentAnalysis(obj.integrated, comparison.sympt_asympt, \"human\", \"./gse_results.rds\")\n",
    "\n"
   ]
  },
  {
   "cell_type": "code",
   "execution_count": null,
   "id": "0bfa8563",
   "metadata": {
    "lines_to_next_cell": 0
   },
   "outputs": [],
   "source": [
    "\n",
    "makeEnrichmentPlots( gseResults, outfolder = \"enrichment_plots/\" )\n",
    "\n"
   ]
  },
  {
   "cell_type": "markdown",
   "id": "61fcf49d",
   "metadata": {},
   "source": [
    "\n",
    "\n",
    "\n",
    "\n",
    "\n",
    "\n",
    "\n"
   ]
  }
 ],
 "metadata": {
  "jupytext": {
   "cell_metadata_filter": "fig.width,fig.height,-all",
   "main_language": "R",
   "notebook_metadata_filter": "-all"
  },
  "kernelspec": {
   "display_name": "R",
   "language": "R",
   "name": "ir"
  },
  "language_info": {
   "codemirror_mode": "r",
   "file_extension": ".r",
   "mimetype": "text/x-r-source",
   "name": "R",
   "pygments_lexer": "r",
   "version": "4.3.1"
  }
 },
 "nbformat": 4,
 "nbformat_minor": 5
}
