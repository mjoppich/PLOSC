{
 "cells": [
  {
   "cell_type": "code",
   "execution_count": 1,
   "id": "8a63494c-51af-4873-b329-0f34028925da",
   "metadata": {},
   "outputs": [
    {
     "name": "stderr",
     "output_type": "stream",
     "text": [
      "Downloading GitHub repo mjoppich/PLOSC@HEAD\n",
      "\n"
     ]
    },
    {
     "name": "stdout",
     "output_type": "stream",
     "text": [
      "\u001b[36m──\u001b[39m \u001b[36mR CMD build\u001b[39m \u001b[36m─────────────────────────────────────────────────────────────────────────────────────────────────────────\u001b[39m\n",
      "\u001b[32m✔\u001b[39m  \u001b[90mchecking for file 'C:\\Users\\mjopp\\AppData\\Local\\Temp\\RtmpmKl0bG\\remotes336031ed2151\\mjoppich-PLOSC-0ae9c32/DESCRIPTION'\u001b[39m\u001b[36m\u001b[39m\n",
      "\u001b[90m─\u001b[39m\u001b[90m  \u001b[39m\u001b[90mpreparing 'PLOSC':\u001b[39m\u001b[36m\u001b[39m\n",
      "\u001b[32m✔\u001b[39m  \u001b[90mchecking DESCRIPTION meta-information\u001b[39m\u001b[36m\u001b[39m\n",
      "\u001b[90m─\u001b[39m\u001b[90m  \u001b[39m\u001b[90mchecking for LF line-endings in source and make files and shell scripts\u001b[39m\u001b[36m\u001b[39m\n",
      "\u001b[90m─\u001b[39m\u001b[90m  \u001b[39m\u001b[90mchecking for empty or unneeded directories\u001b[39m\u001b[36m\u001b[39m\n",
      "\u001b[90m─\u001b[39m\u001b[90m  \u001b[39m\u001b[90mbuilding 'PLOSC_0.0.0.9000.tar.gz'\u001b[39m\u001b[36m\u001b[39m\n",
      "   \n",
      "\r"
     ]
    }
   ],
   "source": [
    "remotes::install_github(\"mjoppich/PLOSC\", force=TRUE, upgrade=\"never\")"
   ]
  },
  {
   "cell_type": "code",
   "execution_count": 2,
   "id": "7011a6f7",
   "metadata": {
    "lines_to_next_cell": 2
   },
   "outputs": [
    {
     "name": "stderr",
     "output_type": "stream",
     "text": [
      "The legacy packages maptools, rgdal, and rgeos, underpinning the sp package,\n",
      "which was just loaded, will retire in October 2023.\n",
      "Please refer to R-spatial evolution reports for details, especially\n",
      "https://r-spatial.org/r/2023/05/15/evolution4.html.\n",
      "It may be desirable to make the sf package available;\n",
      "package maintainers should consider adding sf to Suggests:.\n",
      "The sp package is now running under evolution status 2\n",
      "     (status 2 uses the sf package in place of rgdal)\n",
      "\n",
      "Attaching SeuratObject\n",
      "\n"
     ]
    }
   ],
   "source": [
    "\n",
    "# install.packages(\"hdf5r\")\n",
    "# BiocManager::install(c(\"biomaRt\", \"clusterProfiler\", \"ReactomePA\", \"org.Hs.eg.db\", \"org.Mm.eg.db\", \"ComplexHeatmap\", \"enrichplot\", \"EnhancedVolcano\"))\n",
    "# remotes::install_github(\"mjoppich/PLOSC\")\n",
    "\n",
    "library(\"Seurat\")\n",
    "library(\"PLOSC\")\n"
   ]
  },
  {
   "cell_type": "code",
   "execution_count": 3,
   "id": "3a8f42c9",
   "metadata": {},
   "outputs": [
    {
     "name": "stdout",
     "output_type": "stream",
     "text": [
      "[1] \"20094_0001 T:/scdata/covid_sc_cellranger/h5files/20094_0001_A_B_raw_feature_bc_matrix.new.h5\"\n"
     ]
    },
    {
     "name": "stderr",
     "output_type": "stream",
     "text": [
      "Genome matrix has multiple modalities, returning a list of matrices for this genome\n",
      "\n"
     ]
    },
    {
     "name": "stdout",
     "output_type": "stream",
     "text": [
      "[1] \"WITH AB 20094_0001\"\n",
      "[1] \"20094_0001 36601 x 6794880 genes x cells\"\n",
      "[1] \"20094_0002 T:/scdata/covid_sc_cellranger/h5files/20094_0002_A_B_raw_feature_bc_matrix.new.h5\"\n"
     ]
    },
    {
     "name": "stderr",
     "output_type": "stream",
     "text": [
      "Genome matrix has multiple modalities, returning a list of matrices for this genome\n",
      "\n"
     ]
    },
    {
     "name": "stdout",
     "output_type": "stream",
     "text": [
      "[1] \"WITH AB 20094_0002\"\n",
      "[1] \"20094_0002 36601 x 6794880 genes x cells\"\n",
      "[1] \"20094_0003 T:/scdata/covid_sc_cellranger/h5files/20094_0003_A_B_raw_feature_bc_matrix.new.h5\"\n"
     ]
    },
    {
     "name": "stderr",
     "output_type": "stream",
     "text": [
      "Genome matrix has multiple modalities, returning a list of matrices for this genome\n",
      "\n"
     ]
    },
    {
     "name": "stdout",
     "output_type": "stream",
     "text": [
      "[1] \"WITH AB 20094_0003\"\n",
      "[1] \"20094_0003 36601 x 6794880 genes x cells\"\n",
      "[1] \"20094_0004 T:/scdata/covid_sc_cellranger/h5files/20094_0004_A_B_raw_feature_bc_matrix.new.h5\"\n"
     ]
    },
    {
     "name": "stderr",
     "output_type": "stream",
     "text": [
      "Genome matrix has multiple modalities, returning a list of matrices for this genome\n",
      "\n"
     ]
    },
    {
     "name": "stdout",
     "output_type": "stream",
     "text": [
      "[1] \"WITH AB 20094_0004\"\n",
      "[1] \"20094_0004 36601 x 6794880 genes x cells\"\n",
      "[1] \"20094_0005 T:/scdata/covid_sc_cellranger/h5files/20094_0005_A_B_raw_feature_bc_matrix.new.h5\"\n"
     ]
    },
    {
     "name": "stderr",
     "output_type": "stream",
     "text": [
      "Genome matrix has multiple modalities, returning a list of matrices for this genome\n",
      "\n"
     ]
    },
    {
     "name": "stdout",
     "output_type": "stream",
     "text": [
      "[1] \"WITH AB 20094_0005\"\n",
      "[1] \"20094_0005 36601 x 6794880 genes x cells\"\n",
      "[1] \"20094_0006 T:/scdata/covid_sc_cellranger/h5files/20094_0006_A_B_raw_feature_bc_matrix.new.h5\"\n"
     ]
    },
    {
     "name": "stderr",
     "output_type": "stream",
     "text": [
      "Genome matrix has multiple modalities, returning a list of matrices for this genome\n",
      "\n"
     ]
    },
    {
     "name": "stdout",
     "output_type": "stream",
     "text": [
      "[1] \"WITH AB 20094_0006\"\n",
      "[1] \"20094_0006 36601 x 6794880 genes x cells\"\n",
      "[1] \"20094_0007 T:/scdata/covid_sc_cellranger/h5files/20094_0007_A_B_raw_feature_bc_matrix.new.h5\"\n"
     ]
    },
    {
     "name": "stderr",
     "output_type": "stream",
     "text": [
      "Genome matrix has multiple modalities, returning a list of matrices for this genome\n",
      "\n"
     ]
    },
    {
     "name": "stdout",
     "output_type": "stream",
     "text": [
      "[1] \"WITH AB 20094_0007\"\n",
      "[1] \"20094_0007 36601 x 6794880 genes x cells\"\n",
      "[1] \"20094_0008 T:/scdata/covid_sc_cellranger/h5files/20094_0008_A_B_raw_feature_bc_matrix.new.h5\"\n"
     ]
    },
    {
     "name": "stderr",
     "output_type": "stream",
     "text": [
      "Genome matrix has multiple modalities, returning a list of matrices for this genome\n",
      "\n"
     ]
    },
    {
     "name": "stdout",
     "output_type": "stream",
     "text": [
      "[1] \"WITH AB 20094_0008\"\n",
      "[1] \"20094_0008 36601 x 6794880 genes x cells\"\n",
      "[1] \"20094_0009 T:/scdata/covid_sc_cellranger/h5files/20094_0009_A_B_raw_feature_bc_matrix.new.h5\"\n"
     ]
    },
    {
     "name": "stderr",
     "output_type": "stream",
     "text": [
      "Genome matrix has multiple modalities, returning a list of matrices for this genome\n",
      "\n"
     ]
    },
    {
     "name": "stdout",
     "output_type": "stream",
     "text": [
      "[1] \"WITH AB 20094_0009\"\n",
      "[1] \"20094_0009 36601 x 6794880 genes x cells\"\n",
      "[1] \"20094_0012 T:/scdata/covid_sc_cellranger/h5files/20094_0012_A_B_raw_feature_bc_matrix.new.h5\"\n"
     ]
    },
    {
     "name": "stderr",
     "output_type": "stream",
     "text": [
      "Genome matrix has multiple modalities, returning a list of matrices for this genome\n",
      "\n"
     ]
    },
    {
     "name": "stdout",
     "output_type": "stream",
     "text": [
      "[1] \"WITH AB 20094_0012\"\n",
      "[1] \"20094_0012 36601 x 6794880 genes x cells\"\n"
     ]
    }
   ],
   "source": [
    "\n",
    "files <- Sys.glob(\"T:/scdata/covid_sc_cellranger/h5files/*.h5\")\n",
    "inputMatrices = readH5Files(files, sample_element=5, sample_processor=function(x){return(substr(x, 1, 10))})\n"
   ]
  },
  {
   "cell_type": "code",
   "execution_count": 4,
   "id": "b94b086b",
   "metadata": {
    "lines_to_next_cell": 2
   },
   "outputs": [
    {
     "name": "stdout",
     "output_type": "stream",
     "text": [
      "[1] \"Renaming Cells\"\n",
      "[1] \"Seurat obj project 20094_0001\"\n",
      "[1] \"Got a total of mt-Genes: 13 MT-ND1, MT-ND2, MT-CO1, MT-CO2, MT-ATP8, MT-ATP6\"\n",
      "[1] \"Got a total of Rpl-Genes: 54 RPL22, RPL11, RPL5, RPL31, RPL37A, RPL32\"\n",
      "[1] \"Got a total of Rps-Genes: 49 RPS6KA1, RPS8, RPS27, RPS6KC1, RPS7, RPS27A\"\n",
      "[1] \"Got a total of Rp-Genes: 103 RPL22, RPL11, RPS6KA1, RPS8, RPL5, RPS27\"\n",
      "[1] \"20094_0001\"\n",
      "An object of class Seurat \n",
      "36601 features across 6794880 samples within 1 assay \n",
      "Active assay: RNA (36601 features, 3000 variable features)\n",
      "[1] \"Renaming Cells\"\n",
      "[1] \"Seurat obj project 20094_0002\"\n",
      "[1] \"Got a total of mt-Genes: 13 MT-ND1, MT-ND2, MT-CO1, MT-CO2, MT-ATP8, MT-ATP6\"\n",
      "[1] \"Got a total of Rpl-Genes: 54 RPL22, RPL11, RPL5, RPL31, RPL37A, RPL32\"\n",
      "[1] \"Got a total of Rps-Genes: 49 RPS6KA1, RPS8, RPS27, RPS6KC1, RPS7, RPS27A\"\n",
      "[1] \"Got a total of Rp-Genes: 103 RPL22, RPL11, RPS6KA1, RPS8, RPL5, RPS27\"\n",
      "[1] \"20094_0002\"\n",
      "An object of class Seurat \n",
      "36601 features across 6794880 samples within 1 assay \n",
      "Active assay: RNA (36601 features, 3000 variable features)\n",
      "[1] \"Renaming Cells\"\n",
      "[1] \"Seurat obj project 20094_0003\"\n",
      "[1] \"Got a total of mt-Genes: 13 MT-ND1, MT-ND2, MT-CO1, MT-CO2, MT-ATP8, MT-ATP6\"\n",
      "[1] \"Got a total of Rpl-Genes: 54 RPL22, RPL11, RPL5, RPL31, RPL37A, RPL32\"\n",
      "[1] \"Got a total of Rps-Genes: 49 RPS6KA1, RPS8, RPS27, RPS6KC1, RPS7, RPS27A\"\n",
      "[1] \"Got a total of Rp-Genes: 103 RPL22, RPL11, RPS6KA1, RPS8, RPL5, RPS27\"\n",
      "[1] \"20094_0003\"\n",
      "An object of class Seurat \n",
      "36601 features across 6794880 samples within 1 assay \n",
      "Active assay: RNA (36601 features, 3000 variable features)\n",
      "[1] \"Renaming Cells\"\n",
      "[1] \"Seurat obj project 20094_0004\"\n",
      "[1] \"Got a total of mt-Genes: 13 MT-ND1, MT-ND2, MT-CO1, MT-CO2, MT-ATP8, MT-ATP6\"\n",
      "[1] \"Got a total of Rpl-Genes: 54 RPL22, RPL11, RPL5, RPL31, RPL37A, RPL32\"\n",
      "[1] \"Got a total of Rps-Genes: 49 RPS6KA1, RPS8, RPS27, RPS6KC1, RPS7, RPS27A\"\n",
      "[1] \"Got a total of Rp-Genes: 103 RPL22, RPL11, RPS6KA1, RPS8, RPL5, RPS27\"\n",
      "[1] \"20094_0004\"\n",
      "An object of class Seurat \n",
      "36601 features across 6794880 samples within 1 assay \n",
      "Active assay: RNA (36601 features, 3000 variable features)\n",
      "[1] \"Renaming Cells\"\n",
      "[1] \"Seurat obj project 20094_0005\"\n",
      "[1] \"Got a total of mt-Genes: 13 MT-ND1, MT-ND2, MT-CO1, MT-CO2, MT-ATP8, MT-ATP6\"\n",
      "[1] \"Got a total of Rpl-Genes: 54 RPL22, RPL11, RPL5, RPL31, RPL37A, RPL32\"\n",
      "[1] \"Got a total of Rps-Genes: 49 RPS6KA1, RPS8, RPS27, RPS6KC1, RPS7, RPS27A\"\n",
      "[1] \"Got a total of Rp-Genes: 103 RPL22, RPL11, RPS6KA1, RPS8, RPL5, RPS27\"\n",
      "[1] \"20094_0005\"\n",
      "An object of class Seurat \n",
      "36601 features across 6794880 samples within 1 assay \n",
      "Active assay: RNA (36601 features, 3000 variable features)\n",
      "[1] \"Renaming Cells\"\n",
      "[1] \"Seurat obj project 20094_0006\"\n",
      "[1] \"Got a total of mt-Genes: 13 MT-ND1, MT-ND2, MT-CO1, MT-CO2, MT-ATP8, MT-ATP6\"\n",
      "[1] \"Got a total of Rpl-Genes: 54 RPL22, RPL11, RPL5, RPL31, RPL37A, RPL32\"\n",
      "[1] \"Got a total of Rps-Genes: 49 RPS6KA1, RPS8, RPS27, RPS6KC1, RPS7, RPS27A\"\n",
      "[1] \"Got a total of Rp-Genes: 103 RPL22, RPL11, RPS6KA1, RPS8, RPL5, RPS27\"\n",
      "[1] \"20094_0006\"\n",
      "An object of class Seurat \n",
      "36601 features across 6794880 samples within 1 assay \n",
      "Active assay: RNA (36601 features, 3000 variable features)\n",
      "[1] \"Renaming Cells\"\n",
      "[1] \"Seurat obj project 20094_0007\"\n",
      "[1] \"Got a total of mt-Genes: 13 MT-ND1, MT-ND2, MT-CO1, MT-CO2, MT-ATP8, MT-ATP6\"\n",
      "[1] \"Got a total of Rpl-Genes: 54 RPL22, RPL11, RPL5, RPL31, RPL37A, RPL32\"\n",
      "[1] \"Got a total of Rps-Genes: 49 RPS6KA1, RPS8, RPS27, RPS6KC1, RPS7, RPS27A\"\n",
      "[1] \"Got a total of Rp-Genes: 103 RPL22, RPL11, RPS6KA1, RPS8, RPL5, RPS27\"\n",
      "[1] \"20094_0007\"\n",
      "An object of class Seurat \n",
      "36601 features across 6794880 samples within 1 assay \n",
      "Active assay: RNA (36601 features, 3000 variable features)\n",
      "[1] \"Renaming Cells\"\n",
      "[1] \"Seurat obj project 20094_0008\"\n",
      "[1] \"Got a total of mt-Genes: 13 MT-ND1, MT-ND2, MT-CO1, MT-CO2, MT-ATP8, MT-ATP6\"\n",
      "[1] \"Got a total of Rpl-Genes: 54 RPL22, RPL11, RPL5, RPL31, RPL37A, RPL32\"\n",
      "[1] \"Got a total of Rps-Genes: 49 RPS6KA1, RPS8, RPS27, RPS6KC1, RPS7, RPS27A\"\n",
      "[1] \"Got a total of Rp-Genes: 103 RPL22, RPL11, RPS6KA1, RPS8, RPL5, RPS27\"\n",
      "[1] \"20094_0008\"\n",
      "An object of class Seurat \n",
      "36601 features across 6794880 samples within 1 assay \n",
      "Active assay: RNA (36601 features, 3000 variable features)\n",
      "[1] \"Renaming Cells\"\n",
      "[1] \"Seurat obj project 20094_0009\"\n",
      "[1] \"Got a total of mt-Genes: 13 MT-ND1, MT-ND2, MT-CO1, MT-CO2, MT-ATP8, MT-ATP6\"\n",
      "[1] \"Got a total of Rpl-Genes: 54 RPL22, RPL11, RPL5, RPL31, RPL37A, RPL32\"\n",
      "[1] \"Got a total of Rps-Genes: 49 RPS6KA1, RPS8, RPS27, RPS6KC1, RPS7, RPS27A\"\n",
      "[1] \"Got a total of Rp-Genes: 103 RPL22, RPL11, RPS6KA1, RPS8, RPL5, RPS27\"\n",
      "[1] \"20094_0009\"\n",
      "An object of class Seurat \n",
      "36601 features across 6794880 samples within 1 assay \n",
      "Active assay: RNA (36601 features, 3000 variable features)\n",
      "[1] \"Renaming Cells\"\n",
      "[1] \"Seurat obj project 20094_0012\"\n",
      "[1] \"Got a total of mt-Genes: 13 MT-ND1, MT-ND2, MT-CO1, MT-CO2, MT-ATP8, MT-ATP6\"\n",
      "[1] \"Got a total of Rpl-Genes: 54 RPL22, RPL11, RPL5, RPL31, RPL37A, RPL32\"\n",
      "[1] \"Got a total of Rps-Genes: 49 RPS6KA1, RPS8, RPS27, RPS6KC1, RPS7, RPS27A\"\n",
      "[1] \"Got a total of Rp-Genes: 103 RPL22, RPL11, RPS6KA1, RPS8, RPL5, RPS27\"\n",
      "[1] \"20094_0012\"\n",
      "An object of class Seurat \n",
      "36601 features across 6794880 samples within 1 assay \n",
      "Active assay: RNA (36601 features, 3000 variable features)\n"
     ]
    }
   ],
   "source": [
    "\n",
    "objlist.raw = toObjList(inputMatrices, patternList_human(), 3000)\n",
    "\n"
   ]
  },
  {
   "cell_type": "code",
   "execution_count": 5,
   "id": "87ea6cec",
   "metadata": {},
   "outputs": [
    {
     "name": "stdout",
     "output_type": "stream",
     "text": [
      "[1] \"20094_0001\"\n"
     ]
    },
    {
     "name": "stderr",
     "output_type": "stream",
     "text": [
      "Rasterizing points since number of points exceeds 100,000.\n",
      "To disable this behavior set `raster=FALSE`\n",
      "\n",
      "Rasterizing points since number of points exceeds 100,000.\n",
      "To disable this behavior set `raster=FALSE`\n",
      "\n"
     ]
    },
    {
     "name": "stdout",
     "output_type": "stream",
     "text": [
      "[1] \"20094_0001_scatter_ncount_mt 10 6\"\n",
      "[1] \"Saving to file 20094_0001_scatter_ncount_mt.png\"\n"
     ]
    },
    {
     "ename": "ERROR",
     "evalue": "Error in draw.fun(plotobj): could not find function \"draw.fun\"\n",
     "output_type": "error",
     "traceback": [
      "Error in draw.fun(plotobj): could not find function \"draw.fun\"\nTraceback:\n",
      "1. scatterAndFilter(objlist.raw, nfeature_rna.lower = 100, nfeature_rna.upper = 6000, \n .     ncount_rna.lower = 500, percent_mt.upper = 7)",
      "2. save_plot(plot1 + plot2, paste(name, \"scatter_ncount_mt\", sep = \"_\"), \n .     fig.width = 10, fig.height = 6)"
     ]
    }
   ],
   "source": [
    "\n",
    "objlist = scatterAndFilter(objlist.raw, nfeature_rna.lower=100, nfeature_rna.upper=6000, ncount_rna.lower=500, percent_mt.upper=7)\n"
   ]
  },
  {
   "cell_type": "code",
   "execution_count": null,
   "id": "a5a35c3a",
   "metadata": {},
   "outputs": [],
   "source": [
    "\n",
    "print(\"cells per experiment\")\n",
    "print(mapply(sum, lapply(objlist, function(x) {dim(x)[2]})))\n",
    "print(\"total cells\")\n",
    "print(sum(mapply(sum, lapply(objlist, function(x) {dim(x)[2]}))))\n",
    "\n"
   ]
  },
  {
   "cell_type": "code",
   "execution_count": null,
   "id": "9656c790",
   "metadata": {},
   "outputs": [],
   "source": [
    "\n",
    "objlist.raw = NULL\n",
    "inputMatrices = NULL\n"
   ]
  },
  {
   "cell_type": "code",
   "execution_count": null,
   "id": "90e0d87a",
   "metadata": {},
   "outputs": [],
   "source": [
    "\n",
    "finalList = prepareIntegration(objlist, cc.use.genes = cc.genes, nfeatures.variable = 3000, nfeatures.scale=3000, run.parallel=FALSE)\n"
   ]
  },
  {
   "cell_type": "code",
   "execution_count": null,
   "id": "8541c70e",
   "metadata": {},
   "outputs": [],
   "source": [
    "\n",
    "integratedList_sample = performIntegration(finalList$data, \"libintegration\", features.integration = finalList$features, gex.method.normalization=\"LogNormalize\", gex.method.integration=\"rpca\", add.do=FALSE, run.parallel=FALSE)\n"
   ]
  },
  {
   "cell_type": "code",
   "execution_count": null,
   "id": "e12501d5",
   "metadata": {},
   "outputs": [],
   "source": [
    "\n",
    "ElbowPlot(integratedList_sample$integrated, ndims=30, reduction = \"igpca\")\n"
   ]
  },
  {
   "cell_type": "code",
   "execution_count": null,
   "id": "26b77730",
   "metadata": {
    "lines_to_next_cell": 2
   },
   "outputs": [],
   "source": [
    "\n",
    "obj.integrated = preprocessIntegrated(integratedList_sample$integrated, \"integrated_gex\", \"libintegration\",  resolution=0.5, num.pcs=10, dim.reduction=\"igpca\", with.hto=FALSE)\n",
    "\n"
   ]
  },
  {
   "cell_type": "code",
   "execution_count": null,
   "id": "23d9481a",
   "metadata": {
    "lines_to_next_cell": 2
   },
   "outputs": [],
   "source": [
    "obj.integrated@reductions$ig.umap = NULL"
   ]
  },
  {
   "cell_type": "code",
   "execution_count": null,
   "id": "9fb276a7",
   "metadata": {},
   "outputs": [],
   "source": [
    "DimPlot(obj.integrated, label=T)"
   ]
  },
  {
   "cell_type": "code",
   "execution_count": null,
   "id": "c172ba81",
   "metadata": {},
   "outputs": [],
   "source": [
    "\n",
    "df = read.table(\"samples2condition.df\", header = TRUE)\n",
    "df[order(df$SampleName),]\n"
   ]
  },
  {
   "cell_type": "code",
   "execution_count": null,
   "id": "bcdaebb2",
   "metadata": {
    "lines_to_next_cell": 0
   },
   "outputs": [],
   "source": [
    "\n",
    "annotateList.sample_condition = list(\n",
    "  list(name=\"SYMPTOMATIC\", selector=\"^20094_0001\"),\n",
    "  list(name=\"SYMPTOMATIC\", selector=\"^20094_0002\"),\n",
    "  list(name=\"SYMPTOMATIC\", selector=\"^20094_0003\"),\n",
    "  list(name=\"ASYMPTOMATIC\", selector=\"^20094_0004\"),\n",
    "  list(name=\"ASYMPTOMATIC\", selector=\"^20094_0005\"),\n",
    "  list(name=\"ASYMPTOMATIC\", selector=\"^20094_0006\"),\n",
    "  list(name=\"SYMPTOMATIC\", selector=\"^20094_0007\"),\n",
    "  list(name=\"SYMPTOMATIC\", selector=\"^20094_0008\"),\n",
    "  list(name=\"SYMPTOMATIC\", selector=\"^20094_0009\"),\n",
    "  list(name=\"CONTROL\", selector=\"^20094_0012\")\n",
    "\n",
    ")\n",
    "\n",
    "obj.integrated = annotateByCellnamePattern( obj.integrated, \"condition\", annotateList.sample_condition, order=c(\"CONTROL\", \"ASYMPTOMATIC\", \"SYMPTOMATIC\"))\n",
    "\n",
    "annotateList.sample_condition = list(\n",
    "  list(name=\"TP 1\", selector=\"^20094_0001\"),\n",
    "  list(name=\"TP 2\", selector=\"^20094_0002\"),\n",
    "  list(name=\"TP 3\", selector=\"^20094_0003\"),\n",
    "  list(name=\"TP 1\", selector=\"^20094_0004\"),\n",
    "  list(name=\"TP 2\", selector=\"^20094_0005\"),\n",
    "  list(name=\"TP 3\", selector=\"^20094_0006\"),\n",
    "  list(name=\"TP 1\", selector=\"^20094_0007\"),\n",
    "  list(name=\"TP 2\", selector=\"^20094_0008\"),\n",
    "  list(name=\"TP 3\", selector=\"^20094_0009\"),\n",
    "  list(name=\"Ctrl\", selector=\"^20094_0012\")\n",
    ")\n",
    "\n",
    "obj.integrated = annotateByCellnamePattern( obj.integrated, \"tp\", annotateList.sample_condition, order=c(\"Ctrl\", \"TP 1\", \"TP 2\", \"TP 3\"))\n",
    "\n"
   ]
  },
  {
   "cell_type": "code",
   "execution_count": null,
   "id": "5a2d5aeb",
   "metadata": {
    "fig.height": 20,
    "fig.width": 24,
    "lines_to_next_cell": 2
   },
   "outputs": [],
   "source": [
    "p=makeUMAPPlot(obj.integrated, dim1 = \"condition\", dim2=\"tp\", group.by=\"idents\", downsample = FALSE)\n",
    "save_plot(p, \"split_dimplot_downsample_no\", 24, 20)\n"
   ]
  },
  {
   "cell_type": "code",
   "execution_count": null,
   "id": "55b8abb0",
   "metadata": {
    "fig.height": 20,
    "fig.width": 24,
    "lines_to_next_cell": 2
   },
   "outputs": [],
   "source": [
    "p=makeUMAPPlot(obj.integrated, dim1 = \"condition\", dim2=\"tp\", group.by=\"idents\", downsample = TRUE)\n",
    "save_plot(p, \"split_dimplot_downsample\", 24, 20)\n",
    "\n"
   ]
  },
  {
   "cell_type": "code",
   "execution_count": null,
   "id": "e2509db2",
   "metadata": {},
   "outputs": [],
   "source": [
    "\n",
    "dir.create(\"libintegration/de\")\n",
    "\n",
    "exprdfTT = makeDEResults(obj.integrated, assay=\"RNA\", test=\"t\")\n",
    "write.table(exprdfTT, \"libintegration/de/expr_test_t.tsv\", sep=\"\\t\", row.names=F, quote = F)\n",
    "writexl::write_xlsx(exprdfTT, \"libintegration/de/expr_test_t.xlsx\")\n",
    "\n"
   ]
  },
  {
   "cell_type": "code",
   "execution_count": null,
   "id": "e9483966",
   "metadata": {
    "lines_to_next_cell": 2
   },
   "outputs": [],
   "source": [
    "FeaturePlot(obj.integrated, \"MT2A\")"
   ]
  },
  {
   "cell_type": "code",
   "execution_count": null,
   "id": "f8807ae2",
   "metadata": {},
   "outputs": [],
   "source": [
    "DefaultAssay(obj.integrated)= \"RNA\"\n",
    "\n",
    "isgGenes = c(\"MT2A\", \"ISG15\", \"LY6E\", \"IFIT1\", \"IFIT2\", \"IFIT3\", \"IFITM1\", \"IFITM3\", \"IFI44L\", \"IFI6\", \"MX1\", \"IFI27\",  \"IFI44L\", \"RSAD2\", \"SIGLEC1\", \"IFIT1\", \"ISG15\")\n",
    "\n",
    "obj.integrated = AddModuleScore(obj.integrated, features =  isgGenes, name = \"isg_score_small\")\n"
   ]
  },
  {
   "cell_type": "code",
   "execution_count": null,
   "id": "fa1007e7",
   "metadata": {
    "lines_to_next_cell": 0
   },
   "outputs": [],
   "source": [
    "FeaturePlot(obj.integrated, \"isg_score_small1\")\n"
   ]
  },
  {
   "cell_type": "markdown",
   "id": "621a6bc2",
   "metadata": {},
   "source": [
    "\n"
   ]
  },
  {
   "cell_type": "code",
   "execution_count": null,
   "id": "048239cd",
   "metadata": {
    "lines_to_next_cell": 0
   },
   "outputs": [],
   "source": [
    "obj.integrated$cond_tp = paste(obj.integrated$condition, obj.integrated$tp, sep=\" \")"
   ]
  },
  {
   "cell_type": "markdown",
   "id": "1336bfd6",
   "metadata": {},
   "source": [
    "\n"
   ]
  },
  {
   "cell_type": "code",
   "execution_count": null,
   "id": "23265937",
   "metadata": {
    "fig.height": 15,
    "fig.width": 30,
    "lines_to_next_cell": 0
   },
   "outputs": [],
   "source": [
    "p=splitFeaturePlot(obj.integrated, \"isg_score_small1\", split.by=\"cond_tp\", title=\"FeaturePlot\", ncol=4)\n",
    "save_plot(p, \"split_featureplot_isg\", 30, 15)\n"
   ]
  },
  {
   "cell_type": "markdown",
   "id": "748b091a",
   "metadata": {},
   "source": [
    "\n"
   ]
  },
  {
   "cell_type": "code",
   "execution_count": null,
   "id": "543cd533",
   "metadata": {
    "fig.height": 8,
    "fig.width": 12
   },
   "outputs": [],
   "source": [
    "\n",
    "p=comparativeVioBoxPlot(obj.integrated, \"isg_score_small1\", group.by=\"condition\", split.by=\"tp\", yStepIncrease = 1, verbose=FALSE)\n",
    "save_plot(p, \"comparative_violin_isg\", 12, 8)\n"
   ]
  },
  {
   "cell_type": "code",
   "execution_count": null,
   "id": "ea74ac61",
   "metadata": {
    "fig.height": 8,
    "fig.width": 12
   },
   "outputs": [],
   "source": [
    "\n",
    "dsrCols = list(\"Ctrl\"=\"steelblue4\", \"TP 1\"=\"darkred\", \"TP 2\"=\"chocolate2\", \"TP 3\"=\"darkseagreen3\")\n",
    "\n",
    "p=comparativeVioBoxPlot(obj.integrated, \"isg_score_small1\", group.by=\"condition\", split.by=\"tp\", yStepIncrease = 1, verbose=FALSE, dsrCols = dsrCols, boxplot_grey = \"ivory4\")\n",
    "save_plot(p, \"comparative_violin_isg_custom\", 12, 8)\n"
   ]
  },
  {
   "cell_type": "code",
   "execution_count": null,
   "id": "26eeb700",
   "metadata": {
    "lines_to_next_cell": 2
   },
   "outputs": [],
   "source": [
    "unique(obj.integrated$condition)"
   ]
  },
  {
   "cell_type": "code",
   "execution_count": null,
   "id": "4baa5224",
   "metadata": {
    "lines_to_next_cell": 2
   },
   "outputs": [],
   "source": [
    "\n",
    "dsrCols = list(\"Ctrl\"=\"steelblue4\", \"TP 1\"=\"darkred\", \"TP 2\"=\"chocolate2\", \"TP 3\"=\"darkseagreen3\")\n",
    "\n",
    "comparativeVioBoxPlot(subset(obj.integrated, condition==\"ASYMPTOMATIC\"), \"isg_score_small1\", group.by=\"condition\", split.by=\"tp\", yStepIncrease = 1, verbose=FALSE, dsrCols = dsrCols, boxplot_grey = \"ivory4\")\n"
   ]
  },
  {
   "cell_type": "code",
   "execution_count": null,
   "id": "fc3ff86f",
   "metadata": {
    "lines_to_next_cell": 2
   },
   "outputs": [],
   "source": [
    "obj.integrated = Seurat::ScaleData(obj.integrated)\n",
    "obj.integrated\n"
   ]
  },
  {
   "cell_type": "code",
   "execution_count": null,
   "id": "155cc29f",
   "metadata": {
    "lines_to_next_cell": 0
   },
   "outputs": [],
   "source": [
    "\n",
    "plotGOIs = list(\"1\"=list(\"clusters\"=c(0), \"genes\"=isgGenes))\n",
    "\n",
    "p=enhancedHeatMap(obj.integrated, plotGOIs, group.by=\"idents\", include_all_clusters = TRUE, title=\"Heatmap of ISG Genes\", scale.by=\"GLOBAL\")\n",
    "save_plot(p, \"heatmap_isg_genes\", 12, 8, save.data = FALSE, draw.fun=ComplexHeatmap::draw)"
   ]
  },
  {
   "cell_type": "markdown",
   "id": "a72effb1",
   "metadata": {},
   "source": [
    "\n"
   ]
  },
  {
   "cell_type": "code",
   "execution_count": null,
   "id": "d78b67fd",
   "metadata": {},
   "outputs": [],
   "source": [
    "\n",
    "plotGOIs = list(\"1\"=list(\"clusters\"=c(0), \"genes\"=isgGenes))\n",
    "\n",
    "p=enhancedHeatMap(obj.integrated, plotGOIs, group.by=\"idents\", include_all_clusters = TRUE, title=\"Heatmap of ISG Genes\", scale.by=\"ALL\")\n",
    "save_plot(p, \"heatmap_isg_genes_ALL\", 12, 8, save.data = FALSE, draw.fun=ComplexHeatmap::draw)\n",
    "\n"
   ]
  },
  {
   "cell_type": "code",
   "execution_count": null,
   "id": "0f5b460e",
   "metadata": {
    "fig.height": 10,
    "fig.width": 30,
    "lines_to_next_cell": 2
   },
   "outputs": [],
   "source": [
    "\n",
    "p=makeComplexExprHeatmapSplit(obj.integrated, plotGOIs, group.by=\"idents\", split.by=\"condition\", include_all_clusters = TRUE, title=\"Heatmap of ISG Genes\", scale.by=\"GLOBAL\")\n",
    "save_plot(p, \"heatmap_split_isg_genes\", 30, 10, save.data = FALSE, draw.fun=ComplexHeatmap::draw)\n",
    "\n"
   ]
  },
  {
   "cell_type": "code",
   "execution_count": null,
   "id": "134f322a",
   "metadata": {
    "fig.height": 10,
    "fig.width": 30,
    "lines_to_next_cell": 2
   },
   "outputs": [],
   "source": [
    "\n",
    "p=makeComplexExprHeatmapSplit(obj.integrated, plotGOIs, group.by=\"idents\", split.by=\"condition\", include_all_clusters = TRUE, title=\"Heatmap of ISG Genes\", scale.by=\"ALL\")\n",
    "save_plot(p, \"heatmap_split_isg_genes_ALL\", 30, 10, save.data = FALSE, draw.fun=ComplexHeatmap::draw)\n",
    "\n"
   ]
  },
  {
   "cell_type": "code",
   "execution_count": null,
   "id": "ae9aca89",
   "metadata": {
    "fig.height": 10,
    "fig.width": 30,
    "lines_to_next_cell": 2
   },
   "outputs": [],
   "source": [
    "\n",
    "\n",
    "p=makeComplexExprHeatmapSplit(obj.integrated, plotGOIs, group.by=\"idents\", split.by=\"condition\", include_all_clusters = TRUE, title=\"Heatmap of ISG Genes\", scale.by=\"GROUP\")\n",
    "save_plot(p, \"heatmap_split_isg_genes_GROUP\", 30, 10, save.data = FALSE, draw.fun=ComplexHeatmap::draw)\n",
    "\n"
   ]
  },
  {
   "cell_type": "code",
   "execution_count": null,
   "id": "fc5d093b",
   "metadata": {
    "fig.height": 12,
    "fig.width": 16
   },
   "outputs": [],
   "source": [
    "\n",
    "cells.control = cellIDForClusters(obj.integrated, \"condition\", c(\"CONTROL\"))\n",
    "cells.symptomatic = cellIDForClusters(obj.integrated, \"condition\", c(\"SYMPTOMATIC\"))\n",
    "cells.asymptomatic = cellIDForClusters(obj.integrated, \"condition\", c(\"ASYMPTOMATIC\"))\n",
    "\n",
    "plotElems = list()\n",
    "plotElems[[\"Control\"]] = list(cells=intersect(cells.control, cells.control), label=\"Control\")\n",
    "plotElems[[\"Symptomatic\"]] = list(cells=intersect(cells.symptomatic,cells.symptomatic), label=\"Symptomatic\")\n",
    "plotElems[[\"Asymptomatic\"]] = list(cells=intersect(cells.asymptomatic,cells.asymptomatic), label=\"Asymptomatic\")\n",
    "\n",
    "p=enhancedDotPlot(obj.integrated, plotElems, featureGenes = isgGenes, group.by=\"idents\", title=\"DotPlot of ISG Genes\", scale.by=\"ALL\", rotate.x = T)\n",
    "save_plot(p, \"edotplot_split_isg_genes_ALL\", 30, 10, save.data = FALSE)\n",
    "\n"
   ]
  },
  {
   "cell_type": "code",
   "execution_count": null,
   "id": "22cc6ed9",
   "metadata": {
    "fig.height": 12,
    "fig.width": 16,
    "lines_to_next_cell": 2
   },
   "outputs": [],
   "source": [
    "\n",
    "p=enhancedDotPlot(obj.integrated, plotElems, featureGenes = isgGenes, group.by=\"idents\", title=\"DotPlot of ISG Genes\", scale.by=\"GLOBAL\", rotate.x = T)\n",
    "save_plot(p, \"edotplot_split_isg_genes_GLOBAL\", 30, 10, save.data = FALSE)\n",
    "\n"
   ]
  },
  {
   "cell_type": "code",
   "execution_count": null,
   "id": "9c24aec8",
   "metadata": {
    "fig.height": 12,
    "fig.width": 16
   },
   "outputs": [],
   "source": [
    "\n",
    "p=enhancedDotPlot(obj.integrated, plotElems, featureGenes = isgGenes, group.by=\"idents\", title=\"DotPlot of ISG Genes\", scale.by=\"GROUP\",rotate.x = T)\n",
    "save_plot(p, \"edotplot_split_isg_genes_GROUP\", 30, 10, save.data = FALSE)\n",
    "\n"
   ]
  },
  {
   "cell_type": "code",
   "execution_count": null,
   "id": "ac52eab5",
   "metadata": {
    "fig.height": 12,
    "fig.width": 16,
    "lines_to_next_cell": 0
   },
   "outputs": [],
   "source": [
    "\n",
    "p=enhancedDotPlot(obj.integrated, plotElems, featureGenes = isgGenes, group.by=\"idents\", title=\"DotPlot of ISG Genes\", scale.by=\"FEATURE\", rotate.x=TRUE)\n",
    "save_plot(p, \"edotplot_split_isg_genes_FEATURE\", 30, 10, save.data = FALSE)\n",
    "\n"
   ]
  },
  {
   "cell_type": "markdown",
   "id": "111999e9",
   "metadata": {},
   "source": [
    "\n"
   ]
  },
  {
   "cell_type": "code",
   "execution_count": null,
   "id": "54514f82",
   "metadata": {
    "lines_to_next_cell": 0
   },
   "outputs": [],
   "source": [
    "\n",
    "cells.tp1 = cellIDForClusters(obj.integrated, \"tp\", c(\"TP 1\"))\n",
    "\n",
    "comparison.sympt_asympt = compareCellsByCluster(obj.integrated, intersect(cells.symptomatic, cells.tp1), intersect(cells.asymptomatic, cells.tp1), \"symptomatic\", \"asymptomatic\", outfolder=\"./de\", group.by=\"idents\", heatmap.plot=TRUE)\n"
   ]
  },
  {
   "cell_type": "markdown",
   "id": "125fe551",
   "metadata": {},
   "source": [
    "\n"
   ]
  },
  {
   "cell_type": "code",
   "execution_count": null,
   "id": "b5628775",
   "metadata": {
    "lines_to_next_cell": 0
   },
   "outputs": [],
   "source": [
    "\n",
    "makeVolcanos(comparison.sympt_asympt, \"Comparison Symptomatic vs. Asymptoamtic\", \"./de_volcanos/sympt_asympt_tp1\", FCcutoff=0.25)\n"
   ]
  },
  {
   "cell_type": "markdown",
   "id": "e901d082",
   "metadata": {},
   "source": [
    "\n"
   ]
  },
  {
   "cell_type": "code",
   "execution_count": null,
   "id": "9983be81",
   "metadata": {},
   "outputs": [],
   "source": [
    "\n",
    "gseResults = performEnrichtmentAnalysis(obj.integrated, comparison.sympt_asympt, \"human\", \"./gse_results.rds\")\n",
    "\n"
   ]
  },
  {
   "cell_type": "code",
   "execution_count": null,
   "id": "0bfa8563",
   "metadata": {
    "lines_to_next_cell": 0
   },
   "outputs": [],
   "source": [
    "\n",
    "makeEnrichmentPlots( gseResults, outfolder = \"enrichment_plots/\" )\n",
    "\n"
   ]
  },
  {
   "cell_type": "markdown",
   "id": "61fcf49d",
   "metadata": {},
   "source": [
    "\n",
    "\n",
    "\n",
    "\n",
    "\n",
    "\n",
    "\n"
   ]
  }
 ],
 "metadata": {
  "jupytext": {
   "cell_metadata_filter": "fig.width,fig.height,-all",
   "main_language": "R",
   "notebook_metadata_filter": "-all"
  },
  "kernelspec": {
   "display_name": "R",
   "language": "R",
   "name": "ir"
  },
  "language_info": {
   "codemirror_mode": "r",
   "file_extension": ".r",
   "mimetype": "text/x-r-source",
   "name": "R",
   "pygments_lexer": "r",
   "version": "4.3.1"
  }
 },
 "nbformat": 4,
 "nbformat_minor": 5
}
